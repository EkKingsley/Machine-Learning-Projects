{
 "cells": [
  {
   "cell_type": "markdown",
   "id": "weekly-billy",
   "metadata": {},
   "source": [
    "# Data Analysis with Python on Cars Dataset"
   ]
  },
  {
   "cell_type": "markdown",
   "id": "individual-following",
   "metadata": {},
   "source": [
    "Import packages"
   ]
  },
  {
   "cell_type": "code",
   "execution_count": 1,
   "id": "essential-gibraltar",
   "metadata": {},
   "outputs": [],
   "source": [
    "import pandas as pd\n",
    "import numpy as np\n",
    "import matplotlib.pyplot as plt\n",
    "import seaborn as sns\n",
    "\n",
    "%matplotlib inline"
   ]
  },
  {
   "cell_type": "markdown",
   "id": "straight-carolina",
   "metadata": {},
   "source": [
    "Import data"
   ]
  },
  {
   "cell_type": "code",
   "execution_count": 2,
   "id": "naughty-repeat",
   "metadata": {},
   "outputs": [
    {
     "data": {
      "text/html": [
       "<div>\n",
       "<style scoped>\n",
       "    .dataframe tbody tr th:only-of-type {\n",
       "        vertical-align: middle;\n",
       "    }\n",
       "\n",
       "    .dataframe tbody tr th {\n",
       "        vertical-align: top;\n",
       "    }\n",
       "\n",
       "    .dataframe thead th {\n",
       "        text-align: right;\n",
       "    }\n",
       "</style>\n",
       "<table border=\"1\" class=\"dataframe\">\n",
       "  <thead>\n",
       "    <tr style=\"text-align: right;\">\n",
       "      <th></th>\n",
       "      <th>Make</th>\n",
       "      <th>Model</th>\n",
       "      <th>Type</th>\n",
       "      <th>Origin</th>\n",
       "      <th>DriveTrain</th>\n",
       "      <th>MSRP</th>\n",
       "      <th>Invoice</th>\n",
       "      <th>EngineSize</th>\n",
       "      <th>Cylinders</th>\n",
       "      <th>Horsepower</th>\n",
       "      <th>MPG_City</th>\n",
       "      <th>MPG_Highway</th>\n",
       "      <th>Weight</th>\n",
       "      <th>Wheelbase</th>\n",
       "      <th>Length</th>\n",
       "    </tr>\n",
       "  </thead>\n",
       "  <tbody>\n",
       "    <tr>\n",
       "      <th>0</th>\n",
       "      <td>Acura</td>\n",
       "      <td>MDX</td>\n",
       "      <td>SUV</td>\n",
       "      <td>Asia</td>\n",
       "      <td>All</td>\n",
       "      <td>$36,945</td>\n",
       "      <td>$33,337</td>\n",
       "      <td>3.5</td>\n",
       "      <td>6.0</td>\n",
       "      <td>265.0</td>\n",
       "      <td>17.0</td>\n",
       "      <td>23.0</td>\n",
       "      <td>4451.0</td>\n",
       "      <td>106.0</td>\n",
       "      <td>189.0</td>\n",
       "    </tr>\n",
       "    <tr>\n",
       "      <th>1</th>\n",
       "      <td>Acura</td>\n",
       "      <td>RSX Type S 2dr</td>\n",
       "      <td>Sedan</td>\n",
       "      <td>Asia</td>\n",
       "      <td>Front</td>\n",
       "      <td>$23,820</td>\n",
       "      <td>$21,761</td>\n",
       "      <td>2.0</td>\n",
       "      <td>4.0</td>\n",
       "      <td>200.0</td>\n",
       "      <td>24.0</td>\n",
       "      <td>31.0</td>\n",
       "      <td>2778.0</td>\n",
       "      <td>101.0</td>\n",
       "      <td>172.0</td>\n",
       "    </tr>\n",
       "    <tr>\n",
       "      <th>2</th>\n",
       "      <td>Acura</td>\n",
       "      <td>TSX 4dr</td>\n",
       "      <td>Sedan</td>\n",
       "      <td>Asia</td>\n",
       "      <td>Front</td>\n",
       "      <td>$26,990</td>\n",
       "      <td>$24,647</td>\n",
       "      <td>2.4</td>\n",
       "      <td>4.0</td>\n",
       "      <td>200.0</td>\n",
       "      <td>22.0</td>\n",
       "      <td>29.0</td>\n",
       "      <td>3230.0</td>\n",
       "      <td>105.0</td>\n",
       "      <td>183.0</td>\n",
       "    </tr>\n",
       "    <tr>\n",
       "      <th>3</th>\n",
       "      <td>Acura</td>\n",
       "      <td>TL 4dr</td>\n",
       "      <td>Sedan</td>\n",
       "      <td>Asia</td>\n",
       "      <td>Front</td>\n",
       "      <td>$33,195</td>\n",
       "      <td>$30,299</td>\n",
       "      <td>3.2</td>\n",
       "      <td>6.0</td>\n",
       "      <td>270.0</td>\n",
       "      <td>20.0</td>\n",
       "      <td>28.0</td>\n",
       "      <td>3575.0</td>\n",
       "      <td>108.0</td>\n",
       "      <td>186.0</td>\n",
       "    </tr>\n",
       "    <tr>\n",
       "      <th>4</th>\n",
       "      <td>Acura</td>\n",
       "      <td>3.5 RL 4dr</td>\n",
       "      <td>Sedan</td>\n",
       "      <td>Asia</td>\n",
       "      <td>Front</td>\n",
       "      <td>$43,755</td>\n",
       "      <td>$39,014</td>\n",
       "      <td>3.5</td>\n",
       "      <td>6.0</td>\n",
       "      <td>225.0</td>\n",
       "      <td>18.0</td>\n",
       "      <td>24.0</td>\n",
       "      <td>3880.0</td>\n",
       "      <td>115.0</td>\n",
       "      <td>197.0</td>\n",
       "    </tr>\n",
       "  </tbody>\n",
       "</table>\n",
       "</div>"
      ],
      "text/plain": [
       "    Make           Model   Type Origin DriveTrain      MSRP   Invoice  \\\n",
       "0  Acura             MDX    SUV   Asia        All  $36,945   $33,337    \n",
       "1  Acura  RSX Type S 2dr  Sedan   Asia      Front  $23,820   $21,761    \n",
       "2  Acura         TSX 4dr  Sedan   Asia      Front  $26,990   $24,647    \n",
       "3  Acura          TL 4dr  Sedan   Asia      Front  $33,195   $30,299    \n",
       "4  Acura      3.5 RL 4dr  Sedan   Asia      Front  $43,755   $39,014    \n",
       "\n",
       "   EngineSize  Cylinders  Horsepower  MPG_City  MPG_Highway  Weight  \\\n",
       "0         3.5        6.0       265.0      17.0         23.0  4451.0   \n",
       "1         2.0        4.0       200.0      24.0         31.0  2778.0   \n",
       "2         2.4        4.0       200.0      22.0         29.0  3230.0   \n",
       "3         3.2        6.0       270.0      20.0         28.0  3575.0   \n",
       "4         3.5        6.0       225.0      18.0         24.0  3880.0   \n",
       "\n",
       "   Wheelbase  Length  \n",
       "0      106.0   189.0  \n",
       "1      101.0   172.0  \n",
       "2      105.0   183.0  \n",
       "3      108.0   186.0  \n",
       "4      115.0   197.0  "
      ]
     },
     "execution_count": 2,
     "metadata": {},
     "output_type": "execute_result"
    }
   ],
   "source": [
    "data = pd.read_csv('cars_data.csv')\n",
    "data.head()"
   ]
  },
  {
   "cell_type": "markdown",
   "id": "norwegian-weather",
   "metadata": {},
   "source": [
    "#### Data Inspection"
   ]
  },
  {
   "cell_type": "code",
   "execution_count": 3,
   "id": "indian-density",
   "metadata": {},
   "outputs": [
    {
     "data": {
      "text/plain": [
       "(432, 15)"
      ]
     },
     "execution_count": 3,
     "metadata": {},
     "output_type": "execute_result"
    }
   ],
   "source": [
    "data.shape"
   ]
  },
  {
   "cell_type": "code",
   "execution_count": 4,
   "id": "partial-fellow",
   "metadata": {},
   "outputs": [
    {
     "data": {
      "text/plain": [
       "Index(['Make', 'Model', 'Type', 'Origin', 'DriveTrain', 'MSRP', 'Invoice',\n",
       "       'EngineSize', 'Cylinders', 'Horsepower', 'MPG_City', 'MPG_Highway',\n",
       "       'Weight', 'Wheelbase', 'Length'],\n",
       "      dtype='object')"
      ]
     },
     "execution_count": 4,
     "metadata": {},
     "output_type": "execute_result"
    }
   ],
   "source": [
    "data.columns"
   ]
  },
  {
   "cell_type": "markdown",
   "id": "protected-straight",
   "metadata": {},
   "source": [
    "converting data columns to lower case"
   ]
  },
  {
   "cell_type": "code",
   "execution_count": 5,
   "id": "incorporate-camcorder",
   "metadata": {},
   "outputs": [
    {
     "data": {
      "text/plain": [
       "Index(['make', 'model', 'type', 'origin', 'drivetrain', 'msrp', 'invoice',\n",
       "       'enginesize', 'cylinders', 'horsepower', 'mpg_city', 'mpg_highway',\n",
       "       'weight', 'wheelbase', 'length'],\n",
       "      dtype='object')"
      ]
     },
     "execution_count": 5,
     "metadata": {},
     "output_type": "execute_result"
    }
   ],
   "source": [
    "data.columns = data.columns.str.lower()\n",
    "data.columns"
   ]
  },
  {
   "cell_type": "code",
   "execution_count": 6,
   "id": "exceptional-radiation",
   "metadata": {},
   "outputs": [
    {
     "name": "stdout",
     "output_type": "stream",
     "text": [
      "<class 'pandas.core.frame.DataFrame'>\n",
      "RangeIndex: 432 entries, 0 to 431\n",
      "Data columns (total 15 columns):\n",
      " #   Column       Non-Null Count  Dtype  \n",
      "---  ------       --------------  -----  \n",
      " 0   make         428 non-null    object \n",
      " 1   model        428 non-null    object \n",
      " 2   type         428 non-null    object \n",
      " 3   origin       428 non-null    object \n",
      " 4   drivetrain   428 non-null    object \n",
      " 5   msrp         428 non-null    object \n",
      " 6   invoice      428 non-null    object \n",
      " 7   enginesize   428 non-null    float64\n",
      " 8   cylinders    426 non-null    float64\n",
      " 9   horsepower   428 non-null    float64\n",
      " 10  mpg_city     428 non-null    float64\n",
      " 11  mpg_highway  428 non-null    float64\n",
      " 12  weight       428 non-null    float64\n",
      " 13  wheelbase    428 non-null    float64\n",
      " 14  length       428 non-null    float64\n",
      "dtypes: float64(8), object(7)\n",
      "memory usage: 50.8+ KB\n"
     ]
    }
   ],
   "source": [
    "data.info()"
   ]
  },
  {
   "cell_type": "markdown",
   "id": "computational-contents",
   "metadata": {},
   "source": [
    "Inspecting numerical data"
   ]
  },
  {
   "cell_type": "code",
   "execution_count": 7,
   "id": "enormous-harrison",
   "metadata": {},
   "outputs": [
    {
     "data": {
      "text/html": [
       "<div>\n",
       "<style scoped>\n",
       "    .dataframe tbody tr th:only-of-type {\n",
       "        vertical-align: middle;\n",
       "    }\n",
       "\n",
       "    .dataframe tbody tr th {\n",
       "        vertical-align: top;\n",
       "    }\n",
       "\n",
       "    .dataframe thead th {\n",
       "        text-align: right;\n",
       "    }\n",
       "</style>\n",
       "<table border=\"1\" class=\"dataframe\">\n",
       "  <thead>\n",
       "    <tr style=\"text-align: right;\">\n",
       "      <th></th>\n",
       "      <th>enginesize</th>\n",
       "      <th>cylinders</th>\n",
       "      <th>horsepower</th>\n",
       "      <th>mpg_city</th>\n",
       "      <th>mpg_highway</th>\n",
       "      <th>weight</th>\n",
       "      <th>wheelbase</th>\n",
       "      <th>length</th>\n",
       "    </tr>\n",
       "  </thead>\n",
       "  <tbody>\n",
       "    <tr>\n",
       "      <th>count</th>\n",
       "      <td>428.000000</td>\n",
       "      <td>426.000000</td>\n",
       "      <td>428.000000</td>\n",
       "      <td>428.000000</td>\n",
       "      <td>428.000000</td>\n",
       "      <td>428.000000</td>\n",
       "      <td>428.000000</td>\n",
       "      <td>428.000000</td>\n",
       "    </tr>\n",
       "    <tr>\n",
       "      <th>mean</th>\n",
       "      <td>3.196729</td>\n",
       "      <td>5.807512</td>\n",
       "      <td>215.885514</td>\n",
       "      <td>20.060748</td>\n",
       "      <td>26.843458</td>\n",
       "      <td>3577.953271</td>\n",
       "      <td>108.154206</td>\n",
       "      <td>186.362150</td>\n",
       "    </tr>\n",
       "    <tr>\n",
       "      <th>std</th>\n",
       "      <td>1.108595</td>\n",
       "      <td>1.558443</td>\n",
       "      <td>71.836032</td>\n",
       "      <td>5.238218</td>\n",
       "      <td>5.741201</td>\n",
       "      <td>758.983215</td>\n",
       "      <td>8.311813</td>\n",
       "      <td>14.357991</td>\n",
       "    </tr>\n",
       "    <tr>\n",
       "      <th>min</th>\n",
       "      <td>1.300000</td>\n",
       "      <td>3.000000</td>\n",
       "      <td>73.000000</td>\n",
       "      <td>10.000000</td>\n",
       "      <td>12.000000</td>\n",
       "      <td>1850.000000</td>\n",
       "      <td>89.000000</td>\n",
       "      <td>143.000000</td>\n",
       "    </tr>\n",
       "    <tr>\n",
       "      <th>25%</th>\n",
       "      <td>2.375000</td>\n",
       "      <td>4.000000</td>\n",
       "      <td>165.000000</td>\n",
       "      <td>17.000000</td>\n",
       "      <td>24.000000</td>\n",
       "      <td>3104.000000</td>\n",
       "      <td>103.000000</td>\n",
       "      <td>178.000000</td>\n",
       "    </tr>\n",
       "    <tr>\n",
       "      <th>50%</th>\n",
       "      <td>3.000000</td>\n",
       "      <td>6.000000</td>\n",
       "      <td>210.000000</td>\n",
       "      <td>19.000000</td>\n",
       "      <td>26.000000</td>\n",
       "      <td>3474.500000</td>\n",
       "      <td>107.000000</td>\n",
       "      <td>187.000000</td>\n",
       "    </tr>\n",
       "    <tr>\n",
       "      <th>75%</th>\n",
       "      <td>3.900000</td>\n",
       "      <td>6.000000</td>\n",
       "      <td>255.000000</td>\n",
       "      <td>21.250000</td>\n",
       "      <td>29.000000</td>\n",
       "      <td>3977.750000</td>\n",
       "      <td>112.000000</td>\n",
       "      <td>194.000000</td>\n",
       "    </tr>\n",
       "    <tr>\n",
       "      <th>max</th>\n",
       "      <td>8.300000</td>\n",
       "      <td>12.000000</td>\n",
       "      <td>500.000000</td>\n",
       "      <td>60.000000</td>\n",
       "      <td>66.000000</td>\n",
       "      <td>7190.000000</td>\n",
       "      <td>144.000000</td>\n",
       "      <td>238.000000</td>\n",
       "    </tr>\n",
       "  </tbody>\n",
       "</table>\n",
       "</div>"
      ],
      "text/plain": [
       "       enginesize   cylinders  horsepower    mpg_city  mpg_highway  \\\n",
       "count  428.000000  426.000000  428.000000  428.000000   428.000000   \n",
       "mean     3.196729    5.807512  215.885514   20.060748    26.843458   \n",
       "std      1.108595    1.558443   71.836032    5.238218     5.741201   \n",
       "min      1.300000    3.000000   73.000000   10.000000    12.000000   \n",
       "25%      2.375000    4.000000  165.000000   17.000000    24.000000   \n",
       "50%      3.000000    6.000000  210.000000   19.000000    26.000000   \n",
       "75%      3.900000    6.000000  255.000000   21.250000    29.000000   \n",
       "max      8.300000   12.000000  500.000000   60.000000    66.000000   \n",
       "\n",
       "            weight   wheelbase      length  \n",
       "count   428.000000  428.000000  428.000000  \n",
       "mean   3577.953271  108.154206  186.362150  \n",
       "std     758.983215    8.311813   14.357991  \n",
       "min    1850.000000   89.000000  143.000000  \n",
       "25%    3104.000000  103.000000  178.000000  \n",
       "50%    3474.500000  107.000000  187.000000  \n",
       "75%    3977.750000  112.000000  194.000000  \n",
       "max    7190.000000  144.000000  238.000000  "
      ]
     },
     "execution_count": 7,
     "metadata": {},
     "output_type": "execute_result"
    }
   ],
   "source": [
    "data.describe(include=[np.number])"
   ]
  },
  {
   "cell_type": "markdown",
   "id": "collaborative-upgrade",
   "metadata": {},
   "source": [
    "Inspecting categorical data"
   ]
  },
  {
   "cell_type": "code",
   "execution_count": 8,
   "id": "waiting-squad",
   "metadata": {},
   "outputs": [
    {
     "data": {
      "text/html": [
       "<div>\n",
       "<style scoped>\n",
       "    .dataframe tbody tr th:only-of-type {\n",
       "        vertical-align: middle;\n",
       "    }\n",
       "\n",
       "    .dataframe tbody tr th {\n",
       "        vertical-align: top;\n",
       "    }\n",
       "\n",
       "    .dataframe thead th {\n",
       "        text-align: right;\n",
       "    }\n",
       "</style>\n",
       "<table border=\"1\" class=\"dataframe\">\n",
       "  <thead>\n",
       "    <tr style=\"text-align: right;\">\n",
       "      <th></th>\n",
       "      <th>make</th>\n",
       "      <th>model</th>\n",
       "      <th>type</th>\n",
       "      <th>origin</th>\n",
       "      <th>drivetrain</th>\n",
       "      <th>msrp</th>\n",
       "      <th>invoice</th>\n",
       "    </tr>\n",
       "  </thead>\n",
       "  <tbody>\n",
       "    <tr>\n",
       "      <th>count</th>\n",
       "      <td>428</td>\n",
       "      <td>428</td>\n",
       "      <td>428</td>\n",
       "      <td>428</td>\n",
       "      <td>428</td>\n",
       "      <td>428</td>\n",
       "      <td>428</td>\n",
       "    </tr>\n",
       "    <tr>\n",
       "      <th>unique</th>\n",
       "      <td>38</td>\n",
       "      <td>425</td>\n",
       "      <td>6</td>\n",
       "      <td>3</td>\n",
       "      <td>3</td>\n",
       "      <td>410</td>\n",
       "      <td>425</td>\n",
       "    </tr>\n",
       "    <tr>\n",
       "      <th>top</th>\n",
       "      <td>Toyota</td>\n",
       "      <td>C240 4dr</td>\n",
       "      <td>Sedan</td>\n",
       "      <td>Asia</td>\n",
       "      <td>Front</td>\n",
       "      <td>$25,700</td>\n",
       "      <td>$68,306</td>\n",
       "    </tr>\n",
       "    <tr>\n",
       "      <th>freq</th>\n",
       "      <td>28</td>\n",
       "      <td>2</td>\n",
       "      <td>262</td>\n",
       "      <td>158</td>\n",
       "      <td>226</td>\n",
       "      <td>2</td>\n",
       "      <td>2</td>\n",
       "    </tr>\n",
       "  </tbody>\n",
       "</table>\n",
       "</div>"
      ],
      "text/plain": [
       "          make     model   type origin drivetrain      msrp   invoice\n",
       "count      428       428    428    428        428       428       428\n",
       "unique      38       425      6      3          3       410       425\n",
       "top     Toyota  C240 4dr  Sedan   Asia      Front  $25,700   $68,306 \n",
       "freq        28         2    262    158        226         2         2"
      ]
     },
     "execution_count": 8,
     "metadata": {},
     "output_type": "execute_result"
    }
   ],
   "source": [
    "data.describe(include=['O'])"
   ]
  },
  {
   "cell_type": "markdown",
   "id": "environmental-immigration",
   "metadata": {},
   "source": [
    "#### Inspecting missing data"
   ]
  },
  {
   "cell_type": "code",
   "execution_count": 9,
   "id": "younger-library",
   "metadata": {},
   "outputs": [
    {
     "data": {
      "text/html": [
       "<div>\n",
       "<style scoped>\n",
       "    .dataframe tbody tr th:only-of-type {\n",
       "        vertical-align: middle;\n",
       "    }\n",
       "\n",
       "    .dataframe tbody tr th {\n",
       "        vertical-align: top;\n",
       "    }\n",
       "\n",
       "    .dataframe thead th {\n",
       "        text-align: right;\n",
       "    }\n",
       "</style>\n",
       "<table border=\"1\" class=\"dataframe\">\n",
       "  <thead>\n",
       "    <tr style=\"text-align: right;\">\n",
       "      <th></th>\n",
       "      <th>missing</th>\n",
       "      <th>total</th>\n",
       "      <th>percent</th>\n",
       "    </tr>\n",
       "  </thead>\n",
       "  <tbody>\n",
       "    <tr>\n",
       "      <th>cylinders</th>\n",
       "      <td>6</td>\n",
       "      <td>432</td>\n",
       "      <td>1.388889</td>\n",
       "    </tr>\n",
       "    <tr>\n",
       "      <th>make</th>\n",
       "      <td>4</td>\n",
       "      <td>432</td>\n",
       "      <td>0.925926</td>\n",
       "    </tr>\n",
       "    <tr>\n",
       "      <th>model</th>\n",
       "      <td>4</td>\n",
       "      <td>432</td>\n",
       "      <td>0.925926</td>\n",
       "    </tr>\n",
       "    <tr>\n",
       "      <th>type</th>\n",
       "      <td>4</td>\n",
       "      <td>432</td>\n",
       "      <td>0.925926</td>\n",
       "    </tr>\n",
       "    <tr>\n",
       "      <th>origin</th>\n",
       "      <td>4</td>\n",
       "      <td>432</td>\n",
       "      <td>0.925926</td>\n",
       "    </tr>\n",
       "    <tr>\n",
       "      <th>drivetrain</th>\n",
       "      <td>4</td>\n",
       "      <td>432</td>\n",
       "      <td>0.925926</td>\n",
       "    </tr>\n",
       "    <tr>\n",
       "      <th>msrp</th>\n",
       "      <td>4</td>\n",
       "      <td>432</td>\n",
       "      <td>0.925926</td>\n",
       "    </tr>\n",
       "    <tr>\n",
       "      <th>invoice</th>\n",
       "      <td>4</td>\n",
       "      <td>432</td>\n",
       "      <td>0.925926</td>\n",
       "    </tr>\n",
       "    <tr>\n",
       "      <th>enginesize</th>\n",
       "      <td>4</td>\n",
       "      <td>432</td>\n",
       "      <td>0.925926</td>\n",
       "    </tr>\n",
       "    <tr>\n",
       "      <th>horsepower</th>\n",
       "      <td>4</td>\n",
       "      <td>432</td>\n",
       "      <td>0.925926</td>\n",
       "    </tr>\n",
       "    <tr>\n",
       "      <th>mpg_city</th>\n",
       "      <td>4</td>\n",
       "      <td>432</td>\n",
       "      <td>0.925926</td>\n",
       "    </tr>\n",
       "    <tr>\n",
       "      <th>mpg_highway</th>\n",
       "      <td>4</td>\n",
       "      <td>432</td>\n",
       "      <td>0.925926</td>\n",
       "    </tr>\n",
       "    <tr>\n",
       "      <th>weight</th>\n",
       "      <td>4</td>\n",
       "      <td>432</td>\n",
       "      <td>0.925926</td>\n",
       "    </tr>\n",
       "    <tr>\n",
       "      <th>wheelbase</th>\n",
       "      <td>4</td>\n",
       "      <td>432</td>\n",
       "      <td>0.925926</td>\n",
       "    </tr>\n",
       "    <tr>\n",
       "      <th>length</th>\n",
       "      <td>4</td>\n",
       "      <td>432</td>\n",
       "      <td>0.925926</td>\n",
       "    </tr>\n",
       "  </tbody>\n",
       "</table>\n",
       "</div>"
      ],
      "text/plain": [
       "             missing  total   percent\n",
       "cylinders          6    432  1.388889\n",
       "make               4    432  0.925926\n",
       "model              4    432  0.925926\n",
       "type               4    432  0.925926\n",
       "origin             4    432  0.925926\n",
       "drivetrain         4    432  0.925926\n",
       "msrp               4    432  0.925926\n",
       "invoice            4    432  0.925926\n",
       "enginesize         4    432  0.925926\n",
       "horsepower         4    432  0.925926\n",
       "mpg_city           4    432  0.925926\n",
       "mpg_highway        4    432  0.925926\n",
       "weight             4    432  0.925926\n",
       "wheelbase          4    432  0.925926\n",
       "length             4    432  0.925926"
      ]
     },
     "execution_count": 9,
     "metadata": {},
     "output_type": "execute_result"
    }
   ],
   "source": [
    "import sidetable\n",
    "\n",
    "data.stb.missing()"
   ]
  },
  {
   "cell_type": "markdown",
   "id": "developmental-international",
   "metadata": {},
   "source": [
    "view of null data"
   ]
  },
  {
   "cell_type": "code",
   "execution_count": 10,
   "id": "tight-object",
   "metadata": {},
   "outputs": [
    {
     "data": {
      "text/html": [
       "<div>\n",
       "<style scoped>\n",
       "    .dataframe tbody tr th:only-of-type {\n",
       "        vertical-align: middle;\n",
       "    }\n",
       "\n",
       "    .dataframe tbody tr th {\n",
       "        vertical-align: top;\n",
       "    }\n",
       "\n",
       "    .dataframe thead th {\n",
       "        text-align: right;\n",
       "    }\n",
       "</style>\n",
       "<table border=\"1\" class=\"dataframe\">\n",
       "  <thead>\n",
       "    <tr style=\"text-align: right;\">\n",
       "      <th></th>\n",
       "      <th>make</th>\n",
       "      <th>model</th>\n",
       "      <th>type</th>\n",
       "      <th>origin</th>\n",
       "      <th>drivetrain</th>\n",
       "      <th>msrp</th>\n",
       "      <th>invoice</th>\n",
       "      <th>enginesize</th>\n",
       "      <th>cylinders</th>\n",
       "      <th>horsepower</th>\n",
       "      <th>mpg_city</th>\n",
       "      <th>mpg_highway</th>\n",
       "      <th>weight</th>\n",
       "      <th>wheelbase</th>\n",
       "      <th>length</th>\n",
       "    </tr>\n",
       "  </thead>\n",
       "  <tbody>\n",
       "    <tr>\n",
       "      <th>30</th>\n",
       "      <td>NaN</td>\n",
       "      <td>NaN</td>\n",
       "      <td>NaN</td>\n",
       "      <td>NaN</td>\n",
       "      <td>NaN</td>\n",
       "      <td>NaN</td>\n",
       "      <td>NaN</td>\n",
       "      <td>NaN</td>\n",
       "      <td>NaN</td>\n",
       "      <td>NaN</td>\n",
       "      <td>NaN</td>\n",
       "      <td>NaN</td>\n",
       "      <td>NaN</td>\n",
       "      <td>NaN</td>\n",
       "      <td>NaN</td>\n",
       "    </tr>\n",
       "    <tr>\n",
       "      <th>39</th>\n",
       "      <td>NaN</td>\n",
       "      <td>NaN</td>\n",
       "      <td>NaN</td>\n",
       "      <td>NaN</td>\n",
       "      <td>NaN</td>\n",
       "      <td>NaN</td>\n",
       "      <td>NaN</td>\n",
       "      <td>NaN</td>\n",
       "      <td>NaN</td>\n",
       "      <td>NaN</td>\n",
       "      <td>NaN</td>\n",
       "      <td>NaN</td>\n",
       "      <td>NaN</td>\n",
       "      <td>NaN</td>\n",
       "      <td>NaN</td>\n",
       "    </tr>\n",
       "    <tr>\n",
       "      <th>161</th>\n",
       "      <td>NaN</td>\n",
       "      <td>NaN</td>\n",
       "      <td>NaN</td>\n",
       "      <td>NaN</td>\n",
       "      <td>NaN</td>\n",
       "      <td>NaN</td>\n",
       "      <td>NaN</td>\n",
       "      <td>NaN</td>\n",
       "      <td>NaN</td>\n",
       "      <td>NaN</td>\n",
       "      <td>NaN</td>\n",
       "      <td>NaN</td>\n",
       "      <td>NaN</td>\n",
       "      <td>NaN</td>\n",
       "      <td>NaN</td>\n",
       "    </tr>\n",
       "    <tr>\n",
       "      <th>173</th>\n",
       "      <td>NaN</td>\n",
       "      <td>NaN</td>\n",
       "      <td>NaN</td>\n",
       "      <td>NaN</td>\n",
       "      <td>NaN</td>\n",
       "      <td>NaN</td>\n",
       "      <td>NaN</td>\n",
       "      <td>NaN</td>\n",
       "      <td>NaN</td>\n",
       "      <td>NaN</td>\n",
       "      <td>NaN</td>\n",
       "      <td>NaN</td>\n",
       "      <td>NaN</td>\n",
       "      <td>NaN</td>\n",
       "      <td>NaN</td>\n",
       "    </tr>\n",
       "    <tr>\n",
       "      <th>251</th>\n",
       "      <td>Mazda</td>\n",
       "      <td>RX-8 4dr automatic</td>\n",
       "      <td>Sports</td>\n",
       "      <td>Asia</td>\n",
       "      <td>Rear</td>\n",
       "      <td>$25,700</td>\n",
       "      <td>$23,794</td>\n",
       "      <td>1.3</td>\n",
       "      <td>NaN</td>\n",
       "      <td>197.0</td>\n",
       "      <td>18.0</td>\n",
       "      <td>25.0</td>\n",
       "      <td>3053.0</td>\n",
       "      <td>106.0</td>\n",
       "      <td>174.0</td>\n",
       "    </tr>\n",
       "    <tr>\n",
       "      <th>252</th>\n",
       "      <td>Mazda</td>\n",
       "      <td>RX-8 4dr manual</td>\n",
       "      <td>Sports</td>\n",
       "      <td>Asia</td>\n",
       "      <td>Rear</td>\n",
       "      <td>$27,200</td>\n",
       "      <td>$25,179</td>\n",
       "      <td>1.3</td>\n",
       "      <td>NaN</td>\n",
       "      <td>238.0</td>\n",
       "      <td>18.0</td>\n",
       "      <td>24.0</td>\n",
       "      <td>3029.0</td>\n",
       "      <td>106.0</td>\n",
       "      <td>174.0</td>\n",
       "    </tr>\n",
       "  </tbody>\n",
       "</table>\n",
       "</div>"
      ],
      "text/plain": [
       "      make               model    type origin drivetrain      msrp   invoice  \\\n",
       "30     NaN                 NaN     NaN    NaN        NaN       NaN       NaN   \n",
       "39     NaN                 NaN     NaN    NaN        NaN       NaN       NaN   \n",
       "161    NaN                 NaN     NaN    NaN        NaN       NaN       NaN   \n",
       "173    NaN                 NaN     NaN    NaN        NaN       NaN       NaN   \n",
       "251  Mazda  RX-8 4dr automatic  Sports   Asia       Rear  $25,700   $23,794    \n",
       "252  Mazda     RX-8 4dr manual  Sports   Asia       Rear  $27,200   $25,179    \n",
       "\n",
       "     enginesize  cylinders  horsepower  mpg_city  mpg_highway  weight  \\\n",
       "30          NaN        NaN         NaN       NaN          NaN     NaN   \n",
       "39          NaN        NaN         NaN       NaN          NaN     NaN   \n",
       "161         NaN        NaN         NaN       NaN          NaN     NaN   \n",
       "173         NaN        NaN         NaN       NaN          NaN     NaN   \n",
       "251         1.3        NaN       197.0      18.0         25.0  3053.0   \n",
       "252         1.3        NaN       238.0      18.0         24.0  3029.0   \n",
       "\n",
       "     wheelbase  length  \n",
       "30         NaN     NaN  \n",
       "39         NaN     NaN  \n",
       "161        NaN     NaN  \n",
       "173        NaN     NaN  \n",
       "251      106.0   174.0  \n",
       "252      106.0   174.0  "
      ]
     },
     "execution_count": 10,
     "metadata": {},
     "output_type": "execute_result"
    }
   ],
   "source": [
    "data[data.isnull().any(axis=1)]"
   ]
  },
  {
   "cell_type": "markdown",
   "id": "grand-backup",
   "metadata": {},
   "source": [
    "Dropping all null rows since entire rows were null"
   ]
  },
  {
   "cell_type": "code",
   "execution_count": 11,
   "id": "overall-carry",
   "metadata": {},
   "outputs": [
    {
     "data": {
      "text/html": [
       "<div>\n",
       "<style scoped>\n",
       "    .dataframe tbody tr th:only-of-type {\n",
       "        vertical-align: middle;\n",
       "    }\n",
       "\n",
       "    .dataframe tbody tr th {\n",
       "        vertical-align: top;\n",
       "    }\n",
       "\n",
       "    .dataframe thead th {\n",
       "        text-align: right;\n",
       "    }\n",
       "</style>\n",
       "<table border=\"1\" class=\"dataframe\">\n",
       "  <thead>\n",
       "    <tr style=\"text-align: right;\">\n",
       "      <th></th>\n",
       "      <th>missing</th>\n",
       "      <th>total</th>\n",
       "      <th>percent</th>\n",
       "    </tr>\n",
       "  </thead>\n",
       "  <tbody>\n",
       "    <tr>\n",
       "      <th>make</th>\n",
       "      <td>0</td>\n",
       "      <td>426</td>\n",
       "      <td>0.0</td>\n",
       "    </tr>\n",
       "    <tr>\n",
       "      <th>model</th>\n",
       "      <td>0</td>\n",
       "      <td>426</td>\n",
       "      <td>0.0</td>\n",
       "    </tr>\n",
       "    <tr>\n",
       "      <th>type</th>\n",
       "      <td>0</td>\n",
       "      <td>426</td>\n",
       "      <td>0.0</td>\n",
       "    </tr>\n",
       "    <tr>\n",
       "      <th>origin</th>\n",
       "      <td>0</td>\n",
       "      <td>426</td>\n",
       "      <td>0.0</td>\n",
       "    </tr>\n",
       "    <tr>\n",
       "      <th>drivetrain</th>\n",
       "      <td>0</td>\n",
       "      <td>426</td>\n",
       "      <td>0.0</td>\n",
       "    </tr>\n",
       "    <tr>\n",
       "      <th>msrp</th>\n",
       "      <td>0</td>\n",
       "      <td>426</td>\n",
       "      <td>0.0</td>\n",
       "    </tr>\n",
       "    <tr>\n",
       "      <th>invoice</th>\n",
       "      <td>0</td>\n",
       "      <td>426</td>\n",
       "      <td>0.0</td>\n",
       "    </tr>\n",
       "    <tr>\n",
       "      <th>enginesize</th>\n",
       "      <td>0</td>\n",
       "      <td>426</td>\n",
       "      <td>0.0</td>\n",
       "    </tr>\n",
       "    <tr>\n",
       "      <th>cylinders</th>\n",
       "      <td>0</td>\n",
       "      <td>426</td>\n",
       "      <td>0.0</td>\n",
       "    </tr>\n",
       "    <tr>\n",
       "      <th>horsepower</th>\n",
       "      <td>0</td>\n",
       "      <td>426</td>\n",
       "      <td>0.0</td>\n",
       "    </tr>\n",
       "    <tr>\n",
       "      <th>mpg_city</th>\n",
       "      <td>0</td>\n",
       "      <td>426</td>\n",
       "      <td>0.0</td>\n",
       "    </tr>\n",
       "    <tr>\n",
       "      <th>mpg_highway</th>\n",
       "      <td>0</td>\n",
       "      <td>426</td>\n",
       "      <td>0.0</td>\n",
       "    </tr>\n",
       "    <tr>\n",
       "      <th>weight</th>\n",
       "      <td>0</td>\n",
       "      <td>426</td>\n",
       "      <td>0.0</td>\n",
       "    </tr>\n",
       "    <tr>\n",
       "      <th>wheelbase</th>\n",
       "      <td>0</td>\n",
       "      <td>426</td>\n",
       "      <td>0.0</td>\n",
       "    </tr>\n",
       "    <tr>\n",
       "      <th>length</th>\n",
       "      <td>0</td>\n",
       "      <td>426</td>\n",
       "      <td>0.0</td>\n",
       "    </tr>\n",
       "  </tbody>\n",
       "</table>\n",
       "</div>"
      ],
      "text/plain": [
       "             missing  total  percent\n",
       "make               0    426      0.0\n",
       "model              0    426      0.0\n",
       "type               0    426      0.0\n",
       "origin             0    426      0.0\n",
       "drivetrain         0    426      0.0\n",
       "msrp               0    426      0.0\n",
       "invoice            0    426      0.0\n",
       "enginesize         0    426      0.0\n",
       "cylinders          0    426      0.0\n",
       "horsepower         0    426      0.0\n",
       "mpg_city           0    426      0.0\n",
       "mpg_highway        0    426      0.0\n",
       "weight             0    426      0.0\n",
       "wheelbase          0    426      0.0\n",
       "length             0    426      0.0"
      ]
     },
     "execution_count": 11,
     "metadata": {},
     "output_type": "execute_result"
    }
   ],
   "source": [
    "data = data.dropna(axis=0)\n",
    "data.stb.missing()"
   ]
  },
  {
   "cell_type": "code",
   "execution_count": 12,
   "id": "standing-aircraft",
   "metadata": {},
   "outputs": [
    {
     "name": "stdout",
     "output_type": "stream",
     "text": [
      "<class 'pandas.core.frame.DataFrame'>\n",
      "Int64Index: 426 entries, 0 to 431\n",
      "Data columns (total 15 columns):\n",
      " #   Column       Non-Null Count  Dtype  \n",
      "---  ------       --------------  -----  \n",
      " 0   make         426 non-null    object \n",
      " 1   model        426 non-null    object \n",
      " 2   type         426 non-null    object \n",
      " 3   origin       426 non-null    object \n",
      " 4   drivetrain   426 non-null    object \n",
      " 5   msrp         426 non-null    object \n",
      " 6   invoice      426 non-null    object \n",
      " 7   enginesize   426 non-null    float64\n",
      " 8   cylinders    426 non-null    float64\n",
      " 9   horsepower   426 non-null    float64\n",
      " 10  mpg_city     426 non-null    float64\n",
      " 11  mpg_highway  426 non-null    float64\n",
      " 12  weight       426 non-null    float64\n",
      " 13  wheelbase    426 non-null    float64\n",
      " 14  length       426 non-null    float64\n",
      "dtypes: float64(8), object(7)\n",
      "memory usage: 53.2+ KB\n"
     ]
    }
   ],
   "source": [
    "data.info()"
   ]
  },
  {
   "cell_type": "markdown",
   "id": "certified-laser",
   "metadata": {},
   "source": [
    "converting msrp, invoice to numerical"
   ]
  },
  {
   "cell_type": "code",
   "execution_count": 13,
   "id": "spatial-brazilian",
   "metadata": {},
   "outputs": [
    {
     "data": {
      "text/html": [
       "<div>\n",
       "<style scoped>\n",
       "    .dataframe tbody tr th:only-of-type {\n",
       "        vertical-align: middle;\n",
       "    }\n",
       "\n",
       "    .dataframe tbody tr th {\n",
       "        vertical-align: top;\n",
       "    }\n",
       "\n",
       "    .dataframe thead th {\n",
       "        text-align: right;\n",
       "    }\n",
       "</style>\n",
       "<table border=\"1\" class=\"dataframe\">\n",
       "  <thead>\n",
       "    <tr style=\"text-align: right;\">\n",
       "      <th></th>\n",
       "      <th>msrp</th>\n",
       "      <th>invoice</th>\n",
       "    </tr>\n",
       "  </thead>\n",
       "  <tbody>\n",
       "    <tr>\n",
       "      <th>0</th>\n",
       "      <td>$36,945</td>\n",
       "      <td>$33,337</td>\n",
       "    </tr>\n",
       "    <tr>\n",
       "      <th>1</th>\n",
       "      <td>$23,820</td>\n",
       "      <td>$21,761</td>\n",
       "    </tr>\n",
       "    <tr>\n",
       "      <th>2</th>\n",
       "      <td>$26,990</td>\n",
       "      <td>$24,647</td>\n",
       "    </tr>\n",
       "    <tr>\n",
       "      <th>3</th>\n",
       "      <td>$33,195</td>\n",
       "      <td>$30,299</td>\n",
       "    </tr>\n",
       "    <tr>\n",
       "      <th>4</th>\n",
       "      <td>$43,755</td>\n",
       "      <td>$39,014</td>\n",
       "    </tr>\n",
       "  </tbody>\n",
       "</table>\n",
       "</div>"
      ],
      "text/plain": [
       "       msrp   invoice\n",
       "0  $36,945   $33,337 \n",
       "1  $23,820   $21,761 \n",
       "2  $26,990   $24,647 \n",
       "3  $33,195   $30,299 \n",
       "4  $43,755   $39,014 "
      ]
     },
     "execution_count": 13,
     "metadata": {},
     "output_type": "execute_result"
    }
   ],
   "source": [
    "data[['msrp', 'invoice']].head()"
   ]
  },
  {
   "cell_type": "markdown",
   "id": "composite-daughter",
   "metadata": {},
   "source": [
    "> remove $ at start of string"
   ]
  },
  {
   "cell_type": "code",
   "execution_count": 14,
   "id": "ecological-superintendent",
   "metadata": {},
   "outputs": [
    {
     "data": {
      "text/plain": [
       "0    36,945 \n",
       "1    23,820 \n",
       "2    26,990 \n",
       "3    33,195 \n",
       "4    43,755 \n",
       "Name: msrp, dtype: object"
      ]
     },
     "execution_count": 14,
     "metadata": {},
     "output_type": "execute_result"
    }
   ],
   "source": [
    "data['msrp'].str[1:].head()"
   ]
  },
  {
   "cell_type": "code",
   "execution_count": 15,
   "id": "cosmetic-modification",
   "metadata": {},
   "outputs": [
    {
     "data": {
      "text/plain": [
       "0    33,337 \n",
       "1    21,761 \n",
       "2    24,647 \n",
       "3    30,299 \n",
       "4    39,014 \n",
       "Name: invoice, dtype: object"
      ]
     },
     "execution_count": 15,
     "metadata": {},
     "output_type": "execute_result"
    }
   ],
   "source": [
    "data['invoice'].str[1:].head()"
   ]
  },
  {
   "cell_type": "code",
   "execution_count": 16,
   "id": "trying-duplicate",
   "metadata": {},
   "outputs": [
    {
     "name": "stderr",
     "output_type": "stream",
     "text": [
      "c:\\users\\user\\appdata\\local\\programs\\python\\python37\\lib\\site-packages\\pandas\\core\\generic.py:5491: SettingWithCopyWarning: \n",
      "A value is trying to be set on a copy of a slice from a DataFrame.\n",
      "Try using .loc[row_indexer,col_indexer] = value instead\n",
      "\n",
      "See the caveats in the documentation: https://pandas.pydata.org/pandas-docs/stable/user_guide/indexing.html#returning-a-view-versus-a-copy\n",
      "  self[name] = value\n"
     ]
    },
    {
     "data": {
      "text/plain": [
       "0    36,945 \n",
       "1    23,820 \n",
       "2    26,990 \n",
       "3    33,195 \n",
       "4    43,755 \n",
       "Name: msrp, dtype: object"
      ]
     },
     "execution_count": 16,
     "metadata": {},
     "output_type": "execute_result"
    }
   ],
   "source": [
    "data.msrp = data.msrp.str[1:]\n",
    "data.msrp.head()"
   ]
  },
  {
   "cell_type": "code",
   "execution_count": 17,
   "id": "polished-elephant",
   "metadata": {},
   "outputs": [
    {
     "data": {
      "text/plain": [
       "0    33,337 \n",
       "1    21,761 \n",
       "2    24,647 \n",
       "3    30,299 \n",
       "4    39,014 \n",
       "Name: invoice, dtype: object"
      ]
     },
     "execution_count": 17,
     "metadata": {},
     "output_type": "execute_result"
    }
   ],
   "source": [
    "data.invoice = data.invoice.str[1:]\n",
    "data.invoice.head()"
   ]
  },
  {
   "cell_type": "markdown",
   "id": "spoken-compiler",
   "metadata": {},
   "source": [
    "> remove , from msrp"
   ]
  },
  {
   "cell_type": "code",
   "execution_count": 18,
   "id": "detailed-leone",
   "metadata": {},
   "outputs": [
    {
     "data": {
      "text/plain": [
       "0    36945 \n",
       "1    23820 \n",
       "2    26990 \n",
       "3    33195 \n",
       "4    43755 \n",
       "Name: msrp, dtype: object"
      ]
     },
     "execution_count": 18,
     "metadata": {},
     "output_type": "execute_result"
    }
   ],
   "source": [
    "data.msrp = data.msrp.str.translate({ord(','): None})\n",
    "data.msrp.head()"
   ]
  },
  {
   "cell_type": "code",
   "execution_count": 19,
   "id": "unsigned-vienna",
   "metadata": {},
   "outputs": [
    {
     "data": {
      "text/plain": [
       "0    33337 \n",
       "1    21761 \n",
       "2    24647 \n",
       "3    30299 \n",
       "4    39014 \n",
       "Name: invoice, dtype: object"
      ]
     },
     "execution_count": 19,
     "metadata": {},
     "output_type": "execute_result"
    }
   ],
   "source": [
    "data.invoice = data.invoice.str.translate({ord(','): None})\n",
    "data.invoice.head()"
   ]
  },
  {
   "cell_type": "code",
   "execution_count": 20,
   "id": "economic-maintenance",
   "metadata": {},
   "outputs": [
    {
     "data": {
      "text/plain": [
       "count        426\n",
       "unique       409\n",
       "top       28495 \n",
       "freq           2\n",
       "Name: msrp, dtype: object"
      ]
     },
     "execution_count": 20,
     "metadata": {},
     "output_type": "execute_result"
    }
   ],
   "source": [
    "data['msrp'].describe()"
   ]
  },
  {
   "cell_type": "code",
   "execution_count": 21,
   "id": "informative-thumbnail",
   "metadata": {},
   "outputs": [
    {
     "data": {
      "text/plain": [
       "count        426\n",
       "unique       423\n",
       "top       68306 \n",
       "freq           2\n",
       "Name: invoice, dtype: object"
      ]
     },
     "execution_count": 21,
     "metadata": {},
     "output_type": "execute_result"
    }
   ],
   "source": [
    "data.invoice.describe()"
   ]
  },
  {
   "cell_type": "code",
   "execution_count": 22,
   "id": "treated-trade",
   "metadata": {},
   "outputs": [
    {
     "name": "stderr",
     "output_type": "stream",
     "text": [
      "c:\\users\\user\\appdata\\local\\programs\\python\\python37\\lib\\site-packages\\pandas\\core\\generic.py:5491: SettingWithCopyWarning: \n",
      "A value is trying to be set on a copy of a slice from a DataFrame.\n",
      "Try using .loc[row_indexer,col_indexer] = value instead\n",
      "\n",
      "See the caveats in the documentation: https://pandas.pydata.org/pandas-docs/stable/user_guide/indexing.html#returning-a-view-versus-a-copy\n",
      "  self[name] = value\n"
     ]
    },
    {
     "data": {
      "text/plain": [
       "0    36945.0\n",
       "1    23820.0\n",
       "2    26990.0\n",
       "3    33195.0\n",
       "4    43755.0\n",
       "Name: msrp, dtype: float64"
      ]
     },
     "execution_count": 22,
     "metadata": {},
     "output_type": "execute_result"
    }
   ],
   "source": [
    "data.msrp = data.msrp.astype('float')\n",
    "data.msrp.head()"
   ]
  },
  {
   "cell_type": "code",
   "execution_count": 23,
   "id": "liquid-stocks",
   "metadata": {},
   "outputs": [
    {
     "data": {
      "text/plain": [
       "0    33337.0\n",
       "1    21761.0\n",
       "2    24647.0\n",
       "3    30299.0\n",
       "4    39014.0\n",
       "Name: invoice, dtype: float64"
      ]
     },
     "execution_count": 23,
     "metadata": {},
     "output_type": "execute_result"
    }
   ],
   "source": [
    "data.invoice = data.invoice.astype('float')\n",
    "data.invoice.head()"
   ]
  },
  {
   "cell_type": "code",
   "execution_count": 24,
   "id": "outstanding-makeup",
   "metadata": {},
   "outputs": [
    {
     "name": "stdout",
     "output_type": "stream",
     "text": [
      "<class 'pandas.core.frame.DataFrame'>\n",
      "Int64Index: 426 entries, 0 to 431\n",
      "Data columns (total 15 columns):\n",
      " #   Column       Non-Null Count  Dtype  \n",
      "---  ------       --------------  -----  \n",
      " 0   make         426 non-null    object \n",
      " 1   model        426 non-null    object \n",
      " 2   type         426 non-null    object \n",
      " 3   origin       426 non-null    object \n",
      " 4   drivetrain   426 non-null    object \n",
      " 5   msrp         426 non-null    float64\n",
      " 6   invoice      426 non-null    float64\n",
      " 7   enginesize   426 non-null    float64\n",
      " 8   cylinders    426 non-null    float64\n",
      " 9   horsepower   426 non-null    float64\n",
      " 10  mpg_city     426 non-null    float64\n",
      " 11  mpg_highway  426 non-null    float64\n",
      " 12  weight       426 non-null    float64\n",
      " 13  wheelbase    426 non-null    float64\n",
      " 14  length       426 non-null    float64\n",
      "dtypes: float64(10), object(5)\n",
      "memory usage: 53.2+ KB\n"
     ]
    }
   ],
   "source": [
    "data.info()"
   ]
  },
  {
   "cell_type": "markdown",
   "id": "alleged-spain",
   "metadata": {},
   "source": [
    "### Exploratory Data Analysis"
   ]
  },
  {
   "cell_type": "markdown",
   "id": "annoying-video",
   "metadata": {},
   "source": [
    "Getting numerical and categorical columns"
   ]
  },
  {
   "cell_type": "code",
   "execution_count": 25,
   "id": "overall-airfare",
   "metadata": {},
   "outputs": [],
   "source": [
    "data_num = data.select_dtypes(include=[np.number])\n",
    "data_cat = data.select_dtypes(exclude=[np.number])"
   ]
  },
  {
   "cell_type": "code",
   "execution_count": 26,
   "id": "hidden-bobby",
   "metadata": {},
   "outputs": [
    {
     "data": {
      "text/html": [
       "<div>\n",
       "<style scoped>\n",
       "    .dataframe tbody tr th:only-of-type {\n",
       "        vertical-align: middle;\n",
       "    }\n",
       "\n",
       "    .dataframe tbody tr th {\n",
       "        vertical-align: top;\n",
       "    }\n",
       "\n",
       "    .dataframe thead th {\n",
       "        text-align: right;\n",
       "    }\n",
       "</style>\n",
       "<table border=\"1\" class=\"dataframe\">\n",
       "  <thead>\n",
       "    <tr style=\"text-align: right;\">\n",
       "      <th></th>\n",
       "      <th>msrp</th>\n",
       "      <th>invoice</th>\n",
       "      <th>enginesize</th>\n",
       "      <th>cylinders</th>\n",
       "      <th>horsepower</th>\n",
       "      <th>mpg_city</th>\n",
       "      <th>mpg_highway</th>\n",
       "      <th>weight</th>\n",
       "      <th>wheelbase</th>\n",
       "      <th>length</th>\n",
       "    </tr>\n",
       "  </thead>\n",
       "  <tbody>\n",
       "    <tr>\n",
       "      <th>0</th>\n",
       "      <td>36945.0</td>\n",
       "      <td>33337.0</td>\n",
       "      <td>3.5</td>\n",
       "      <td>6.0</td>\n",
       "      <td>265.0</td>\n",
       "      <td>17.0</td>\n",
       "      <td>23.0</td>\n",
       "      <td>4451.0</td>\n",
       "      <td>106.0</td>\n",
       "      <td>189.0</td>\n",
       "    </tr>\n",
       "    <tr>\n",
       "      <th>1</th>\n",
       "      <td>23820.0</td>\n",
       "      <td>21761.0</td>\n",
       "      <td>2.0</td>\n",
       "      <td>4.0</td>\n",
       "      <td>200.0</td>\n",
       "      <td>24.0</td>\n",
       "      <td>31.0</td>\n",
       "      <td>2778.0</td>\n",
       "      <td>101.0</td>\n",
       "      <td>172.0</td>\n",
       "    </tr>\n",
       "    <tr>\n",
       "      <th>2</th>\n",
       "      <td>26990.0</td>\n",
       "      <td>24647.0</td>\n",
       "      <td>2.4</td>\n",
       "      <td>4.0</td>\n",
       "      <td>200.0</td>\n",
       "      <td>22.0</td>\n",
       "      <td>29.0</td>\n",
       "      <td>3230.0</td>\n",
       "      <td>105.0</td>\n",
       "      <td>183.0</td>\n",
       "    </tr>\n",
       "    <tr>\n",
       "      <th>3</th>\n",
       "      <td>33195.0</td>\n",
       "      <td>30299.0</td>\n",
       "      <td>3.2</td>\n",
       "      <td>6.0</td>\n",
       "      <td>270.0</td>\n",
       "      <td>20.0</td>\n",
       "      <td>28.0</td>\n",
       "      <td>3575.0</td>\n",
       "      <td>108.0</td>\n",
       "      <td>186.0</td>\n",
       "    </tr>\n",
       "    <tr>\n",
       "      <th>4</th>\n",
       "      <td>43755.0</td>\n",
       "      <td>39014.0</td>\n",
       "      <td>3.5</td>\n",
       "      <td>6.0</td>\n",
       "      <td>225.0</td>\n",
       "      <td>18.0</td>\n",
       "      <td>24.0</td>\n",
       "      <td>3880.0</td>\n",
       "      <td>115.0</td>\n",
       "      <td>197.0</td>\n",
       "    </tr>\n",
       "  </tbody>\n",
       "</table>\n",
       "</div>"
      ],
      "text/plain": [
       "      msrp  invoice  enginesize  cylinders  horsepower  mpg_city  mpg_highway  \\\n",
       "0  36945.0  33337.0         3.5        6.0       265.0      17.0         23.0   \n",
       "1  23820.0  21761.0         2.0        4.0       200.0      24.0         31.0   \n",
       "2  26990.0  24647.0         2.4        4.0       200.0      22.0         29.0   \n",
       "3  33195.0  30299.0         3.2        6.0       270.0      20.0         28.0   \n",
       "4  43755.0  39014.0         3.5        6.0       225.0      18.0         24.0   \n",
       "\n",
       "   weight  wheelbase  length  \n",
       "0  4451.0      106.0   189.0  \n",
       "1  2778.0      101.0   172.0  \n",
       "2  3230.0      105.0   183.0  \n",
       "3  3575.0      108.0   186.0  \n",
       "4  3880.0      115.0   197.0  "
      ]
     },
     "execution_count": 26,
     "metadata": {},
     "output_type": "execute_result"
    }
   ],
   "source": [
    "data_num.head()"
   ]
  },
  {
   "cell_type": "code",
   "execution_count": 27,
   "id": "mediterranean-special",
   "metadata": {},
   "outputs": [
    {
     "data": {
      "text/html": [
       "<div>\n",
       "<style scoped>\n",
       "    .dataframe tbody tr th:only-of-type {\n",
       "        vertical-align: middle;\n",
       "    }\n",
       "\n",
       "    .dataframe tbody tr th {\n",
       "        vertical-align: top;\n",
       "    }\n",
       "\n",
       "    .dataframe thead th {\n",
       "        text-align: right;\n",
       "    }\n",
       "</style>\n",
       "<table border=\"1\" class=\"dataframe\">\n",
       "  <thead>\n",
       "    <tr style=\"text-align: right;\">\n",
       "      <th></th>\n",
       "      <th>make</th>\n",
       "      <th>model</th>\n",
       "      <th>type</th>\n",
       "      <th>origin</th>\n",
       "      <th>drivetrain</th>\n",
       "    </tr>\n",
       "  </thead>\n",
       "  <tbody>\n",
       "    <tr>\n",
       "      <th>0</th>\n",
       "      <td>Acura</td>\n",
       "      <td>MDX</td>\n",
       "      <td>SUV</td>\n",
       "      <td>Asia</td>\n",
       "      <td>All</td>\n",
       "    </tr>\n",
       "    <tr>\n",
       "      <th>1</th>\n",
       "      <td>Acura</td>\n",
       "      <td>RSX Type S 2dr</td>\n",
       "      <td>Sedan</td>\n",
       "      <td>Asia</td>\n",
       "      <td>Front</td>\n",
       "    </tr>\n",
       "    <tr>\n",
       "      <th>2</th>\n",
       "      <td>Acura</td>\n",
       "      <td>TSX 4dr</td>\n",
       "      <td>Sedan</td>\n",
       "      <td>Asia</td>\n",
       "      <td>Front</td>\n",
       "    </tr>\n",
       "    <tr>\n",
       "      <th>3</th>\n",
       "      <td>Acura</td>\n",
       "      <td>TL 4dr</td>\n",
       "      <td>Sedan</td>\n",
       "      <td>Asia</td>\n",
       "      <td>Front</td>\n",
       "    </tr>\n",
       "    <tr>\n",
       "      <th>4</th>\n",
       "      <td>Acura</td>\n",
       "      <td>3.5 RL 4dr</td>\n",
       "      <td>Sedan</td>\n",
       "      <td>Asia</td>\n",
       "      <td>Front</td>\n",
       "    </tr>\n",
       "  </tbody>\n",
       "</table>\n",
       "</div>"
      ],
      "text/plain": [
       "    make           model   type origin drivetrain\n",
       "0  Acura             MDX    SUV   Asia        All\n",
       "1  Acura  RSX Type S 2dr  Sedan   Asia      Front\n",
       "2  Acura         TSX 4dr  Sedan   Asia      Front\n",
       "3  Acura          TL 4dr  Sedan   Asia      Front\n",
       "4  Acura      3.5 RL 4dr  Sedan   Asia      Front"
      ]
     },
     "execution_count": 27,
     "metadata": {},
     "output_type": "execute_result"
    }
   ],
   "source": [
    "data_cat.head()"
   ]
  },
  {
   "cell_type": "markdown",
   "id": "legislative-conservative",
   "metadata": {},
   "source": [
    "Getting numerical and categorical column names"
   ]
  },
  {
   "cell_type": "code",
   "execution_count": 28,
   "id": "acquired-gothic",
   "metadata": {},
   "outputs": [],
   "source": [
    "cat_cols = data.columns[data.dtypes == 'object']\n",
    "num_cols = data.columns[~(data.dtypes == 'object')]"
   ]
  },
  {
   "cell_type": "code",
   "execution_count": 29,
   "id": "charitable-publicity",
   "metadata": {},
   "outputs": [
    {
     "data": {
      "text/plain": [
       "Index(['make', 'model', 'type', 'origin', 'drivetrain'], dtype='object')"
      ]
     },
     "execution_count": 29,
     "metadata": {},
     "output_type": "execute_result"
    }
   ],
   "source": [
    "cat_cols"
   ]
  },
  {
   "cell_type": "code",
   "execution_count": 30,
   "id": "stunning-theater",
   "metadata": {},
   "outputs": [
    {
     "data": {
      "text/plain": [
       "Index(['msrp', 'invoice', 'enginesize', 'cylinders', 'horsepower', 'mpg_city',\n",
       "       'mpg_highway', 'weight', 'wheelbase', 'length'],\n",
       "      dtype='object')"
      ]
     },
     "execution_count": 30,
     "metadata": {},
     "output_type": "execute_result"
    }
   ],
   "source": [
    "num_cols"
   ]
  },
  {
   "cell_type": "markdown",
   "id": "tight-television",
   "metadata": {},
   "source": [
    "#### value counts of all categorical columns"
   ]
  },
  {
   "cell_type": "code",
   "execution_count": 31,
   "id": "backed-central",
   "metadata": {},
   "outputs": [
    {
     "name": "stdout",
     "output_type": "stream",
     "text": [
      "make\n",
      "----------\n",
      "Toyota           28\n",
      "Chevrolet        27\n",
      "Mercedes-Benz    26\n",
      "Ford             23\n",
      "BMW              20\n",
      "Audi             19\n",
      "Honda            17\n",
      "Nissan           17\n",
      "Chrysler         15\n",
      "Volkswagen       15\n",
      "Mitsubishi       13\n",
      "Dodge            13\n",
      "Volvo            12\n",
      "Hyundai          12\n",
      "Jaguar           12\n",
      "Pontiac          11\n",
      "Lexus            11\n",
      "Kia              11\n",
      "Subaru           11\n",
      "Lincoln           9\n",
      "Mercury           9\n",
      "Mazda             9\n",
      "Buick             9\n",
      "Cadillac          8\n",
      "Saturn            8\n",
      "GMC               8\n",
      "Infiniti          8\n",
      "Suzuki            8\n",
      "Saab              7\n",
      "Acura             7\n",
      "Porsche           7\n",
      "Land Rover        3\n",
      "Oldsmobile        3\n",
      "Jeep              3\n",
      "Isuzu             2\n",
      "MINI              2\n",
      "Scion             2\n",
      "Hummer            1\n",
      "Name: make, dtype: int64\n",
      "\n",
      "---------------------------\n",
      "model\n",
      "----------\n",
      "C240 4dr                                   2\n",
      "G35 4dr                                    2\n",
      "C320 4dr                                   2\n",
      "Spectra GS 4dr hatch                       1\n",
      "Wrangler Sahara convertible 2dr            1\n",
      "                                          ..\n",
      "S80 2.9 4dr                                1\n",
      "GX 470                                     1\n",
      "Cayenne S                                  1\n",
      "Thunderbird Deluxe convert w/hardtop 2d    1\n",
      "M3 coupe 2dr                               1\n",
      "Name: model, Length: 423, dtype: int64\n",
      "\n",
      "---------------------------\n",
      "type\n",
      "----------\n",
      "Sedan     262\n",
      "SUV        60\n",
      "Sports     47\n",
      "Wagon      30\n",
      "Truck      24\n",
      "Hybrid      3\n",
      "Name: type, dtype: int64\n",
      "\n",
      "---------------------------\n",
      "origin\n",
      "----------\n",
      "Asia      156\n",
      "USA       147\n",
      "Europe    123\n",
      "Name: origin, dtype: int64\n",
      "\n",
      "---------------------------\n",
      "drivetrain\n",
      "----------\n",
      "Front    226\n",
      "Rear     108\n",
      "All       92\n",
      "Name: drivetrain, dtype: int64\n",
      "\n",
      "---------------------------\n"
     ]
    }
   ],
   "source": [
    "for c in cat_cols:\n",
    "    print(c)\n",
    "    print('----------')\n",
    "    print(data[c].value_counts())\n",
    "    print()\n",
    "    print('---------------------------')"
   ]
  },
  {
   "cell_type": "markdown",
   "id": "white-viking",
   "metadata": {},
   "source": [
    "Plotting of all Categorical Columns"
   ]
  },
  {
   "cell_type": "code",
   "execution_count": 32,
   "id": "indonesian-showcase",
   "metadata": {},
   "outputs": [
    {
     "data": {
      "text/plain": [
       "Index(['make', 'model', 'type', 'origin', 'drivetrain'], dtype='object')"
      ]
     },
     "execution_count": 32,
     "metadata": {},
     "output_type": "execute_result"
    }
   ],
   "source": [
    "cat_cols"
   ]
  },
  {
   "cell_type": "code",
   "execution_count": 33,
   "id": "engaging-accordance",
   "metadata": {},
   "outputs": [],
   "source": [
    "plt.style.use('seaborn')"
   ]
  },
  {
   "cell_type": "code",
   "execution_count": 34,
   "id": "excellent-rental",
   "metadata": {},
   "outputs": [
    {
     "data": {
      "image/png": "[encoded data removed]",
      "text/plain": [
       "<Figure size 720x720 with 1 Axes>"
      ]
     },
     "metadata": {},
     "output_type": "display_data"
    }
   ],
   "source": [
    "plt.figure(figsize=(10,10))\n",
    "sns.barplot(y=data.make.value_counts().index, x=data.make.value_counts().values)\n",
    "plt.xticks(rotation=80, fontsize=13)\n",
    "plt.yticks(fontsize=11)\n",
    "plt.title('Car Make Counts')\n",
    "plt.xlabel('Count')\n",
    "plt.ylabel('Make')\n",
    "plt.show()"
   ]
  },
  {
   "cell_type": "markdown",
   "id": "varying-fantasy",
   "metadata": {},
   "source": [
    "> Toyota, Chevrolet, Mercedes-Benz, Ford,  and BMW are the 5 most prominent car makes in the data"
   ]
  },
  {
   "cell_type": "code",
   "execution_count": 35,
   "id": "coordinated-excitement",
   "metadata": {},
   "outputs": [
    {
     "data": {
      "image/png": "[encoded data removed]",
      "text/plain": [
       "<Figure size 720x432 with 1 Axes>"
      ]
     },
     "metadata": {},
     "output_type": "display_data"
    }
   ],
   "source": [
    "plt.figure(figsize=(10,6))\n",
    "sns.barplot(y=data.make.value_counts().head(5).index, x=data.make.value_counts().head(5).values)\n",
    "plt.xticks(rotation=80, fontsize=13)\n",
    "plt.yticks(fontsize=11)\n",
    "plt.title('Top 5 Car Make')\n",
    "plt.xlabel('Count')\n",
    "plt.ylabel('Make')\n",
    "plt.show()"
   ]
  },
  {
   "cell_type": "code",
   "execution_count": 36,
   "id": "entertaining-celtic",
   "metadata": {},
   "outputs": [
    {
     "data": {
      "image/png": "[encoded data removed]",
      "text/plain": [
       "<Figure size 720x432 with 1 Axes>"
      ]
     },
     "metadata": {},
     "output_type": "display_data"
    }
   ],
   "source": [
    "plt.figure(figsize=(10,6))\n",
    "sns.barplot(y=data.type.value_counts().index, x=data.type.value_counts().values)\n",
    "plt.xticks(rotation=80, fontsize=13)\n",
    "plt.yticks(fontsize=13)\n",
    "plt.title('Car Type Counts')\n",
    "plt.xlabel('Count')\n",
    "plt.ylabel('Type')\n",
    "plt.show()"
   ]
  },
  {
   "cell_type": "markdown",
   "id": "south-copyright",
   "metadata": {},
   "source": [
    "> Sedan is the highest Car type in the dataset"
   ]
  },
  {
   "cell_type": "code",
   "execution_count": 37,
   "id": "alien-uganda",
   "metadata": {},
   "outputs": [
    {
     "data": {
      "image/png": "[encoded data removed]",
      "text/plain": [
       "<Figure size 720x432 with 1 Axes>"
      ]
     },
     "metadata": {},
     "output_type": "display_data"
    }
   ],
   "source": [
    "plt.figure(figsize=(10,6))\n",
    "sns.barplot(y=data.drivetrain.value_counts().index, x=data.drivetrain.value_counts().values)\n",
    "plt.xticks(rotation=80, fontsize=13)\n",
    "plt.yticks(fontsize=13)\n",
    "plt.title('Car Drive Train Counts')\n",
    "plt.xlabel('Count')\n",
    "plt.ylabel('Drive Train')\n",
    "plt.show()"
   ]
  },
  {
   "cell_type": "code",
   "execution_count": 38,
   "id": "floating-builder",
   "metadata": {},
   "outputs": [
    {
     "data": {
      "image/png": "[encoded data removed]",
      "text/plain": [
       "<Figure size 720x432 with 1 Axes>"
      ]
     },
     "metadata": {},
     "output_type": "display_data"
    }
   ],
   "source": [
    "plt.figure(figsize=(10,6))\n",
    "sns.barplot(y=data.origin.value_counts().index, x=data.origin.value_counts().values)\n",
    "plt.xticks(rotation=80, fontsize=13)\n",
    "plt.yticks(fontsize=13)\n",
    "plt.title('Car Origin Counts')\n",
    "plt.xlabel('Count')\n",
    "plt.ylabel('Origin')\n",
    "plt.show()"
   ]
  },
  {
   "cell_type": "markdown",
   "id": "forty-pledge",
   "metadata": {},
   "source": [
    "Highest 10 Car make"
   ]
  },
  {
   "cell_type": "code",
   "execution_count": 39,
   "id": "accompanied-numbers",
   "metadata": {},
   "outputs": [
    {
     "data": {
      "text/html": [
       "<div>\n",
       "<style scoped>\n",
       "    .dataframe tbody tr th:only-of-type {\n",
       "        vertical-align: middle;\n",
       "    }\n",
       "\n",
       "    .dataframe tbody tr th {\n",
       "        vertical-align: top;\n",
       "    }\n",
       "\n",
       "    .dataframe thead th {\n",
       "        text-align: right;\n",
       "    }\n",
       "</style>\n",
       "<table border=\"1\" class=\"dataframe\">\n",
       "  <thead>\n",
       "    <tr style=\"text-align: right;\">\n",
       "      <th></th>\n",
       "      <th>make</th>\n",
       "    </tr>\n",
       "  </thead>\n",
       "  <tbody>\n",
       "    <tr>\n",
       "      <th>Toyota</th>\n",
       "      <td>28</td>\n",
       "    </tr>\n",
       "    <tr>\n",
       "      <th>Chevrolet</th>\n",
       "      <td>27</td>\n",
       "    </tr>\n",
       "    <tr>\n",
       "      <th>Mercedes-Benz</th>\n",
       "      <td>26</td>\n",
       "    </tr>\n",
       "    <tr>\n",
       "      <th>Ford</th>\n",
       "      <td>23</td>\n",
       "    </tr>\n",
       "    <tr>\n",
       "      <th>BMW</th>\n",
       "      <td>20</td>\n",
       "    </tr>\n",
       "    <tr>\n",
       "      <th>Audi</th>\n",
       "      <td>19</td>\n",
       "    </tr>\n",
       "    <tr>\n",
       "      <th>Honda</th>\n",
       "      <td>17</td>\n",
       "    </tr>\n",
       "    <tr>\n",
       "      <th>Nissan</th>\n",
       "      <td>17</td>\n",
       "    </tr>\n",
       "    <tr>\n",
       "      <th>Chrysler</th>\n",
       "      <td>15</td>\n",
       "    </tr>\n",
       "    <tr>\n",
       "      <th>Volkswagen</th>\n",
       "      <td>15</td>\n",
       "    </tr>\n",
       "  </tbody>\n",
       "</table>\n",
       "</div>"
      ],
      "text/plain": [
       "               make\n",
       "Toyota           28\n",
       "Chevrolet        27\n",
       "Mercedes-Benz    26\n",
       "Ford             23\n",
       "BMW              20\n",
       "Audi             19\n",
       "Honda            17\n",
       "Nissan           17\n",
       "Chrysler         15\n",
       "Volkswagen       15"
      ]
     },
     "execution_count": 39,
     "metadata": {},
     "output_type": "execute_result"
    }
   ],
   "source": [
    "make = data['make'].value_counts().head(10).to_frame()\n",
    "make"
   ]
  },
  {
   "cell_type": "code",
   "execution_count": 40,
   "id": "minute-groove",
   "metadata": {},
   "outputs": [
    {
     "data": {
      "text/html": [
       "<style  type=\"text/css\" >\n",
       "#T_626c8_row0_col0{\n",
       "            background-color:  #67000d;\n",
       "            color:  #f1f1f1;\n",
       "        }#T_626c8_row1_col0{\n",
       "            background-color:  #8c0912;\n",
       "            color:  #f1f1f1;\n",
       "        }#T_626c8_row2_col0{\n",
       "            background-color:  #ad1117;\n",
       "            color:  #f1f1f1;\n",
       "        }#T_626c8_row3_col0{\n",
       "            background-color:  #f03f2e;\n",
       "            color:  #f1f1f1;\n",
       "        }#T_626c8_row4_col0{\n",
       "            background-color:  #fc8f6f;\n",
       "            color:  #000000;\n",
       "        }#T_626c8_row5_col0{\n",
       "            background-color:  #fca98c;\n",
       "            color:  #000000;\n",
       "        }#T_626c8_row6_col0,#T_626c8_row7_col0{\n",
       "            background-color:  #fed8c7;\n",
       "            color:  #000000;\n",
       "        }#T_626c8_row8_col0,#T_626c8_row9_col0{\n",
       "            background-color:  #fff5f0;\n",
       "            color:  #000000;\n",
       "        }</style><table id=\"T_626c8_\" ><thead>    <tr>        <th class=\"blank level0\" ></th>        <th class=\"col_heading level0 col0\" >make</th>    </tr></thead><tbody>\n",
       "                <tr>\n",
       "                        <th id=\"T_626c8_level0_row0\" class=\"row_heading level0 row0\" >Toyota</th>\n",
       "                        <td id=\"T_626c8_row0_col0\" class=\"data row0 col0\" >28</td>\n",
       "            </tr>\n",
       "            <tr>\n",
       "                        <th id=\"T_626c8_level0_row1\" class=\"row_heading level0 row1\" >Chevrolet</th>\n",
       "                        <td id=\"T_626c8_row1_col0\" class=\"data row1 col0\" >27</td>\n",
       "            </tr>\n",
       "            <tr>\n",
       "                        <th id=\"T_626c8_level0_row2\" class=\"row_heading level0 row2\" >Mercedes-Benz</th>\n",
       "                        <td id=\"T_626c8_row2_col0\" class=\"data row2 col0\" >26</td>\n",
       "            </tr>\n",
       "            <tr>\n",
       "                        <th id=\"T_626c8_level0_row3\" class=\"row_heading level0 row3\" >Ford</th>\n",
       "                        <td id=\"T_626c8_row3_col0\" class=\"data row3 col0\" >23</td>\n",
       "            </tr>\n",
       "            <tr>\n",
       "                        <th id=\"T_626c8_level0_row4\" class=\"row_heading level0 row4\" >BMW</th>\n",
       "                        <td id=\"T_626c8_row4_col0\" class=\"data row4 col0\" >20</td>\n",
       "            </tr>\n",
       "            <tr>\n",
       "                        <th id=\"T_626c8_level0_row5\" class=\"row_heading level0 row5\" >Audi</th>\n",
       "                        <td id=\"T_626c8_row5_col0\" class=\"data row5 col0\" >19</td>\n",
       "            </tr>\n",
       "            <tr>\n",
       "                        <th id=\"T_626c8_level0_row6\" class=\"row_heading level0 row6\" >Honda</th>\n",
       "                        <td id=\"T_626c8_row6_col0\" class=\"data row6 col0\" >17</td>\n",
       "            </tr>\n",
       "            <tr>\n",
       "                        <th id=\"T_626c8_level0_row7\" class=\"row_heading level0 row7\" >Nissan</th>\n",
       "                        <td id=\"T_626c8_row7_col0\" class=\"data row7 col0\" >17</td>\n",
       "            </tr>\n",
       "            <tr>\n",
       "                        <th id=\"T_626c8_level0_row8\" class=\"row_heading level0 row8\" >Chrysler</th>\n",
       "                        <td id=\"T_626c8_row8_col0\" class=\"data row8 col0\" >15</td>\n",
       "            </tr>\n",
       "            <tr>\n",
       "                        <th id=\"T_626c8_level0_row9\" class=\"row_heading level0 row9\" >Volkswagen</th>\n",
       "                        <td id=\"T_626c8_row9_col0\" class=\"data row9 col0\" >15</td>\n",
       "            </tr>\n",
       "    </tbody></table>"
      ],
      "text/plain": [
       "<pandas.io.formats.style.Styler at 0x2a0ad25c390>"
      ]
     },
     "execution_count": 40,
     "metadata": {},
     "output_type": "execute_result"
    }
   ],
   "source": [
    "make = make.style.background_gradient(cmap='Reds')\n",
    "make"
   ]
  },
  {
   "cell_type": "markdown",
   "id": "elegant-saturn",
   "metadata": {},
   "source": [
    "Highest 15 Car Make"
   ]
  },
  {
   "cell_type": "code",
   "execution_count": 41,
   "id": "restricted-andorra",
   "metadata": {},
   "outputs": [
    {
     "data": {
      "text/html": [
       "<style  type=\"text/css\" >\n",
       "#T_2fc52_row0_col0{\n",
       "            background-color:  #08306b;\n",
       "            color:  #f1f1f1;\n",
       "        }#T_2fc52_row1_col0{\n",
       "            background-color:  #084082;\n",
       "            color:  #f1f1f1;\n",
       "        }#T_2fc52_row2_col0{\n",
       "            background-color:  #08509b;\n",
       "            color:  #f1f1f1;\n",
       "        }#T_2fc52_row3_col0{\n",
       "            background-color:  #3181bd;\n",
       "            color:  #000000;\n",
       "        }#T_2fc52_row4_col0{\n",
       "            background-color:  #6aaed6;\n",
       "            color:  #000000;\n",
       "        }#T_2fc52_row5_col0{\n",
       "            background-color:  #84bcdb;\n",
       "            color:  #000000;\n",
       "        }#T_2fc52_row6_col0,#T_2fc52_row7_col0{\n",
       "            background-color:  #b2d2e8;\n",
       "            color:  #000000;\n",
       "        }#T_2fc52_row8_col0,#T_2fc52_row9_col0{\n",
       "            background-color:  #d2e3f3;\n",
       "            color:  #000000;\n",
       "        }#T_2fc52_row10_col0,#T_2fc52_row11_col0{\n",
       "            background-color:  #eaf3fb;\n",
       "            color:  #000000;\n",
       "        }#T_2fc52_row12_col0,#T_2fc52_row13_col0,#T_2fc52_row14_col0{\n",
       "            background-color:  #f7fbff;\n",
       "            color:  #000000;\n",
       "        }</style><table id=\"T_2fc52_\" ><thead>    <tr>        <th class=\"blank level0\" ></th>        <th class=\"col_heading level0 col0\" >make</th>    </tr></thead><tbody>\n",
       "                <tr>\n",
       "                        <th id=\"T_2fc52_level0_row0\" class=\"row_heading level0 row0\" >Toyota</th>\n",
       "                        <td id=\"T_2fc52_row0_col0\" class=\"data row0 col0\" >28</td>\n",
       "            </tr>\n",
       "            <tr>\n",
       "                        <th id=\"T_2fc52_level0_row1\" class=\"row_heading level0 row1\" >Chevrolet</th>\n",
       "                        <td id=\"T_2fc52_row1_col0\" class=\"data row1 col0\" >27</td>\n",
       "            </tr>\n",
       "            <tr>\n",
       "                        <th id=\"T_2fc52_level0_row2\" class=\"row_heading level0 row2\" >Mercedes-Benz</th>\n",
       "                        <td id=\"T_2fc52_row2_col0\" class=\"data row2 col0\" >26</td>\n",
       "            </tr>\n",
       "            <tr>\n",
       "                        <th id=\"T_2fc52_level0_row3\" class=\"row_heading level0 row3\" >Ford</th>\n",
       "                        <td id=\"T_2fc52_row3_col0\" class=\"data row3 col0\" >23</td>\n",
       "            </tr>\n",
       "            <tr>\n",
       "                        <th id=\"T_2fc52_level0_row4\" class=\"row_heading level0 row4\" >BMW</th>\n",
       "                        <td id=\"T_2fc52_row4_col0\" class=\"data row4 col0\" >20</td>\n",
       "            </tr>\n",
       "            <tr>\n",
       "                        <th id=\"T_2fc52_level0_row5\" class=\"row_heading level0 row5\" >Audi</th>\n",
       "                        <td id=\"T_2fc52_row5_col0\" class=\"data row5 col0\" >19</td>\n",
       "            </tr>\n",
       "            <tr>\n",
       "                        <th id=\"T_2fc52_level0_row6\" class=\"row_heading level0 row6\" >Honda</th>\n",
       "                        <td id=\"T_2fc52_row6_col0\" class=\"data row6 col0\" >17</td>\n",
       "            </tr>\n",
       "            <tr>\n",
       "                        <th id=\"T_2fc52_level0_row7\" class=\"row_heading level0 row7\" >Nissan</th>\n",
       "                        <td id=\"T_2fc52_row7_col0\" class=\"data row7 col0\" >17</td>\n",
       "            </tr>\n",
       "            <tr>\n",
       "                        <th id=\"T_2fc52_level0_row8\" class=\"row_heading level0 row8\" >Chrysler</th>\n",
       "                        <td id=\"T_2fc52_row8_col0\" class=\"data row8 col0\" >15</td>\n",
       "            </tr>\n",
       "            <tr>\n",
       "                        <th id=\"T_2fc52_level0_row9\" class=\"row_heading level0 row9\" >Volkswagen</th>\n",
       "                        <td id=\"T_2fc52_row9_col0\" class=\"data row9 col0\" >15</td>\n",
       "            </tr>\n",
       "            <tr>\n",
       "                        <th id=\"T_2fc52_level0_row10\" class=\"row_heading level0 row10\" >Mitsubishi</th>\n",
       "                        <td id=\"T_2fc52_row10_col0\" class=\"data row10 col0\" >13</td>\n",
       "            </tr>\n",
       "            <tr>\n",
       "                        <th id=\"T_2fc52_level0_row11\" class=\"row_heading level0 row11\" >Dodge</th>\n",
       "                        <td id=\"T_2fc52_row11_col0\" class=\"data row11 col0\" >13</td>\n",
       "            </tr>\n",
       "            <tr>\n",
       "                        <th id=\"T_2fc52_level0_row12\" class=\"row_heading level0 row12\" >Volvo</th>\n",
       "                        <td id=\"T_2fc52_row12_col0\" class=\"data row12 col0\" >12</td>\n",
       "            </tr>\n",
       "            <tr>\n",
       "                        <th id=\"T_2fc52_level0_row13\" class=\"row_heading level0 row13\" >Hyundai</th>\n",
       "                        <td id=\"T_2fc52_row13_col0\" class=\"data row13 col0\" >12</td>\n",
       "            </tr>\n",
       "            <tr>\n",
       "                        <th id=\"T_2fc52_level0_row14\" class=\"row_heading level0 row14\" >Jaguar</th>\n",
       "                        <td id=\"T_2fc52_row14_col0\" class=\"data row14 col0\" >12</td>\n",
       "            </tr>\n",
       "    </tbody></table>"
      ],
      "text/plain": [
       "<pandas.io.formats.style.Styler at 0x2a0ad2a1208>"
      ]
     },
     "execution_count": 41,
     "metadata": {},
     "output_type": "execute_result"
    }
   ],
   "source": [
    "data.make.value_counts().head(15).to_frame().style.background_gradient(cmap='Blues')"
   ]
  },
  {
   "cell_type": "code",
   "execution_count": 42,
   "id": "dedicated-aruba",
   "metadata": {},
   "outputs": [
    {
     "data": {
      "text/html": [
       "<div>\n",
       "<style scoped>\n",
       "    .dataframe tbody tr th:only-of-type {\n",
       "        vertical-align: middle;\n",
       "    }\n",
       "\n",
       "    .dataframe tbody tr th {\n",
       "        vertical-align: top;\n",
       "    }\n",
       "\n",
       "    .dataframe thead th {\n",
       "        text-align: right;\n",
       "    }\n",
       "</style>\n",
       "<table border=\"1\" class=\"dataframe\">\n",
       "  <thead>\n",
       "    <tr style=\"text-align: right;\">\n",
       "      <th></th>\n",
       "      <th>make</th>\n",
       "      <th>model</th>\n",
       "      <th>type</th>\n",
       "      <th>origin</th>\n",
       "      <th>drivetrain</th>\n",
       "      <th>msrp</th>\n",
       "      <th>invoice</th>\n",
       "      <th>enginesize</th>\n",
       "      <th>cylinders</th>\n",
       "      <th>horsepower</th>\n",
       "      <th>mpg_city</th>\n",
       "      <th>mpg_highway</th>\n",
       "      <th>weight</th>\n",
       "      <th>wheelbase</th>\n",
       "      <th>length</th>\n",
       "    </tr>\n",
       "  </thead>\n",
       "  <tbody>\n",
       "    <tr>\n",
       "      <th>0</th>\n",
       "      <td>Acura</td>\n",
       "      <td>MDX</td>\n",
       "      <td>SUV</td>\n",
       "      <td>Asia</td>\n",
       "      <td>All</td>\n",
       "      <td>36945.0</td>\n",
       "      <td>33337.0</td>\n",
       "      <td>3.5</td>\n",
       "      <td>6.0</td>\n",
       "      <td>265.0</td>\n",
       "      <td>17.0</td>\n",
       "      <td>23.0</td>\n",
       "      <td>4451.0</td>\n",
       "      <td>106.0</td>\n",
       "      <td>189.0</td>\n",
       "    </tr>\n",
       "    <tr>\n",
       "      <th>1</th>\n",
       "      <td>Acura</td>\n",
       "      <td>RSX Type S 2dr</td>\n",
       "      <td>Sedan</td>\n",
       "      <td>Asia</td>\n",
       "      <td>Front</td>\n",
       "      <td>23820.0</td>\n",
       "      <td>21761.0</td>\n",
       "      <td>2.0</td>\n",
       "      <td>4.0</td>\n",
       "      <td>200.0</td>\n",
       "      <td>24.0</td>\n",
       "      <td>31.0</td>\n",
       "      <td>2778.0</td>\n",
       "      <td>101.0</td>\n",
       "      <td>172.0</td>\n",
       "    </tr>\n",
       "    <tr>\n",
       "      <th>2</th>\n",
       "      <td>Acura</td>\n",
       "      <td>TSX 4dr</td>\n",
       "      <td>Sedan</td>\n",
       "      <td>Asia</td>\n",
       "      <td>Front</td>\n",
       "      <td>26990.0</td>\n",
       "      <td>24647.0</td>\n",
       "      <td>2.4</td>\n",
       "      <td>4.0</td>\n",
       "      <td>200.0</td>\n",
       "      <td>22.0</td>\n",
       "      <td>29.0</td>\n",
       "      <td>3230.0</td>\n",
       "      <td>105.0</td>\n",
       "      <td>183.0</td>\n",
       "    </tr>\n",
       "    <tr>\n",
       "      <th>3</th>\n",
       "      <td>Acura</td>\n",
       "      <td>TL 4dr</td>\n",
       "      <td>Sedan</td>\n",
       "      <td>Asia</td>\n",
       "      <td>Front</td>\n",
       "      <td>33195.0</td>\n",
       "      <td>30299.0</td>\n",
       "      <td>3.2</td>\n",
       "      <td>6.0</td>\n",
       "      <td>270.0</td>\n",
       "      <td>20.0</td>\n",
       "      <td>28.0</td>\n",
       "      <td>3575.0</td>\n",
       "      <td>108.0</td>\n",
       "      <td>186.0</td>\n",
       "    </tr>\n",
       "    <tr>\n",
       "      <th>4</th>\n",
       "      <td>Acura</td>\n",
       "      <td>3.5 RL 4dr</td>\n",
       "      <td>Sedan</td>\n",
       "      <td>Asia</td>\n",
       "      <td>Front</td>\n",
       "      <td>43755.0</td>\n",
       "      <td>39014.0</td>\n",
       "      <td>3.5</td>\n",
       "      <td>6.0</td>\n",
       "      <td>225.0</td>\n",
       "      <td>18.0</td>\n",
       "      <td>24.0</td>\n",
       "      <td>3880.0</td>\n",
       "      <td>115.0</td>\n",
       "      <td>197.0</td>\n",
       "    </tr>\n",
       "  </tbody>\n",
       "</table>\n",
       "</div>"
      ],
      "text/plain": [
       "    make           model   type origin drivetrain     msrp  invoice  \\\n",
       "0  Acura             MDX    SUV   Asia        All  36945.0  33337.0   \n",
       "1  Acura  RSX Type S 2dr  Sedan   Asia      Front  23820.0  21761.0   \n",
       "2  Acura         TSX 4dr  Sedan   Asia      Front  26990.0  24647.0   \n",
       "3  Acura          TL 4dr  Sedan   Asia      Front  33195.0  30299.0   \n",
       "4  Acura      3.5 RL 4dr  Sedan   Asia      Front  43755.0  39014.0   \n",
       "\n",
       "   enginesize  cylinders  horsepower  mpg_city  mpg_highway  weight  \\\n",
       "0         3.5        6.0       265.0      17.0         23.0  4451.0   \n",
       "1         2.0        4.0       200.0      24.0         31.0  2778.0   \n",
       "2         2.4        4.0       200.0      22.0         29.0  3230.0   \n",
       "3         3.2        6.0       270.0      20.0         28.0  3575.0   \n",
       "4         3.5        6.0       225.0      18.0         24.0  3880.0   \n",
       "\n",
       "   wheelbase  length  \n",
       "0      106.0   189.0  \n",
       "1      101.0   172.0  \n",
       "2      105.0   183.0  \n",
       "3      108.0   186.0  \n",
       "4      115.0   197.0  "
      ]
     },
     "execution_count": 42,
     "metadata": {},
     "output_type": "execute_result"
    }
   ],
   "source": [
    "data.head()"
   ]
  },
  {
   "cell_type": "markdown",
   "id": "simplified-garbage",
   "metadata": {},
   "source": [
    "#### Which car make has highest MRP - sum()"
   ]
  },
  {
   "cell_type": "code",
   "execution_count": 43,
   "id": "focal-melissa",
   "metadata": {},
   "outputs": [
    {
     "data": {
      "text/html": [
       "<style  type=\"text/css\" >\n",
       "#T_d1dd3_row0_col0{\n",
       "            background-color:  #00441b;\n",
       "            color:  #f1f1f1;\n",
       "        }#T_d1dd3_row1_col0{\n",
       "            background-color:  #a9dca3;\n",
       "            color:  #000000;\n",
       "        }#T_d1dd3_row2_col0{\n",
       "            background-color:  #b5e1ae;\n",
       "            color:  #000000;\n",
       "        }#T_d1dd3_row3_col0{\n",
       "            background-color:  #cbebc5;\n",
       "            color:  #000000;\n",
       "        }#T_d1dd3_row4_col0{\n",
       "            background-color:  #d0edca;\n",
       "            color:  #000000;\n",
       "        }#T_d1dd3_row5_col0{\n",
       "            background-color:  #e3f4de;\n",
       "            color:  #000000;\n",
       "        }#T_d1dd3_row6_col0{\n",
       "            background-color:  #eaf7e6;\n",
       "            color:  #000000;\n",
       "        }#T_d1dd3_row7_col0{\n",
       "            background-color:  #eef8ea;\n",
       "            color:  #000000;\n",
       "        }#T_d1dd3_row8_col0,#T_d1dd3_row9_col0{\n",
       "            background-color:  #f7fcf5;\n",
       "            color:  #000000;\n",
       "        }</style><table id=\"T_d1dd3_\" ><thead>    <tr>        <th class=\"blank level0\" ></th>        <th class=\"col_heading level0 col0\" >msrp</th>    </tr>    <tr>        <th class=\"index_name level0\" >make</th>        <th class=\"blank\" ></th>    </tr></thead><tbody>\n",
       "                <tr>\n",
       "                        <th id=\"T_d1dd3_level0_row0\" class=\"row_heading level0 row0\" >Mercedes-Benz</th>\n",
       "                        <td id=\"T_d1dd3_row0_col0\" class=\"data row0 col0\" >1577077.000000</td>\n",
       "            </tr>\n",
       "            <tr>\n",
       "                        <th id=\"T_d1dd3_level0_row1\" class=\"row_heading level0 row1\" >BMW</th>\n",
       "                        <td id=\"T_d1dd3_row1_col0\" class=\"data row1 col0\" >865705.000000</td>\n",
       "            </tr>\n",
       "            <tr>\n",
       "                        <th id=\"T_d1dd3_level0_row2\" class=\"row_heading level0 row2\" >Audi</th>\n",
       "                        <td id=\"T_d1dd3_row2_col0\" class=\"data row2 col0\" >822850.000000</td>\n",
       "            </tr>\n",
       "            <tr>\n",
       "                        <th id=\"T_d1dd3_level0_row3\" class=\"row_heading level0 row3\" >Jaguar</th>\n",
       "                        <td id=\"T_d1dd3_row3_col0\" class=\"data row3 col0\" >738965.000000</td>\n",
       "            </tr>\n",
       "            <tr>\n",
       "                        <th id=\"T_d1dd3_level0_row4\" class=\"row_heading level0 row4\" >Chevrolet</th>\n",
       "                        <td id=\"T_d1dd3_row4_col0\" class=\"data row4 col0\" >717850.000000</td>\n",
       "            </tr>\n",
       "            <tr>\n",
       "                        <th id=\"T_d1dd3_level0_row5\" class=\"row_heading level0 row5\" >Toyota</th>\n",
       "                        <td id=\"T_d1dd3_row5_col0\" class=\"data row5 col0\" >630685.000000</td>\n",
       "            </tr>\n",
       "            <tr>\n",
       "                        <th id=\"T_d1dd3_level0_row6\" class=\"row_heading level0 row6\" >Porsche</th>\n",
       "                        <td id=\"T_d1dd3_row6_col0\" class=\"data row6 col0\" >584955.000000</td>\n",
       "            </tr>\n",
       "            <tr>\n",
       "                        <th id=\"T_d1dd3_level0_row7\" class=\"row_heading level0 row7\" >Ford</th>\n",
       "                        <td id=\"T_d1dd3_row7_col0\" class=\"data row7 col0\" >552365.000000</td>\n",
       "            </tr>\n",
       "            <tr>\n",
       "                        <th id=\"T_d1dd3_level0_row8\" class=\"row_heading level0 row8\" >Lexus</th>\n",
       "                        <td id=\"T_d1dd3_row8_col0\" class=\"data row8 col0\" >486370.000000</td>\n",
       "            </tr>\n",
       "            <tr>\n",
       "                        <th id=\"T_d1dd3_level0_row9\" class=\"row_heading level0 row9\" >Volkswagen</th>\n",
       "                        <td id=\"T_d1dd3_row9_col0\" class=\"data row9 col0\" >483730.000000</td>\n",
       "            </tr>\n",
       "    </tbody></table>"
      ],
      "text/plain": [
       "<pandas.io.formats.style.Styler at 0x2a0ad490978>"
      ]
     },
     "execution_count": 43,
     "metadata": {},
     "output_type": "execute_result"
    }
   ],
   "source": [
    "data.groupby('make')['msrp'].sum().nlargest(10).to_frame().style.background_gradient(cmap='Greens')"
   ]
  },
  {
   "cell_type": "code",
   "execution_count": 44,
   "id": "threatened-likelihood",
   "metadata": {},
   "outputs": [
    {
     "data": {
      "image/png": "[encoded data removed]",
      "text/plain": [
       "<Figure size 576x396 with 1 Axes>"
      ]
     },
     "metadata": {},
     "output_type": "display_data"
    }
   ],
   "source": [
    "msrp_sum = data.groupby('make')['msrp'].sum().nlargest(10).to_frame()\n",
    "msrp_sum.plot(kind='bar', color='brown')\n",
    "plt.show()"
   ]
  },
  {
   "cell_type": "code",
   "execution_count": 45,
   "id": "coupled-ordinance",
   "metadata": {},
   "outputs": [
    {
     "data": {
      "text/html": [
       "<style  type=\"text/css\" >\n",
       "#T_a638a_row0_col0{\n",
       "            background-color:  #00441b;\n",
       "            color:  #f1f1f1;\n",
       "        }#T_a638a_row1_col0{\n",
       "            background-color:  #83cb82;\n",
       "            color:  #000000;\n",
       "        }#T_a638a_row2_col0{\n",
       "            background-color:  #8bcf89;\n",
       "            color:  #000000;\n",
       "        }#T_a638a_row3_col0{\n",
       "            background-color:  #d7efd1;\n",
       "            color:  #000000;\n",
       "        }#T_a638a_row4_col0{\n",
       "            background-color:  #daf0d4;\n",
       "            color:  #000000;\n",
       "        }#T_a638a_row5_col0{\n",
       "            background-color:  #edf8e9;\n",
       "            color:  #000000;\n",
       "        }#T_a638a_row6_col0{\n",
       "            background-color:  #f2faf0;\n",
       "            color:  #000000;\n",
       "        }#T_a638a_row7_col0,#T_a638a_row8_col0{\n",
       "            background-color:  #f6fcf4;\n",
       "            color:  #000000;\n",
       "        }#T_a638a_row9_col0{\n",
       "            background-color:  #f7fcf5;\n",
       "            color:  #000000;\n",
       "        }</style><table id=\"T_a638a_\" ><thead>    <tr>        <th class=\"blank level0\" ></th>        <th class=\"col_heading level0 col0\" >msrp</th>    </tr>    <tr>        <th class=\"index_name level0\" >make</th>        <th class=\"blank\" ></th>    </tr></thead><tbody>\n",
       "                <tr>\n",
       "                        <th id=\"T_a638a_level0_row0\" class=\"row_heading level0 row0\" >Porsche</th>\n",
       "                        <td id=\"T_a638a_row0_col0\" class=\"data row0 col0\" >83565.000000</td>\n",
       "            </tr>\n",
       "            <tr>\n",
       "                        <th id=\"T_a638a_level0_row1\" class=\"row_heading level0 row1\" >Jaguar</th>\n",
       "                        <td id=\"T_a638a_row1_col0\" class=\"data row1 col0\" >61580.416667</td>\n",
       "            </tr>\n",
       "            <tr>\n",
       "                        <th id=\"T_a638a_level0_row2\" class=\"row_heading level0 row2\" >Mercedes-Benz</th>\n",
       "                        <td id=\"T_a638a_row2_col0\" class=\"data row2 col0\" >60656.807692</td>\n",
       "            </tr>\n",
       "            <tr>\n",
       "                        <th id=\"T_a638a_level0_row3\" class=\"row_heading level0 row3\" >Cadillac</th>\n",
       "                        <td id=\"T_a638a_row3_col0\" class=\"data row3 col0\" >50474.375000</td>\n",
       "            </tr>\n",
       "            <tr>\n",
       "                        <th id=\"T_a638a_level0_row4\" class=\"row_heading level0 row4\" >Hummer</th>\n",
       "                        <td id=\"T_a638a_row4_col0\" class=\"data row4 col0\" >49995.000000</td>\n",
       "            </tr>\n",
       "            <tr>\n",
       "                        <th id=\"T_a638a_level0_row5\" class=\"row_heading level0 row5\" >Land Rover</th>\n",
       "                        <td id=\"T_a638a_row5_col0\" class=\"data row5 col0\" >45831.666667</td>\n",
       "            </tr>\n",
       "            <tr>\n",
       "                        <th id=\"T_a638a_level0_row6\" class=\"row_heading level0 row6\" >Lexus</th>\n",
       "                        <td id=\"T_a638a_row6_col0\" class=\"data row6 col0\" >44215.454545</td>\n",
       "            </tr>\n",
       "            <tr>\n",
       "                        <th id=\"T_a638a_level0_row7\" class=\"row_heading level0 row7\" >Audi</th>\n",
       "                        <td id=\"T_a638a_row7_col0\" class=\"data row7 col0\" >43307.894737</td>\n",
       "            </tr>\n",
       "            <tr>\n",
       "                        <th id=\"T_a638a_level0_row8\" class=\"row_heading level0 row8\" >BMW</th>\n",
       "                        <td id=\"T_a638a_row8_col0\" class=\"data row8 col0\" >43285.250000</td>\n",
       "            </tr>\n",
       "            <tr>\n",
       "                        <th id=\"T_a638a_level0_row9\" class=\"row_heading level0 row9\" >Acura</th>\n",
       "                        <td id=\"T_a638a_row9_col0\" class=\"data row9 col0\" >42938.571429</td>\n",
       "            </tr>\n",
       "    </tbody></table>"
      ],
      "text/plain": [
       "<pandas.io.formats.style.Styler at 0x2a0ad4bf9e8>"
      ]
     },
     "execution_count": 45,
     "metadata": {},
     "output_type": "execute_result"
    }
   ],
   "source": [
    "data.groupby('make')['msrp'].mean().nlargest(10).to_frame().style.background_gradient(cmap='Greens')"
   ]
  },
  {
   "cell_type": "code",
   "execution_count": 46,
   "id": "sunrise-supervision",
   "metadata": {},
   "outputs": [
    {
     "data": {
      "text/plain": [
       "<AxesSubplot:xlabel='make'>"
      ]
     },
     "execution_count": 46,
     "metadata": {},
     "output_type": "execute_result"
    },
    {
     "data": {
      "image/png": "[encoded data removed]",
      "text/plain": [
       "<Figure size 576x396 with 1 Axes>"
      ]
     },
     "metadata": {},
     "output_type": "display_data"
    }
   ],
   "source": [
    "msrp_mean = data.groupby('make')['msrp'].mean().nlargest(10).to_frame()\n",
    "msrp_mean.plot(kind='bar', color='brown')"
   ]
  },
  {
   "cell_type": "markdown",
   "id": "stopped-snapshot",
   "metadata": {},
   "source": [
    "> **Porsche had the highest MSRP (Manufacture's Suggested Retail Price) mean at 83,565**"
   ]
  },
  {
   "cell_type": "markdown",
   "id": "taken-ownership",
   "metadata": {},
   "source": [
    "**What features make Porsche the first ranking?**\n",
    "> Get top 5 most expensive Porsche cars"
   ]
  },
  {
   "cell_type": "code",
   "execution_count": 47,
   "id": "recognized-toddler",
   "metadata": {},
   "outputs": [
    {
     "data": {
      "text/html": [
       "<style  type=\"text/css\" >\n",
       "#T_55fd8_row0_col5,#T_55fd8_row0_col6,#T_55fd8_row0_col9,#T_55fd8_row2_col10,#T_55fd8_row2_col11,#T_55fd8_row3_col10,#T_55fd8_row3_col11,#T_55fd8_row4_col7,#T_55fd8_row4_col8,#T_55fd8_row4_col12,#T_55fd8_row4_col13,#T_55fd8_row4_col14,#T_55fd8_row5_col10,#T_55fd8_row5_col11{\n",
       "            background-color:  #67000d;\n",
       "            color:  #f1f1f1;\n",
       "        }#T_55fd8_row0_col7,#T_55fd8_row1_col7,#T_55fd8_row2_col7,#T_55fd8_row3_col7{\n",
       "            background-color:  #fca98c;\n",
       "            color:  #000000;\n",
       "        }#T_55fd8_row0_col8,#T_55fd8_row0_col13,#T_55fd8_row1_col8,#T_55fd8_row1_col13,#T_55fd8_row2_col8,#T_55fd8_row2_col13,#T_55fd8_row3_col8,#T_55fd8_row3_col13,#T_55fd8_row4_col10,#T_55fd8_row4_col11,#T_55fd8_row5_col5,#T_55fd8_row5_col6,#T_55fd8_row5_col7,#T_55fd8_row5_col8,#T_55fd8_row5_col9,#T_55fd8_row5_col12,#T_55fd8_row5_col14{\n",
       "            background-color:  #fff5f0;\n",
       "            color:  #000000;\n",
       "        }#T_55fd8_row0_col10,#T_55fd8_row0_col11,#T_55fd8_row1_col10,#T_55fd8_row1_col11{\n",
       "            background-color:  #ca181d;\n",
       "            color:  #f1f1f1;\n",
       "        }#T_55fd8_row0_col12{\n",
       "            background-color:  #fee3d7;\n",
       "            color:  #000000;\n",
       "        }#T_55fd8_row0_col14,#T_55fd8_row1_col14,#T_55fd8_row2_col14,#T_55fd8_row3_col14{\n",
       "            background-color:  #fcb296;\n",
       "            color:  #000000;\n",
       "        }#T_55fd8_row1_col5{\n",
       "            background-color:  #fcc2aa;\n",
       "            color:  #000000;\n",
       "        }#T_55fd8_row1_col6{\n",
       "            background-color:  #fdc9b3;\n",
       "            color:  #000000;\n",
       "        }#T_55fd8_row1_col9,#T_55fd8_row2_col9,#T_55fd8_row3_col9{\n",
       "            background-color:  #fcb89e;\n",
       "            color:  #000000;\n",
       "        }#T_55fd8_row1_col12{\n",
       "            background-color:  #fdd5c4;\n",
       "            color:  #000000;\n",
       "        }#T_55fd8_row2_col5{\n",
       "            background-color:  #fdcdb9;\n",
       "            color:  #000000;\n",
       "        }#T_55fd8_row2_col6{\n",
       "            background-color:  #fdcebb;\n",
       "            color:  #000000;\n",
       "        }#T_55fd8_row2_col12{\n",
       "            background-color:  #fee3d6;\n",
       "            color:  #000000;\n",
       "        }#T_55fd8_row3_col5{\n",
       "            background-color:  #fdd2bf;\n",
       "            color:  #000000;\n",
       "        }#T_55fd8_row3_col6{\n",
       "            background-color:  #fdd4c2;\n",
       "            color:  #000000;\n",
       "        }#T_55fd8_row3_col12,#T_55fd8_row5_col13{\n",
       "            background-color:  #fee4d8;\n",
       "            color:  #000000;\n",
       "        }#T_55fd8_row4_col5{\n",
       "            background-color:  #fff0e9;\n",
       "            color:  #000000;\n",
       "        }#T_55fd8_row4_col6{\n",
       "            background-color:  #fff0e8;\n",
       "            color:  #000000;\n",
       "        }#T_55fd8_row4_col9{\n",
       "            background-color:  #fc9373;\n",
       "            color:  #000000;\n",
       "        }</style><table id=\"T_55fd8_\" ><thead>    <tr>        <th class=\"blank level0\" ></th>        <th class=\"col_heading level0 col0\" >make</th>        <th class=\"col_heading level0 col1\" >model</th>        <th class=\"col_heading level0 col2\" >type</th>        <th class=\"col_heading level0 col3\" >origin</th>        <th class=\"col_heading level0 col4\" >drivetrain</th>        <th class=\"col_heading level0 col5\" >msrp</th>        <th class=\"col_heading level0 col6\" >invoice</th>        <th class=\"col_heading level0 col7\" >enginesize</th>        <th class=\"col_heading level0 col8\" >cylinders</th>        <th class=\"col_heading level0 col9\" >horsepower</th>        <th class=\"col_heading level0 col10\" >mpg_city</th>        <th class=\"col_heading level0 col11\" >mpg_highway</th>        <th class=\"col_heading level0 col12\" >weight</th>        <th class=\"col_heading level0 col13\" >wheelbase</th>        <th class=\"col_heading level0 col14\" >length</th>    </tr></thead><tbody>\n",
       "                <tr>\n",
       "                        <th id=\"T_55fd8_level0_row0\" class=\"row_heading level0 row0\" >338</th>\n",
       "                        <td id=\"T_55fd8_row0_col0\" class=\"data row0 col0\" >Porsche</td>\n",
       "                        <td id=\"T_55fd8_row0_col1\" class=\"data row0 col1\" >911 GT2 2dr</td>\n",
       "                        <td id=\"T_55fd8_row0_col2\" class=\"data row0 col2\" >Sports</td>\n",
       "                        <td id=\"T_55fd8_row0_col3\" class=\"data row0 col3\" >Europe</td>\n",
       "                        <td id=\"T_55fd8_row0_col4\" class=\"data row0 col4\" >Rear</td>\n",
       "                        <td id=\"T_55fd8_row0_col5\" class=\"data row0 col5\" >192465.000000</td>\n",
       "                        <td id=\"T_55fd8_row0_col6\" class=\"data row0 col6\" >173560.000000</td>\n",
       "                        <td id=\"T_55fd8_row0_col7\" class=\"data row0 col7\" >3.600000</td>\n",
       "                        <td id=\"T_55fd8_row0_col8\" class=\"data row0 col8\" >6.000000</td>\n",
       "                        <td id=\"T_55fd8_row0_col9\" class=\"data row0 col9\" >477.000000</td>\n",
       "                        <td id=\"T_55fd8_row0_col10\" class=\"data row0 col10\" >17.000000</td>\n",
       "                        <td id=\"T_55fd8_row0_col11\" class=\"data row0 col11\" >24.000000</td>\n",
       "                        <td id=\"T_55fd8_row0_col12\" class=\"data row0 col12\" >3131.000000</td>\n",
       "                        <td id=\"T_55fd8_row0_col13\" class=\"data row0 col13\" >93.000000</td>\n",
       "                        <td id=\"T_55fd8_row0_col14\" class=\"data row0 col14\" >175.000000</td>\n",
       "            </tr>\n",
       "            <tr>\n",
       "                        <th id=\"T_55fd8_level0_row1\" class=\"row_heading level0 row1\" >336</th>\n",
       "                        <td id=\"T_55fd8_row1_col0\" class=\"data row1 col0\" >Porsche</td>\n",
       "                        <td id=\"T_55fd8_row1_col1\" class=\"data row1 col1\" >911 Carrera 4S coupe 2dr (convert)</td>\n",
       "                        <td id=\"T_55fd8_row1_col2\" class=\"data row1 col2\" >Sports</td>\n",
       "                        <td id=\"T_55fd8_row1_col3\" class=\"data row1 col3\" >Europe</td>\n",
       "                        <td id=\"T_55fd8_row1_col4\" class=\"data row1 col4\" >All</td>\n",
       "                        <td id=\"T_55fd8_row1_col5\" class=\"data row1 col5\" >84165.000000</td>\n",
       "                        <td id=\"T_55fd8_row1_col6\" class=\"data row1 col6\" >72206.000000</td>\n",
       "                        <td id=\"T_55fd8_row1_col7\" class=\"data row1 col7\" >3.600000</td>\n",
       "                        <td id=\"T_55fd8_row1_col8\" class=\"data row1 col8\" >6.000000</td>\n",
       "                        <td id=\"T_55fd8_row1_col9\" class=\"data row1 col9\" >315.000000</td>\n",
       "                        <td id=\"T_55fd8_row1_col10\" class=\"data row1 col10\" >17.000000</td>\n",
       "                        <td id=\"T_55fd8_row1_col11\" class=\"data row1 col11\" >24.000000</td>\n",
       "                        <td id=\"T_55fd8_row1_col12\" class=\"data row1 col12\" >3240.000000</td>\n",
       "                        <td id=\"T_55fd8_row1_col13\" class=\"data row1 col13\" >93.000000</td>\n",
       "                        <td id=\"T_55fd8_row1_col14\" class=\"data row1 col14\" >175.000000</td>\n",
       "            </tr>\n",
       "            <tr>\n",
       "                        <th id=\"T_55fd8_level0_row2\" class=\"row_heading level0 row2\" >335</th>\n",
       "                        <td id=\"T_55fd8_row2_col0\" class=\"data row2 col0\" >Porsche</td>\n",
       "                        <td id=\"T_55fd8_row2_col1\" class=\"data row2 col1\" >911 Carrera convertible 2dr (coupe)</td>\n",
       "                        <td id=\"T_55fd8_row2_col2\" class=\"data row2 col2\" >Sports</td>\n",
       "                        <td id=\"T_55fd8_row2_col3\" class=\"data row2 col3\" >Europe</td>\n",
       "                        <td id=\"T_55fd8_row2_col4\" class=\"data row2 col4\" >Rear</td>\n",
       "                        <td id=\"T_55fd8_row2_col5\" class=\"data row2 col5\" >79165.000000</td>\n",
       "                        <td id=\"T_55fd8_row2_col6\" class=\"data row2 col6\" >69229.000000</td>\n",
       "                        <td id=\"T_55fd8_row2_col7\" class=\"data row2 col7\" >3.600000</td>\n",
       "                        <td id=\"T_55fd8_row2_col8\" class=\"data row2 col8\" >6.000000</td>\n",
       "                        <td id=\"T_55fd8_row2_col9\" class=\"data row2 col9\" >315.000000</td>\n",
       "                        <td id=\"T_55fd8_row2_col10\" class=\"data row2 col10\" >18.000000</td>\n",
       "                        <td id=\"T_55fd8_row2_col11\" class=\"data row2 col11\" >26.000000</td>\n",
       "                        <td id=\"T_55fd8_row2_col12\" class=\"data row2 col12\" >3135.000000</td>\n",
       "                        <td id=\"T_55fd8_row2_col13\" class=\"data row2 col13\" >93.000000</td>\n",
       "                        <td id=\"T_55fd8_row2_col14\" class=\"data row2 col14\" >175.000000</td>\n",
       "            </tr>\n",
       "            <tr>\n",
       "                        <th id=\"T_55fd8_level0_row3\" class=\"row_heading level0 row3\" >337</th>\n",
       "                        <td id=\"T_55fd8_row3_col0\" class=\"data row3 col0\" >Porsche</td>\n",
       "                        <td id=\"T_55fd8_row3_col1\" class=\"data row3 col1\" >911 Targa coupe 2dr</td>\n",
       "                        <td id=\"T_55fd8_row3_col2\" class=\"data row3 col2\" >Sports</td>\n",
       "                        <td id=\"T_55fd8_row3_col3\" class=\"data row3 col3\" >Europe</td>\n",
       "                        <td id=\"T_55fd8_row3_col4\" class=\"data row3 col4\" >Rear</td>\n",
       "                        <td id=\"T_55fd8_row3_col5\" class=\"data row3 col5\" >76765.000000</td>\n",
       "                        <td id=\"T_55fd8_row3_col6\" class=\"data row3 col6\" >67128.000000</td>\n",
       "                        <td id=\"T_55fd8_row3_col7\" class=\"data row3 col7\" >3.600000</td>\n",
       "                        <td id=\"T_55fd8_row3_col8\" class=\"data row3 col8\" >6.000000</td>\n",
       "                        <td id=\"T_55fd8_row3_col9\" class=\"data row3 col9\" >315.000000</td>\n",
       "                        <td id=\"T_55fd8_row3_col10\" class=\"data row3 col10\" >18.000000</td>\n",
       "                        <td id=\"T_55fd8_row3_col11\" class=\"data row3 col11\" >26.000000</td>\n",
       "                        <td id=\"T_55fd8_row3_col12\" class=\"data row3 col12\" >3119.000000</td>\n",
       "                        <td id=\"T_55fd8_row3_col13\" class=\"data row3 col13\" >93.000000</td>\n",
       "                        <td id=\"T_55fd8_row3_col14\" class=\"data row3 col14\" >175.000000</td>\n",
       "            </tr>\n",
       "            <tr>\n",
       "                        <th id=\"T_55fd8_level0_row4\" class=\"row_heading level0 row4\" >334</th>\n",
       "                        <td id=\"T_55fd8_row4_col0\" class=\"data row4 col0\" >Porsche</td>\n",
       "                        <td id=\"T_55fd8_row4_col1\" class=\"data row4 col1\" >Cayenne S</td>\n",
       "                        <td id=\"T_55fd8_row4_col2\" class=\"data row4 col2\" >SUV</td>\n",
       "                        <td id=\"T_55fd8_row4_col3\" class=\"data row4 col3\" >Europe</td>\n",
       "                        <td id=\"T_55fd8_row4_col4\" class=\"data row4 col4\" >All</td>\n",
       "                        <td id=\"T_55fd8_row4_col5\" class=\"data row4 col5\" >56665.000000</td>\n",
       "                        <td id=\"T_55fd8_row4_col6\" class=\"data row4 col6\" >49865.000000</td>\n",
       "                        <td id=\"T_55fd8_row4_col7\" class=\"data row4 col7\" >4.500000</td>\n",
       "                        <td id=\"T_55fd8_row4_col8\" class=\"data row4 col8\" >8.000000</td>\n",
       "                        <td id=\"T_55fd8_row4_col9\" class=\"data row4 col9\" >340.000000</td>\n",
       "                        <td id=\"T_55fd8_row4_col10\" class=\"data row4 col10\" >14.000000</td>\n",
       "                        <td id=\"T_55fd8_row4_col11\" class=\"data row4 col11\" >18.000000</td>\n",
       "                        <td id=\"T_55fd8_row4_col12\" class=\"data row4 col12\" >4950.000000</td>\n",
       "                        <td id=\"T_55fd8_row4_col13\" class=\"data row4 col13\" >112.000000</td>\n",
       "                        <td id=\"T_55fd8_row4_col14\" class=\"data row4 col14\" >188.000000</td>\n",
       "            </tr>\n",
       "            <tr>\n",
       "                        <th id=\"T_55fd8_level0_row5\" class=\"row_heading level0 row5\" >340</th>\n",
       "                        <td id=\"T_55fd8_row5_col0\" class=\"data row5 col0\" >Porsche</td>\n",
       "                        <td id=\"T_55fd8_row5_col1\" class=\"data row5 col1\" >Boxster S convertible 2dr</td>\n",
       "                        <td id=\"T_55fd8_row5_col2\" class=\"data row5 col2\" >Sports</td>\n",
       "                        <td id=\"T_55fd8_row5_col3\" class=\"data row5 col3\" >Europe</td>\n",
       "                        <td id=\"T_55fd8_row5_col4\" class=\"data row5 col4\" >Rear</td>\n",
       "                        <td id=\"T_55fd8_row5_col5\" class=\"data row5 col5\" >52365.000000</td>\n",
       "                        <td id=\"T_55fd8_row5_col6\" class=\"data row5 col6\" >45766.000000</td>\n",
       "                        <td id=\"T_55fd8_row5_col7\" class=\"data row5 col7\" >3.200000</td>\n",
       "                        <td id=\"T_55fd8_row5_col8\" class=\"data row5 col8\" >6.000000</td>\n",
       "                        <td id=\"T_55fd8_row5_col9\" class=\"data row5 col9\" >258.000000</td>\n",
       "                        <td id=\"T_55fd8_row5_col10\" class=\"data row5 col10\" >18.000000</td>\n",
       "                        <td id=\"T_55fd8_row5_col11\" class=\"data row5 col11\" >26.000000</td>\n",
       "                        <td id=\"T_55fd8_row5_col12\" class=\"data row5 col12\" >2911.000000</td>\n",
       "                        <td id=\"T_55fd8_row5_col13\" class=\"data row5 col13\" >95.000000</td>\n",
       "                        <td id=\"T_55fd8_row5_col14\" class=\"data row5 col14\" >170.000000</td>\n",
       "            </tr>\n",
       "    </tbody></table>"
      ],
      "text/plain": [
       "<pandas.io.formats.style.Styler at 0x2a0ad613ef0>"
      ]
     },
     "execution_count": 47,
     "metadata": {},
     "output_type": "execute_result"
    }
   ],
   "source": [
    "Porshce = data[data['make'].str.contains('Porsche')]\n",
    "porsh = Porshce.sort_values(by=['msrp'], ascending=False).nlargest(6, 'msrp')\n",
    "porsh_make = porsh.style.background_gradient(cmap='Reds')\n",
    "porsh_make"
   ]
  },
  {
   "cell_type": "markdown",
   "id": "legal-pacific",
   "metadata": {},
   "source": [
    "> **The 911 GT2 2dr Porsche model ranks the highest in MSRP. The GT2 2dr has the highest horse power of 477 and like the others is a sports type excet Cayenne S which is an SUV.**"
   ]
  },
  {
   "cell_type": "markdown",
   "id": "skilled-bibliography",
   "metadata": {},
   "source": [
    "What are the Vehicle types out there and which ones are considered to contribute more to the manufacturer's suggested retail price (MSRP)?"
   ]
  },
  {
   "cell_type": "code",
   "execution_count": 48,
   "id": "grand-ministry",
   "metadata": {},
   "outputs": [
    {
     "data": {
      "image/png": "[encoded data removed]",
      "text/plain": [
       "<Figure size 576x396 with 1 Axes>"
      ]
     },
     "metadata": {},
     "output_type": "display_data"
    }
   ],
   "source": [
    "sns.barplot(x=data.msrp, y=data.type)\n",
    "plt.title('Vehicle Type and MSRP', weight='bold', fontsize=14)\n",
    "plt.ylabel('Vehicle Type', weight='bold', fontsize=14)\n",
    "plt.xlabel('MSRP', weight='bold', fontsize=14)\n",
    "plt.xticks(weight='bold')\n",
    "plt.yticks(weight='bold')\n",
    "plt.show()"
   ]
  },
  {
   "cell_type": "markdown",
   "id": "constitutional-custom",
   "metadata": {},
   "source": [
    "> **Sports, Sedan and SUV types make the Make worth more in terms of Manufacturer's Suggested Retail Price**\n",
    "\n",
    "> **Wagon, Truck and Hybrid Types make the Make worth less in tems of MSRP**"
   ]
  },
  {
   "cell_type": "markdown",
   "id": "confused-projection",
   "metadata": {},
   "source": [
    "The Least Expensive makes"
   ]
  },
  {
   "cell_type": "code",
   "execution_count": 72,
   "id": "million-clone",
   "metadata": {},
   "outputs": [
    {
     "data": {
      "text/html": [
       "<style  type=\"text/css\" >\n",
       "#T_f7962_row0_col0{\n",
       "            background-color:  #f7fcf5;\n",
       "            color:  #000000;\n",
       "        }#T_f7962_row1_col0{\n",
       "            background-color:  #edf8ea;\n",
       "            color:  #000000;\n",
       "        }#T_f7962_row2_col0{\n",
       "            background-color:  #def2d9;\n",
       "            color:  #000000;\n",
       "        }#T_f7962_row3_col0{\n",
       "            background-color:  #dbf1d5;\n",
       "            color:  #000000;\n",
       "        }#T_f7962_row4_col0{\n",
       "            background-color:  #b8e3b2;\n",
       "            color:  #000000;\n",
       "        }#T_f7962_row5_col0{\n",
       "            background-color:  #b4e1ad;\n",
       "            color:  #000000;\n",
       "        }#T_f7962_row6_col0{\n",
       "            background-color:  #2f984f;\n",
       "            color:  #000000;\n",
       "        }#T_f7962_row7_col0{\n",
       "            background-color:  #238b45;\n",
       "            color:  #000000;\n",
       "        }#T_f7962_row8_col0{\n",
       "            background-color:  #228a44;\n",
       "            color:  #000000;\n",
       "        }#T_f7962_row9_col0{\n",
       "            background-color:  #00441b;\n",
       "            color:  #f1f1f1;\n",
       "        }</style><table id=\"T_f7962_\" ><thead>    <tr>        <th class=\"blank level0\" ></th>        <th class=\"col_heading level0 col0\" >msrp</th>    </tr>    <tr>        <th class=\"index_name level0\" >make</th>        <th class=\"blank\" ></th>    </tr></thead><tbody>\n",
       "                <tr>\n",
       "                        <th id=\"T_f7962_level0_row0\" class=\"row_heading level0 row0\" >Scion</th>\n",
       "                        <td id=\"T_f7962_row0_col0\" class=\"data row0 col0\" >27130.000000</td>\n",
       "            </tr>\n",
       "            <tr>\n",
       "                        <th id=\"T_f7962_level0_row1\" class=\"row_heading level0 row1\" >MINI</th>\n",
       "                        <td id=\"T_f7962_row1_col0\" class=\"data row1 col0\" >36998.000000</td>\n",
       "            </tr>\n",
       "            <tr>\n",
       "                        <th id=\"T_f7962_level0_row2\" class=\"row_heading level0 row2\" >Hummer</th>\n",
       "                        <td id=\"T_f7962_row2_col0\" class=\"data row2 col0\" >49995.000000</td>\n",
       "            </tr>\n",
       "            <tr>\n",
       "                        <th id=\"T_f7962_level0_row3\" class=\"row_heading level0 row3\" >Isuzu</th>\n",
       "                        <td id=\"T_f7962_row3_col0\" class=\"data row3 col0\" >52298.000000</td>\n",
       "            </tr>\n",
       "            <tr>\n",
       "                        <th id=\"T_f7962_level0_row4\" class=\"row_heading level0 row4\" >Oldsmobile</th>\n",
       "                        <td id=\"T_f7962_row4_col0\" class=\"data row4 col0\" >71290.000000</td>\n",
       "            </tr>\n",
       "            <tr>\n",
       "                        <th id=\"T_f7962_level0_row5\" class=\"row_heading level0 row5\" >Jeep</th>\n",
       "                        <td id=\"T_f7962_row5_col0\" class=\"data row5 col0\" >73555.000000</td>\n",
       "            </tr>\n",
       "            <tr>\n",
       "                        <th id=\"T_f7962_level0_row6\" class=\"row_heading level0 row6\" >Suzuki</th>\n",
       "                        <td id=\"T_f7962_row6_col0\" class=\"data row6 col0\" >129842.000000</td>\n",
       "            </tr>\n",
       "            <tr>\n",
       "                        <th id=\"T_f7962_level0_row7\" class=\"row_heading level0 row7\" >Land Rover</th>\n",
       "                        <td id=\"T_f7962_row7_col0\" class=\"data row7 col0\" >137495.000000</td>\n",
       "            </tr>\n",
       "            <tr>\n",
       "                        <th id=\"T_f7962_level0_row8\" class=\"row_heading level0 row8\" >Saturn</th>\n",
       "                        <td id=\"T_f7962_row8_col0\" class=\"data row8 col0\" >137875.000000</td>\n",
       "            </tr>\n",
       "            <tr>\n",
       "                        <th id=\"T_f7962_level0_row9\" class=\"row_heading level0 row9\" >Kia</th>\n",
       "                        <td id=\"T_f7962_row9_col0\" class=\"data row9 col0\" >174635.000000</td>\n",
       "            </tr>\n",
       "    </tbody></table>"
      ],
      "text/plain": [
       "<pandas.io.formats.style.Styler at 0x2a0af1870f0>"
      ]
     },
     "execution_count": 72,
     "metadata": {},
     "output_type": "execute_result"
    }
   ],
   "source": [
    "data.groupby('make')['msrp'].sum().nsmallest(10).to_frame().style.background_gradient(cmap='Greens')"
   ]
  },
  {
   "cell_type": "code",
   "execution_count": 71,
   "id": "polished-parallel",
   "metadata": {},
   "outputs": [
    {
     "data": {
      "image/png": "[encoded data removed]",
      "text/plain": [
       "<Figure size 576x396 with 1 Axes>"
      ]
     },
     "metadata": {},
     "output_type": "display_data"
    }
   ],
   "source": [
    "smallest = data.groupby('make').sum()[num_cols].nsmallest(10, 'msrp')\n",
    "smallest.groupby(['make'])['msrp'].sum().nlargest(10).plot(kind='bar', color='brown')\n",
    "plt.title('10 Less Expensive Car Makes', weight='bold')\n",
    "plt.xticks(fontsize=13, weight='bold')\n",
    "plt.yticks(fontsize=13, weight='bold')\n",
    "plt.ylabel('MRSP', fontsize=13, weight='bold')\n",
    "plt.xlabel('Car Make', fontsize=13, weight='bold')\n",
    "plt.show()"
   ]
  },
  {
   "cell_type": "markdown",
   "id": "handy-style",
   "metadata": {},
   "source": [
    "##### Features that make Kia less expensive with MSRP"
   ]
  },
  {
   "cell_type": "code",
   "execution_count": 81,
   "id": "breeding-treasury",
   "metadata": {},
   "outputs": [
    {
     "data": {
      "text/html": [
       "<style  type=\"text/css\" >\n",
       "#T_7c7eb_row0_col5,#T_7c7eb_row0_col6,#T_7c7eb_row0_col7,#T_7c7eb_row0_col8,#T_7c7eb_row0_col9,#T_7c7eb_row0_col12,#T_7c7eb_row0_col13,#T_7c7eb_row0_col14,#T_7c7eb_row1_col7,#T_7c7eb_row1_col8,#T_7c7eb_row1_col9,#T_7c7eb_row1_col11,#T_7c7eb_row1_col13,#T_7c7eb_row1_col14,#T_7c7eb_row2_col7,#T_7c7eb_row2_col8,#T_7c7eb_row2_col9,#T_7c7eb_row2_col13,#T_7c7eb_row2_col14,#T_7c7eb_row3_col8,#T_7c7eb_row3_col10,#T_7c7eb_row3_col11,#T_7c7eb_row4_col8,#T_7c7eb_row4_col10,#T_7c7eb_row4_col11,#T_7c7eb_row5_col8,#T_7c7eb_row5_col10,#T_7c7eb_row5_col11{\n",
       "            background-color:  #fff5f0;\n",
       "            color:  #000000;\n",
       "        }#T_7c7eb_row0_col10,#T_7c7eb_row0_col11,#T_7c7eb_row2_col10,#T_7c7eb_row2_col11,#T_7c7eb_row3_col7,#T_7c7eb_row3_col9,#T_7c7eb_row3_col13,#T_7c7eb_row3_col14,#T_7c7eb_row4_col7,#T_7c7eb_row4_col9,#T_7c7eb_row4_col13,#T_7c7eb_row4_col14,#T_7c7eb_row5_col5,#T_7c7eb_row5_col6,#T_7c7eb_row5_col7,#T_7c7eb_row5_col9,#T_7c7eb_row5_col12,#T_7c7eb_row5_col13,#T_7c7eb_row5_col14{\n",
       "            background-color:  #67000d;\n",
       "            color:  #f1f1f1;\n",
       "        }#T_7c7eb_row1_col5{\n",
       "            background-color:  #fdcab5;\n",
       "            color:  #000000;\n",
       "        }#T_7c7eb_row1_col6{\n",
       "            background-color:  #fdc6b0;\n",
       "            color:  #000000;\n",
       "        }#T_7c7eb_row1_col10{\n",
       "            background-color:  #fb694a;\n",
       "            color:  #000000;\n",
       "        }#T_7c7eb_row1_col12{\n",
       "            background-color:  #fdcebb;\n",
       "            color:  #000000;\n",
       "        }#T_7c7eb_row2_col5{\n",
       "            background-color:  #fc9373;\n",
       "            color:  #000000;\n",
       "        }#T_7c7eb_row2_col6{\n",
       "            background-color:  #fc8d6d;\n",
       "            color:  #000000;\n",
       "        }#T_7c7eb_row2_col12{\n",
       "            background-color:  #fed9c9;\n",
       "            color:  #000000;\n",
       "        }#T_7c7eb_row3_col5{\n",
       "            background-color:  #fb7151;\n",
       "            color:  #000000;\n",
       "        }#T_7c7eb_row3_col6{\n",
       "            background-color:  #fb7b5b;\n",
       "            color:  #000000;\n",
       "        }#T_7c7eb_row3_col12{\n",
       "            background-color:  #a30f15;\n",
       "            color:  #f1f1f1;\n",
       "        }#T_7c7eb_row4_col5{\n",
       "            background-color:  #c8171c;\n",
       "            color:  #f1f1f1;\n",
       "        }#T_7c7eb_row4_col6{\n",
       "            background-color:  #c9181d;\n",
       "            color:  #f1f1f1;\n",
       "        }#T_7c7eb_row4_col12{\n",
       "            background-color:  #79040f;\n",
       "            color:  #f1f1f1;\n",
       "        }</style><table id=\"T_7c7eb_\" ><thead>    <tr>        <th class=\"blank level0\" ></th>        <th class=\"col_heading level0 col0\" >make</th>        <th class=\"col_heading level0 col1\" >model</th>        <th class=\"col_heading level0 col2\" >type</th>        <th class=\"col_heading level0 col3\" >origin</th>        <th class=\"col_heading level0 col4\" >drivetrain</th>        <th class=\"col_heading level0 col5\" >msrp</th>        <th class=\"col_heading level0 col6\" >invoice</th>        <th class=\"col_heading level0 col7\" >enginesize</th>        <th class=\"col_heading level0 col8\" >cylinders</th>        <th class=\"col_heading level0 col9\" >horsepower</th>        <th class=\"col_heading level0 col10\" >mpg_city</th>        <th class=\"col_heading level0 col11\" >mpg_highway</th>        <th class=\"col_heading level0 col12\" >weight</th>        <th class=\"col_heading level0 col13\" >wheelbase</th>        <th class=\"col_heading level0 col14\" >length</th>    </tr></thead><tbody>\n",
       "                <tr>\n",
       "                        <th id=\"T_7c7eb_level0_row0\" class=\"row_heading level0 row0\" >210</th>\n",
       "                        <td id=\"T_7c7eb_row0_col0\" class=\"data row0 col0\" >Kia</td>\n",
       "                        <td id=\"T_7c7eb_row0_col1\" class=\"data row0 col1\" >Rio 4dr manual</td>\n",
       "                        <td id=\"T_7c7eb_row0_col2\" class=\"data row0 col2\" >Sedan</td>\n",
       "                        <td id=\"T_7c7eb_row0_col3\" class=\"data row0 col3\" >Asia</td>\n",
       "                        <td id=\"T_7c7eb_row0_col4\" class=\"data row0 col4\" >Front</td>\n",
       "                        <td id=\"T_7c7eb_row0_col5\" class=\"data row0 col5\" >10280.000000</td>\n",
       "                        <td id=\"T_7c7eb_row0_col6\" class=\"data row0 col6\" >9875.000000</td>\n",
       "                        <td id=\"T_7c7eb_row0_col7\" class=\"data row0 col7\" >1.600000</td>\n",
       "                        <td id=\"T_7c7eb_row0_col8\" class=\"data row0 col8\" >4.000000</td>\n",
       "                        <td id=\"T_7c7eb_row0_col9\" class=\"data row0 col9\" >104.000000</td>\n",
       "                        <td id=\"T_7c7eb_row0_col10\" class=\"data row0 col10\" >26.000000</td>\n",
       "                        <td id=\"T_7c7eb_row0_col11\" class=\"data row0 col11\" >33.000000</td>\n",
       "                        <td id=\"T_7c7eb_row0_col12\" class=\"data row0 col12\" >2403.000000</td>\n",
       "                        <td id=\"T_7c7eb_row0_col13\" class=\"data row0 col13\" >95.000000</td>\n",
       "                        <td id=\"T_7c7eb_row0_col14\" class=\"data row0 col14\" >167.000000</td>\n",
       "            </tr>\n",
       "            <tr>\n",
       "                        <th id=\"T_7c7eb_level0_row1\" class=\"row_heading level0 row1\" >211</th>\n",
       "                        <td id=\"T_7c7eb_row1_col0\" class=\"data row1 col0\" >Kia</td>\n",
       "                        <td id=\"T_7c7eb_row1_col1\" class=\"data row1 col1\" >Rio 4dr auto</td>\n",
       "                        <td id=\"T_7c7eb_row1_col2\" class=\"data row1 col2\" >Sedan</td>\n",
       "                        <td id=\"T_7c7eb_row1_col3\" class=\"data row1 col3\" >Asia</td>\n",
       "                        <td id=\"T_7c7eb_row1_col4\" class=\"data row1 col4\" >Front</td>\n",
       "                        <td id=\"T_7c7eb_row1_col5\" class=\"data row1 col5\" >11155.000000</td>\n",
       "                        <td id=\"T_7c7eb_row1_col6\" class=\"data row1 col6\" >10705.000000</td>\n",
       "                        <td id=\"T_7c7eb_row1_col7\" class=\"data row1 col7\" >1.600000</td>\n",
       "                        <td id=\"T_7c7eb_row1_col8\" class=\"data row1 col8\" >4.000000</td>\n",
       "                        <td id=\"T_7c7eb_row1_col9\" class=\"data row1 col9\" >104.000000</td>\n",
       "                        <td id=\"T_7c7eb_row1_col10\" class=\"data row1 col10\" >25.000000</td>\n",
       "                        <td id=\"T_7c7eb_row1_col11\" class=\"data row1 col11\" >32.000000</td>\n",
       "                        <td id=\"T_7c7eb_row1_col12\" class=\"data row1 col12\" >2458.000000</td>\n",
       "                        <td id=\"T_7c7eb_row1_col13\" class=\"data row1 col13\" >95.000000</td>\n",
       "                        <td id=\"T_7c7eb_row1_col14\" class=\"data row1 col14\" >167.000000</td>\n",
       "            </tr>\n",
       "            <tr>\n",
       "                        <th id=\"T_7c7eb_level0_row2\" class=\"row_heading level0 row2\" >218</th>\n",
       "                        <td id=\"T_7c7eb_row2_col0\" class=\"data row2 col0\" >Kia</td>\n",
       "                        <td id=\"T_7c7eb_row2_col1\" class=\"data row2 col1\" >Rio Cinco</td>\n",
       "                        <td id=\"T_7c7eb_row2_col2\" class=\"data row2 col2\" >Wagon</td>\n",
       "                        <td id=\"T_7c7eb_row2_col3\" class=\"data row2 col3\" >Asia</td>\n",
       "                        <td id=\"T_7c7eb_row2_col4\" class=\"data row2 col4\" >Front</td>\n",
       "                        <td id=\"T_7c7eb_row2_col5\" class=\"data row2 col5\" >11905.000000</td>\n",
       "                        <td id=\"T_7c7eb_row2_col6\" class=\"data row2 col6\" >11410.000000</td>\n",
       "                        <td id=\"T_7c7eb_row2_col7\" class=\"data row2 col7\" >1.600000</td>\n",
       "                        <td id=\"T_7c7eb_row2_col8\" class=\"data row2 col8\" >4.000000</td>\n",
       "                        <td id=\"T_7c7eb_row2_col9\" class=\"data row2 col9\" >104.000000</td>\n",
       "                        <td id=\"T_7c7eb_row2_col10\" class=\"data row2 col10\" >26.000000</td>\n",
       "                        <td id=\"T_7c7eb_row2_col11\" class=\"data row2 col11\" >33.000000</td>\n",
       "                        <td id=\"T_7c7eb_row2_col12\" class=\"data row2 col12\" >2447.000000</td>\n",
       "                        <td id=\"T_7c7eb_row2_col13\" class=\"data row2 col13\" >95.000000</td>\n",
       "                        <td id=\"T_7c7eb_row2_col14\" class=\"data row2 col14\" >167.000000</td>\n",
       "            </tr>\n",
       "            <tr>\n",
       "                        <th id=\"T_7c7eb_level0_row3\" class=\"row_heading level0 row3\" >212</th>\n",
       "                        <td id=\"T_7c7eb_row3_col0\" class=\"data row3 col0\" >Kia</td>\n",
       "                        <td id=\"T_7c7eb_row3_col1\" class=\"data row3 col1\" >Spectra 4dr</td>\n",
       "                        <td id=\"T_7c7eb_row3_col2\" class=\"data row3 col2\" >Sedan</td>\n",
       "                        <td id=\"T_7c7eb_row3_col3\" class=\"data row3 col3\" >Asia</td>\n",
       "                        <td id=\"T_7c7eb_row3_col4\" class=\"data row3 col4\" >Front</td>\n",
       "                        <td id=\"T_7c7eb_row3_col5\" class=\"data row3 col5\" >12360.000000</td>\n",
       "                        <td id=\"T_7c7eb_row3_col6\" class=\"data row3 col6\" >11630.000000</td>\n",
       "                        <td id=\"T_7c7eb_row3_col7\" class=\"data row3 col7\" >1.800000</td>\n",
       "                        <td id=\"T_7c7eb_row3_col8\" class=\"data row3 col8\" >4.000000</td>\n",
       "                        <td id=\"T_7c7eb_row3_col9\" class=\"data row3 col9\" >124.000000</td>\n",
       "                        <td id=\"T_7c7eb_row3_col10\" class=\"data row3 col10\" >24.000000</td>\n",
       "                        <td id=\"T_7c7eb_row3_col11\" class=\"data row3 col11\" >32.000000</td>\n",
       "                        <td id=\"T_7c7eb_row3_col12\" class=\"data row3 col12\" >2661.000000</td>\n",
       "                        <td id=\"T_7c7eb_row3_col13\" class=\"data row3 col13\" >101.000000</td>\n",
       "                        <td id=\"T_7c7eb_row3_col14\" class=\"data row3 col14\" >178.000000</td>\n",
       "            </tr>\n",
       "            <tr>\n",
       "                        <th id=\"T_7c7eb_level0_row4\" class=\"row_heading level0 row4\" >213</th>\n",
       "                        <td id=\"T_7c7eb_row4_col0\" class=\"data row4 col0\" >Kia</td>\n",
       "                        <td id=\"T_7c7eb_row4_col1\" class=\"data row4 col1\" >Spectra GS 4dr hatch</td>\n",
       "                        <td id=\"T_7c7eb_row4_col2\" class=\"data row4 col2\" >Sedan</td>\n",
       "                        <td id=\"T_7c7eb_row4_col3\" class=\"data row4 col3\" >Asia</td>\n",
       "                        <td id=\"T_7c7eb_row4_col4\" class=\"data row4 col4\" >Front</td>\n",
       "                        <td id=\"T_7c7eb_row4_col5\" class=\"data row4 col5\" >13580.000000</td>\n",
       "                        <td id=\"T_7c7eb_row4_col6\" class=\"data row4 col6\" >12830.000000</td>\n",
       "                        <td id=\"T_7c7eb_row4_col7\" class=\"data row4 col7\" >1.800000</td>\n",
       "                        <td id=\"T_7c7eb_row4_col8\" class=\"data row4 col8\" >4.000000</td>\n",
       "                        <td id=\"T_7c7eb_row4_col9\" class=\"data row4 col9\" >124.000000</td>\n",
       "                        <td id=\"T_7c7eb_row4_col10\" class=\"data row4 col10\" >24.000000</td>\n",
       "                        <td id=\"T_7c7eb_row4_col11\" class=\"data row4 col11\" >32.000000</td>\n",
       "                        <td id=\"T_7c7eb_row4_col12\" class=\"data row4 col12\" >2686.000000</td>\n",
       "                        <td id=\"T_7c7eb_row4_col13\" class=\"data row4 col13\" >101.000000</td>\n",
       "                        <td id=\"T_7c7eb_row4_col14\" class=\"data row4 col14\" >178.000000</td>\n",
       "            </tr>\n",
       "            <tr>\n",
       "                        <th id=\"T_7c7eb_level0_row5\" class=\"row_heading level0 row5\" >214</th>\n",
       "                        <td id=\"T_7c7eb_row5_col0\" class=\"data row5 col0\" >Kia</td>\n",
       "                        <td id=\"T_7c7eb_row5_col1\" class=\"data row5 col1\" >Spectra GSX 4dr hatch</td>\n",
       "                        <td id=\"T_7c7eb_row5_col2\" class=\"data row5 col2\" >Sedan</td>\n",
       "                        <td id=\"T_7c7eb_row5_col3\" class=\"data row5 col3\" >Asia</td>\n",
       "                        <td id=\"T_7c7eb_row5_col4\" class=\"data row5 col4\" >Front</td>\n",
       "                        <td id=\"T_7c7eb_row5_col5\" class=\"data row5 col5\" >14630.000000</td>\n",
       "                        <td id=\"T_7c7eb_row5_col6\" class=\"data row5 col6\" >13790.000000</td>\n",
       "                        <td id=\"T_7c7eb_row5_col7\" class=\"data row5 col7\" >1.800000</td>\n",
       "                        <td id=\"T_7c7eb_row5_col8\" class=\"data row5 col8\" >4.000000</td>\n",
       "                        <td id=\"T_7c7eb_row5_col9\" class=\"data row5 col9\" >124.000000</td>\n",
       "                        <td id=\"T_7c7eb_row5_col10\" class=\"data row5 col10\" >24.000000</td>\n",
       "                        <td id=\"T_7c7eb_row5_col11\" class=\"data row5 col11\" >32.000000</td>\n",
       "                        <td id=\"T_7c7eb_row5_col12\" class=\"data row5 col12\" >2697.000000</td>\n",
       "                        <td id=\"T_7c7eb_row5_col13\" class=\"data row5 col13\" >101.000000</td>\n",
       "                        <td id=\"T_7c7eb_row5_col14\" class=\"data row5 col14\" >178.000000</td>\n",
       "            </tr>\n",
       "    </tbody></table>"
      ],
      "text/plain": [
       "<pandas.io.formats.style.Styler at 0x2a0ae44eeb8>"
      ]
     },
     "execution_count": 81,
     "metadata": {},
     "output_type": "execute_result"
    }
   ],
   "source": [
    "Kia = data[data['make'].str.contains('Kia')]\n",
    "kia = Kia.sort_values(by=['msrp'], ascending=False).nsmallest(6, 'msrp')\n",
    "kia_make = kia.style.background_gradient(cmap='Reds')\n",
    "kia_make"
   ]
  },
  {
   "cell_type": "markdown",
   "id": "devoted-arkansas",
   "metadata": {},
   "source": [
    "> **The Kia model Rio Rdr manual Sedan has the smallest MSRP. It has engine size of 1.6, horspower of 104 and 4 cylinders with a weight of 2403 and 95 wheelbase**"
   ]
  },
  {
   "cell_type": "code",
   "execution_count": 82,
   "id": "entitled-great",
   "metadata": {},
   "outputs": [
    {
     "data": {
      "text/html": [
       "<div>\n",
       "<style scoped>\n",
       "    .dataframe tbody tr th:only-of-type {\n",
       "        vertical-align: middle;\n",
       "    }\n",
       "\n",
       "    .dataframe tbody tr th {\n",
       "        vertical-align: top;\n",
       "    }\n",
       "\n",
       "    .dataframe thead th {\n",
       "        text-align: right;\n",
       "    }\n",
       "</style>\n",
       "<table border=\"1\" class=\"dataframe\">\n",
       "  <thead>\n",
       "    <tr style=\"text-align: right;\">\n",
       "      <th></th>\n",
       "      <th>make</th>\n",
       "      <th>model</th>\n",
       "      <th>type</th>\n",
       "      <th>origin</th>\n",
       "      <th>drivetrain</th>\n",
       "      <th>msrp</th>\n",
       "      <th>invoice</th>\n",
       "      <th>enginesize</th>\n",
       "      <th>cylinders</th>\n",
       "      <th>horsepower</th>\n",
       "      <th>mpg_city</th>\n",
       "      <th>mpg_highway</th>\n",
       "      <th>weight</th>\n",
       "      <th>wheelbase</th>\n",
       "      <th>length</th>\n",
       "    </tr>\n",
       "  </thead>\n",
       "  <tbody>\n",
       "    <tr>\n",
       "      <th>0</th>\n",
       "      <td>Acura</td>\n",
       "      <td>MDX</td>\n",
       "      <td>SUV</td>\n",
       "      <td>Asia</td>\n",
       "      <td>All</td>\n",
       "      <td>36945.0</td>\n",
       "      <td>33337.0</td>\n",
       "      <td>3.5</td>\n",
       "      <td>6.0</td>\n",
       "      <td>265.0</td>\n",
       "      <td>17.0</td>\n",
       "      <td>23.0</td>\n",
       "      <td>4451.0</td>\n",
       "      <td>106.0</td>\n",
       "      <td>189.0</td>\n",
       "    </tr>\n",
       "    <tr>\n",
       "      <th>1</th>\n",
       "      <td>Acura</td>\n",
       "      <td>RSX Type S 2dr</td>\n",
       "      <td>Sedan</td>\n",
       "      <td>Asia</td>\n",
       "      <td>Front</td>\n",
       "      <td>23820.0</td>\n",
       "      <td>21761.0</td>\n",
       "      <td>2.0</td>\n",
       "      <td>4.0</td>\n",
       "      <td>200.0</td>\n",
       "      <td>24.0</td>\n",
       "      <td>31.0</td>\n",
       "      <td>2778.0</td>\n",
       "      <td>101.0</td>\n",
       "      <td>172.0</td>\n",
       "    </tr>\n",
       "    <tr>\n",
       "      <th>2</th>\n",
       "      <td>Acura</td>\n",
       "      <td>TSX 4dr</td>\n",
       "      <td>Sedan</td>\n",
       "      <td>Asia</td>\n",
       "      <td>Front</td>\n",
       "      <td>26990.0</td>\n",
       "      <td>24647.0</td>\n",
       "      <td>2.4</td>\n",
       "      <td>4.0</td>\n",
       "      <td>200.0</td>\n",
       "      <td>22.0</td>\n",
       "      <td>29.0</td>\n",
       "      <td>3230.0</td>\n",
       "      <td>105.0</td>\n",
       "      <td>183.0</td>\n",
       "    </tr>\n",
       "    <tr>\n",
       "      <th>3</th>\n",
       "      <td>Acura</td>\n",
       "      <td>TL 4dr</td>\n",
       "      <td>Sedan</td>\n",
       "      <td>Asia</td>\n",
       "      <td>Front</td>\n",
       "      <td>33195.0</td>\n",
       "      <td>30299.0</td>\n",
       "      <td>3.2</td>\n",
       "      <td>6.0</td>\n",
       "      <td>270.0</td>\n",
       "      <td>20.0</td>\n",
       "      <td>28.0</td>\n",
       "      <td>3575.0</td>\n",
       "      <td>108.0</td>\n",
       "      <td>186.0</td>\n",
       "    </tr>\n",
       "    <tr>\n",
       "      <th>4</th>\n",
       "      <td>Acura</td>\n",
       "      <td>3.5 RL 4dr</td>\n",
       "      <td>Sedan</td>\n",
       "      <td>Asia</td>\n",
       "      <td>Front</td>\n",
       "      <td>43755.0</td>\n",
       "      <td>39014.0</td>\n",
       "      <td>3.5</td>\n",
       "      <td>6.0</td>\n",
       "      <td>225.0</td>\n",
       "      <td>18.0</td>\n",
       "      <td>24.0</td>\n",
       "      <td>3880.0</td>\n",
       "      <td>115.0</td>\n",
       "      <td>197.0</td>\n",
       "    </tr>\n",
       "  </tbody>\n",
       "</table>\n",
       "</div>"
      ],
      "text/plain": [
       "    make           model   type origin drivetrain     msrp  invoice  \\\n",
       "0  Acura             MDX    SUV   Asia        All  36945.0  33337.0   \n",
       "1  Acura  RSX Type S 2dr  Sedan   Asia      Front  23820.0  21761.0   \n",
       "2  Acura         TSX 4dr  Sedan   Asia      Front  26990.0  24647.0   \n",
       "3  Acura          TL 4dr  Sedan   Asia      Front  33195.0  30299.0   \n",
       "4  Acura      3.5 RL 4dr  Sedan   Asia      Front  43755.0  39014.0   \n",
       "\n",
       "   enginesize  cylinders  horsepower  mpg_city  mpg_highway  weight  \\\n",
       "0         3.5        6.0       265.0      17.0         23.0  4451.0   \n",
       "1         2.0        4.0       200.0      24.0         31.0  2778.0   \n",
       "2         2.4        4.0       200.0      22.0         29.0  3230.0   \n",
       "3         3.2        6.0       270.0      20.0         28.0  3575.0   \n",
       "4         3.5        6.0       225.0      18.0         24.0  3880.0   \n",
       "\n",
       "   wheelbase  length  \n",
       "0      106.0   189.0  \n",
       "1      101.0   172.0  \n",
       "2      105.0   183.0  \n",
       "3      108.0   186.0  \n",
       "4      115.0   197.0  "
      ]
     },
     "execution_count": 82,
     "metadata": {},
     "output_type": "execute_result"
    }
   ],
   "source": [
    "data.head()"
   ]
  },
  {
   "cell_type": "markdown",
   "id": "coated-black",
   "metadata": {},
   "source": [
    "### Correlation"
   ]
  },
  {
   "cell_type": "code",
   "execution_count": 84,
   "id": "pacific-token",
   "metadata": {},
   "outputs": [
    {
     "data": {
      "text/html": [
       "<style  type=\"text/css\" >\n",
       "#T_7402d_row0_col0,#T_7402d_row0_col1,#T_7402d_row1_col0,#T_7402d_row1_col1,#T_7402d_row2_col2,#T_7402d_row3_col3,#T_7402d_row4_col4,#T_7402d_row5_col5,#T_7402d_row6_col6,#T_7402d_row7_col7,#T_7402d_row8_col8,#T_7402d_row9_col9{\n",
       "            background-color:  #7f2704;\n",
       "            color:  #f1f1f1;\n",
       "        }#T_7402d_row0_col2{\n",
       "            background-color:  #d84801;\n",
       "            color:  #f1f1f1;\n",
       "        }#T_7402d_row0_col3,#T_7402d_row1_col3,#T_7402d_row8_col2,#T_7402d_row9_col2{\n",
       "            background-color:  #c84202;\n",
       "            color:  #f1f1f1;\n",
       "        }#T_7402d_row0_col4,#T_7402d_row1_col4{\n",
       "            background-color:  #9f3303;\n",
       "            color:  #f1f1f1;\n",
       "        }#T_7402d_row0_col5,#T_7402d_row8_col6{\n",
       "            background-color:  #fee2c6;\n",
       "            color:  #000000;\n",
       "        }#T_7402d_row0_col6{\n",
       "            background-color:  #fdd9b5;\n",
       "            color:  #000000;\n",
       "        }#T_7402d_row0_col7{\n",
       "            background-color:  #e45709;\n",
       "            color:  #000000;\n",
       "        }#T_7402d_row0_col8,#T_7402d_row1_col8,#T_7402d_row1_col9{\n",
       "            background-color:  #fd9c51;\n",
       "            color:  #000000;\n",
       "        }#T_7402d_row0_col9{\n",
       "            background-color:  #fd9b50;\n",
       "            color:  #000000;\n",
       "        }#T_7402d_row1_col2{\n",
       "            background-color:  #d94801;\n",
       "            color:  #f1f1f1;\n",
       "        }#T_7402d_row1_col5{\n",
       "            background-color:  #fee1c4;\n",
       "            color:  #000000;\n",
       "        }#T_7402d_row1_col6{\n",
       "            background-color:  #fdd9b4;\n",
       "            color:  #000000;\n",
       "        }#T_7402d_row1_col7{\n",
       "            background-color:  #e4580a;\n",
       "            color:  #000000;\n",
       "        }#T_7402d_row2_col0{\n",
       "            background-color:  #e15307;\n",
       "            color:  #000000;\n",
       "        }#T_7402d_row2_col1{\n",
       "            background-color:  #e15407;\n",
       "            color:  #000000;\n",
       "        }#T_7402d_row2_col3,#T_7402d_row3_col2{\n",
       "            background-color:  #8f2d04;\n",
       "            color:  #f1f1f1;\n",
       "        }#T_7402d_row2_col4{\n",
       "            background-color:  #a53603;\n",
       "            color:  #f1f1f1;\n",
       "        }#T_7402d_row2_col5{\n",
       "            background-color:  #fff4e8;\n",
       "            color:  #000000;\n",
       "        }#T_7402d_row2_col6,#T_7402d_row4_col5{\n",
       "            background-color:  #fff1e3;\n",
       "            color:  #000000;\n",
       "        }#T_7402d_row2_col7{\n",
       "            background-color:  #a03403;\n",
       "            color:  #f1f1f1;\n",
       "        }#T_7402d_row2_col8,#T_7402d_row3_col0{\n",
       "            background-color:  #d34601;\n",
       "            color:  #f1f1f1;\n",
       "        }#T_7402d_row2_col9,#T_7402d_row3_col1{\n",
       "            background-color:  #d54601;\n",
       "            color:  #f1f1f1;\n",
       "        }#T_7402d_row3_col4,#T_7402d_row4_col3,#T_7402d_row7_col2{\n",
       "            background-color:  #a13403;\n",
       "            color:  #f1f1f1;\n",
       "        }#T_7402d_row3_col5{\n",
       "            background-color:  #fff1e4;\n",
       "            color:  #000000;\n",
       "        }#T_7402d_row3_col6{\n",
       "            background-color:  #feeddc;\n",
       "            color:  #000000;\n",
       "        }#T_7402d_row3_col7{\n",
       "            background-color:  #ad3803;\n",
       "            color:  #f1f1f1;\n",
       "        }#T_7402d_row3_col8,#T_7402d_row3_col9{\n",
       "            background-color:  #e25508;\n",
       "            color:  #000000;\n",
       "        }#T_7402d_row4_col0{\n",
       "            background-color:  #a23503;\n",
       "            color:  #f1f1f1;\n",
       "        }#T_7402d_row4_col1,#T_7402d_row4_col2{\n",
       "            background-color:  #a43503;\n",
       "            color:  #f1f1f1;\n",
       "        }#T_7402d_row4_col6{\n",
       "            background-color:  #feecd9;\n",
       "            color:  #000000;\n",
       "        }#T_7402d_row4_col7,#T_7402d_row7_col9{\n",
       "            background-color:  #c64102;\n",
       "            color:  #f1f1f1;\n",
       "        }#T_7402d_row4_col8{\n",
       "            background-color:  #f3701b;\n",
       "            color:  #000000;\n",
       "        }#T_7402d_row4_col9{\n",
       "            background-color:  #f5741f;\n",
       "            color:  #000000;\n",
       "        }#T_7402d_row5_col0,#T_7402d_row5_col1,#T_7402d_row5_col3,#T_7402d_row5_col4,#T_7402d_row5_col9,#T_7402d_row6_col2,#T_7402d_row6_col7,#T_7402d_row6_col8,#T_7402d_row7_col5,#T_7402d_row7_col6{\n",
       "            background-color:  #fff5eb;\n",
       "            color:  #000000;\n",
       "        }#T_7402d_row5_col2,#T_7402d_row6_col3{\n",
       "            background-color:  #fff5ea;\n",
       "            color:  #000000;\n",
       "        }#T_7402d_row5_col6,#T_7402d_row6_col5{\n",
       "            background-color:  #892b04;\n",
       "            color:  #f1f1f1;\n",
       "        }#T_7402d_row5_col7{\n",
       "            background-color:  #fff2e5;\n",
       "            color:  #000000;\n",
       "        }#T_7402d_row5_col8{\n",
       "            background-color:  #fff4e9;\n",
       "            color:  #000000;\n",
       "        }#T_7402d_row6_col0,#T_7402d_row6_col1,#T_7402d_row6_col9{\n",
       "            background-color:  #fff2e6;\n",
       "            color:  #000000;\n",
       "        }#T_7402d_row6_col4{\n",
       "            background-color:  #fff3e7;\n",
       "            color:  #000000;\n",
       "        }#T_7402d_row7_col0{\n",
       "            background-color:  #f16813;\n",
       "            color:  #000000;\n",
       "        }#T_7402d_row7_col1{\n",
       "            background-color:  #f26b15;\n",
       "            color:  #000000;\n",
       "        }#T_7402d_row7_col3{\n",
       "            background-color:  #b13a03;\n",
       "            color:  #f1f1f1;\n",
       "        }#T_7402d_row7_col4{\n",
       "            background-color:  #cd4401;\n",
       "            color:  #f1f1f1;\n",
       "        }#T_7402d_row7_col8{\n",
       "            background-color:  #b33b02;\n",
       "            color:  #f1f1f1;\n",
       "        }#T_7402d_row8_col0{\n",
       "            background-color:  #fda159;\n",
       "            color:  #000000;\n",
       "        }#T_7402d_row8_col1{\n",
       "            background-color:  #fda25a;\n",
       "            color:  #000000;\n",
       "        }#T_7402d_row8_col3,#T_7402d_row9_col3{\n",
       "            background-color:  #dc4c03;\n",
       "            color:  #f1f1f1;\n",
       "        }#T_7402d_row8_col4{\n",
       "            background-color:  #ef6612;\n",
       "            color:  #000000;\n",
       "        }#T_7402d_row8_col5,#T_7402d_row9_col5{\n",
       "            background-color:  #fee5cb;\n",
       "            color:  #000000;\n",
       "        }#T_7402d_row8_col7{\n",
       "            background-color:  #a93703;\n",
       "            color:  #f1f1f1;\n",
       "        }#T_7402d_row8_col9,#T_7402d_row9_col8{\n",
       "            background-color:  #952f03;\n",
       "            color:  #f1f1f1;\n",
       "        }#T_7402d_row9_col0{\n",
       "            background-color:  #fd9d53;\n",
       "            color:  #000000;\n",
       "        }#T_7402d_row9_col1{\n",
       "            background-color:  #fd9f56;\n",
       "            color:  #000000;\n",
       "        }#T_7402d_row9_col4{\n",
       "            background-color:  #f06712;\n",
       "            color:  #000000;\n",
       "        }#T_7402d_row9_col6{\n",
       "            background-color:  #fedcbb;\n",
       "            color:  #000000;\n",
       "        }#T_7402d_row9_col7{\n",
       "            background-color:  #b93d02;\n",
       "            color:  #f1f1f1;\n",
       "        }</style><table id=\"T_7402d_\" ><thead>    <tr>        <th class=\"blank level0\" ></th>        <th class=\"col_heading level0 col0\" >msrp</th>        <th class=\"col_heading level0 col1\" >invoice</th>        <th class=\"col_heading level0 col2\" >enginesize</th>        <th class=\"col_heading level0 col3\" >cylinders</th>        <th class=\"col_heading level0 col4\" >horsepower</th>        <th class=\"col_heading level0 col5\" >mpg_city</th>        <th class=\"col_heading level0 col6\" >mpg_highway</th>        <th class=\"col_heading level0 col7\" >weight</th>        <th class=\"col_heading level0 col8\" >wheelbase</th>        <th class=\"col_heading level0 col9\" >length</th>    </tr></thead><tbody>\n",
       "                <tr>\n",
       "                        <th id=\"T_7402d_level0_row0\" class=\"row_heading level0 row0\" >msrp</th>\n",
       "                        <td id=\"T_7402d_row0_col0\" class=\"data row0 col0\" >1.000000</td>\n",
       "                        <td id=\"T_7402d_row0_col1\" class=\"data row0 col1\" >0.999132</td>\n",
       "                        <td id=\"T_7402d_row0_col2\" class=\"data row0 col2\" >0.573238</td>\n",
       "                        <td id=\"T_7402d_row0_col3\" class=\"data row0 col3\" >0.649742</td>\n",
       "                        <td id=\"T_7402d_row0_col4\" class=\"data row0 col4\" >0.827296</td>\n",
       "                        <td id=\"T_7402d_row0_col5\" class=\"data row0 col5\" >-0.475916</td>\n",
       "                        <td id=\"T_7402d_row0_col6\" class=\"data row0 col6\" >-0.440523</td>\n",
       "                        <td id=\"T_7402d_row0_col7\" class=\"data row0 col7\" >0.447987</td>\n",
       "                        <td id=\"T_7402d_row0_col8\" class=\"data row0 col8\" >0.151665</td>\n",
       "                        <td id=\"T_7402d_row0_col9\" class=\"data row0 col9\" >0.171060</td>\n",
       "            </tr>\n",
       "            <tr>\n",
       "                        <th id=\"T_7402d_level0_row1\" class=\"row_heading level0 row1\" >invoice</th>\n",
       "                        <td id=\"T_7402d_row1_col0\" class=\"data row1 col0\" >0.999132</td>\n",
       "                        <td id=\"T_7402d_row1_col1\" class=\"data row1 col1\" >1.000000</td>\n",
       "                        <td id=\"T_7402d_row1_col2\" class=\"data row1 col2\" >0.566019</td>\n",
       "                        <td id=\"T_7402d_row1_col3\" class=\"data row1 col3\" >0.645226</td>\n",
       "                        <td id=\"T_7402d_row1_col4\" class=\"data row1 col4\" >0.824079</td>\n",
       "                        <td id=\"T_7402d_row1_col5\" class=\"data row1 col5\" >-0.471304</td>\n",
       "                        <td id=\"T_7402d_row1_col6\" class=\"data row1 col6\" >-0.435452</td>\n",
       "                        <td id=\"T_7402d_row1_col7\" class=\"data row1 col7\" >0.441916</td>\n",
       "                        <td id=\"T_7402d_row1_col8\" class=\"data row1 col8\" >0.148003</td>\n",
       "                        <td id=\"T_7402d_row1_col9\" class=\"data row1 col9\" >0.165645</td>\n",
       "            </tr>\n",
       "            <tr>\n",
       "                        <th id=\"T_7402d_level0_row2\" class=\"row_heading level0 row2\" >enginesize</th>\n",
       "                        <td id=\"T_7402d_row2_col0\" class=\"data row2 col0\" >0.573238</td>\n",
       "                        <td id=\"T_7402d_row2_col1\" class=\"data row2 col1\" >0.566019</td>\n",
       "                        <td id=\"T_7402d_row2_col2\" class=\"data row2 col2\" >1.000000</td>\n",
       "                        <td id=\"T_7402d_row2_col3\" class=\"data row2 col3\" >0.908002</td>\n",
       "                        <td id=\"T_7402d_row2_col4\" class=\"data row2 col4\" >0.793250</td>\n",
       "                        <td id=\"T_7402d_row2_col5\" class=\"data row2 col5\" >-0.717860</td>\n",
       "                        <td id=\"T_7402d_row2_col6\" class=\"data row2 col6\" >-0.725901</td>\n",
       "                        <td id=\"T_7402d_row2_col7\" class=\"data row2 col7\" >0.808707</td>\n",
       "                        <td id=\"T_7402d_row2_col8\" class=\"data row2 col8\" >0.638947</td>\n",
       "                        <td id=\"T_7402d_row2_col9\" class=\"data row2 col9\" >0.636015</td>\n",
       "            </tr>\n",
       "            <tr>\n",
       "                        <th id=\"T_7402d_level0_row3\" class=\"row_heading level0 row3\" >cylinders</th>\n",
       "                        <td id=\"T_7402d_row3_col0\" class=\"data row3 col0\" >0.649742</td>\n",
       "                        <td id=\"T_7402d_row3_col1\" class=\"data row3 col1\" >0.645226</td>\n",
       "                        <td id=\"T_7402d_row3_col2\" class=\"data row3 col2\" >0.908002</td>\n",
       "                        <td id=\"T_7402d_row3_col3\" class=\"data row3 col3\" >1.000000</td>\n",
       "                        <td id=\"T_7402d_row3_col4\" class=\"data row3 col4\" >0.810341</td>\n",
       "                        <td id=\"T_7402d_row3_col5\" class=\"data row3 col5\" >-0.684402</td>\n",
       "                        <td id=\"T_7402d_row3_col6\" class=\"data row3 col6\" >-0.676100</td>\n",
       "                        <td id=\"T_7402d_row3_col7\" class=\"data row3 col7\" >0.742209</td>\n",
       "                        <td id=\"T_7402d_row3_col8\" class=\"data row3 col8\" >0.546730</td>\n",
       "                        <td id=\"T_7402d_row3_col9\" class=\"data row3 col9\" >0.547783</td>\n",
       "            </tr>\n",
       "            <tr>\n",
       "                        <th id=\"T_7402d_level0_row4\" class=\"row_heading level0 row4\" >horsepower</th>\n",
       "                        <td id=\"T_7402d_row4_col0\" class=\"data row4 col0\" >0.827296</td>\n",
       "                        <td id=\"T_7402d_row4_col1\" class=\"data row4 col1\" >0.824079</td>\n",
       "                        <td id=\"T_7402d_row4_col2\" class=\"data row4 col2\" >0.793250</td>\n",
       "                        <td id=\"T_7402d_row4_col3\" class=\"data row4 col3\" >0.810341</td>\n",
       "                        <td id=\"T_7402d_row4_col4\" class=\"data row4 col4\" >1.000000</td>\n",
       "                        <td id=\"T_7402d_row4_col5\" class=\"data row4 col5\" >-0.677034</td>\n",
       "                        <td id=\"T_7402d_row4_col6\" class=\"data row4 col6\" >-0.647425</td>\n",
       "                        <td id=\"T_7402d_row4_col7\" class=\"data row4 col7\" >0.631758</td>\n",
       "                        <td id=\"T_7402d_row4_col8\" class=\"data row4 col8\" >0.387561</td>\n",
       "                        <td id=\"T_7402d_row4_col9\" class=\"data row4 col9\" >0.382386</td>\n",
       "            </tr>\n",
       "            <tr>\n",
       "                        <th id=\"T_7402d_level0_row5\" class=\"row_heading level0 row5\" >mpg_city</th>\n",
       "                        <td id=\"T_7402d_row5_col0\" class=\"data row5 col0\" >-0.475916</td>\n",
       "                        <td id=\"T_7402d_row5_col1\" class=\"data row5 col1\" >-0.471304</td>\n",
       "                        <td id=\"T_7402d_row5_col2\" class=\"data row5 col2\" >-0.717860</td>\n",
       "                        <td id=\"T_7402d_row5_col3\" class=\"data row5 col3\" >-0.684402</td>\n",
       "                        <td id=\"T_7402d_row5_col4\" class=\"data row5 col4\" >-0.677034</td>\n",
       "                        <td id=\"T_7402d_row5_col5\" class=\"data row5 col5\" >1.000000</td>\n",
       "                        <td id=\"T_7402d_row5_col6\" class=\"data row5 col6\" >0.940993</td>\n",
       "                        <td id=\"T_7402d_row5_col7\" class=\"data row5 col7\" >-0.740418</td>\n",
       "                        <td id=\"T_7402d_row5_col8\" class=\"data row5 col8\" >-0.508029</td>\n",
       "                        <td id=\"T_7402d_row5_col9\" class=\"data row5 col9\" >-0.504184</td>\n",
       "            </tr>\n",
       "            <tr>\n",
       "                        <th id=\"T_7402d_level0_row6\" class=\"row_heading level0 row6\" >mpg_highway</th>\n",
       "                        <td id=\"T_7402d_row6_col0\" class=\"data row6 col0\" >-0.440523</td>\n",
       "                        <td id=\"T_7402d_row6_col1\" class=\"data row6 col1\" >-0.435452</td>\n",
       "                        <td id=\"T_7402d_row6_col2\" class=\"data row6 col2\" >-0.725901</td>\n",
       "                        <td id=\"T_7402d_row6_col3\" class=\"data row6 col3\" >-0.676100</td>\n",
       "                        <td id=\"T_7402d_row6_col4\" class=\"data row6 col4\" >-0.647425</td>\n",
       "                        <td id=\"T_7402d_row6_col5\" class=\"data row6 col5\" >0.940993</td>\n",
       "                        <td id=\"T_7402d_row6_col6\" class=\"data row6 col6\" >1.000000</td>\n",
       "                        <td id=\"T_7402d_row6_col7\" class=\"data row6 col7\" >-0.793615</td>\n",
       "                        <td id=\"T_7402d_row6_col8\" class=\"data row6 col8\" >-0.525457</td>\n",
       "                        <td id=\"T_7402d_row6_col9\" class=\"data row6 col9\" >-0.468756</td>\n",
       "            </tr>\n",
       "            <tr>\n",
       "                        <th id=\"T_7402d_level0_row7\" class=\"row_heading level0 row7\" >weight</th>\n",
       "                        <td id=\"T_7402d_row7_col0\" class=\"data row7 col0\" >0.447987</td>\n",
       "                        <td id=\"T_7402d_row7_col1\" class=\"data row7 col1\" >0.441916</td>\n",
       "                        <td id=\"T_7402d_row7_col2\" class=\"data row7 col2\" >0.808707</td>\n",
       "                        <td id=\"T_7402d_row7_col3\" class=\"data row7 col3\" >0.742209</td>\n",
       "                        <td id=\"T_7402d_row7_col4\" class=\"data row7 col4\" >0.631758</td>\n",
       "                        <td id=\"T_7402d_row7_col5\" class=\"data row7 col5\" >-0.740418</td>\n",
       "                        <td id=\"T_7402d_row7_col6\" class=\"data row7 col6\" >-0.793615</td>\n",
       "                        <td id=\"T_7402d_row7_col7\" class=\"data row7 col7\" >1.000000</td>\n",
       "                        <td id=\"T_7402d_row7_col8\" class=\"data row7 col8\" >0.760857</td>\n",
       "                        <td id=\"T_7402d_row7_col9\" class=\"data row7 col9\" >0.689168</td>\n",
       "            </tr>\n",
       "            <tr>\n",
       "                        <th id=\"T_7402d_level0_row8\" class=\"row_heading level0 row8\" >wheelbase</th>\n",
       "                        <td id=\"T_7402d_row8_col0\" class=\"data row8 col0\" >0.151665</td>\n",
       "                        <td id=\"T_7402d_row8_col1\" class=\"data row8 col1\" >0.148003</td>\n",
       "                        <td id=\"T_7402d_row8_col2\" class=\"data row8 col2\" >0.638947</td>\n",
       "                        <td id=\"T_7402d_row8_col3\" class=\"data row8 col3\" >0.546730</td>\n",
       "                        <td id=\"T_7402d_row8_col4\" class=\"data row8 col4\" >0.387561</td>\n",
       "                        <td id=\"T_7402d_row8_col5\" class=\"data row8 col5\" >-0.508029</td>\n",
       "                        <td id=\"T_7402d_row8_col6\" class=\"data row8 col6\" >-0.525457</td>\n",
       "                        <td id=\"T_7402d_row8_col7\" class=\"data row8 col7\" >0.760857</td>\n",
       "                        <td id=\"T_7402d_row8_col8\" class=\"data row8 col8\" >1.000000</td>\n",
       "                        <td id=\"T_7402d_row8_col9\" class=\"data row8 col9\" >0.889838</td>\n",
       "            </tr>\n",
       "            <tr>\n",
       "                        <th id=\"T_7402d_level0_row9\" class=\"row_heading level0 row9\" >length</th>\n",
       "                        <td id=\"T_7402d_row9_col0\" class=\"data row9 col0\" >0.171060</td>\n",
       "                        <td id=\"T_7402d_row9_col1\" class=\"data row9 col1\" >0.165645</td>\n",
       "                        <td id=\"T_7402d_row9_col2\" class=\"data row9 col2\" >0.636015</td>\n",
       "                        <td id=\"T_7402d_row9_col3\" class=\"data row9 col3\" >0.547783</td>\n",
       "                        <td id=\"T_7402d_row9_col4\" class=\"data row9 col4\" >0.382386</td>\n",
       "                        <td id=\"T_7402d_row9_col5\" class=\"data row9 col5\" >-0.504184</td>\n",
       "                        <td id=\"T_7402d_row9_col6\" class=\"data row9 col6\" >-0.468756</td>\n",
       "                        <td id=\"T_7402d_row9_col7\" class=\"data row9 col7\" >0.689168</td>\n",
       "                        <td id=\"T_7402d_row9_col8\" class=\"data row9 col8\" >0.889838</td>\n",
       "                        <td id=\"T_7402d_row9_col9\" class=\"data row9 col9\" >1.000000</td>\n",
       "            </tr>\n",
       "    </tbody></table>"
      ],
      "text/plain": [
       "<pandas.io.formats.style.Styler at 0x2a0af5df630>"
      ]
     },
     "execution_count": 84,
     "metadata": {},
     "output_type": "execute_result"
    }
   ],
   "source": [
    "corr = data[num_cols].corr()\n",
    "corr.style.background_gradient(cmap='Oranges')"
   ]
  },
  {
   "cell_type": "markdown",
   "id": "equivalent-waters",
   "metadata": {},
   "source": [
    "### Distribution"
   ]
  },
  {
   "cell_type": "code",
   "execution_count": 94,
   "id": "hazardous-statistics",
   "metadata": {},
   "outputs": [
    {
     "name": "stderr",
     "output_type": "stream",
     "text": [
      "c:\\users\\user\\appdata\\local\\programs\\python\\python37\\lib\\site-packages\\seaborn\\distributions.py:2557: FutureWarning: `distplot` is a deprecated function and will be removed in a future version. Please adapt your code to use either `displot` (a figure-level function with similar flexibility) or `histplot` (an axes-level function for histograms).\n",
      "  warnings.warn(msg, FutureWarning)\n",
      "c:\\users\\user\\appdata\\local\\programs\\python\\python37\\lib\\site-packages\\seaborn\\distributions.py:2557: FutureWarning: `distplot` is a deprecated function and will be removed in a future version. Please adapt your code to use either `displot` (a figure-level function with similar flexibility) or `histplot` (an axes-level function for histograms).\n",
      "  warnings.warn(msg, FutureWarning)\n",
      "c:\\users\\user\\appdata\\local\\programs\\python\\python37\\lib\\site-packages\\seaborn\\distributions.py:2557: FutureWarning: `distplot` is a deprecated function and will be removed in a future version. Please adapt your code to use either `displot` (a figure-level function with similar flexibility) or `histplot` (an axes-level function for histograms).\n",
      "  warnings.warn(msg, FutureWarning)\n",
      "c:\\users\\user\\appdata\\local\\programs\\python\\python37\\lib\\site-packages\\seaborn\\distributions.py:2557: FutureWarning: `distplot` is a deprecated function and will be removed in a future version. Please adapt your code to use either `displot` (a figure-level function with similar flexibility) or `histplot` (an axes-level function for histograms).\n",
      "  warnings.warn(msg, FutureWarning)\n",
      "c:\\users\\user\\appdata\\local\\programs\\python\\python37\\lib\\site-packages\\seaborn\\distributions.py:2557: FutureWarning: `distplot` is a deprecated function and will be removed in a future version. Please adapt your code to use either `displot` (a figure-level function with similar flexibility) or `histplot` (an axes-level function for histograms).\n",
      "  warnings.warn(msg, FutureWarning)\n",
      "c:\\users\\user\\appdata\\local\\programs\\python\\python37\\lib\\site-packages\\seaborn\\distributions.py:2557: FutureWarning: `distplot` is a deprecated function and will be removed in a future version. Please adapt your code to use either `displot` (a figure-level function with similar flexibility) or `histplot` (an axes-level function for histograms).\n",
      "  warnings.warn(msg, FutureWarning)\n",
      "c:\\users\\user\\appdata\\local\\programs\\python\\python37\\lib\\site-packages\\seaborn\\distributions.py:2557: FutureWarning: `distplot` is a deprecated function and will be removed in a future version. Please adapt your code to use either `displot` (a figure-level function with similar flexibility) or `histplot` (an axes-level function for histograms).\n",
      "  warnings.warn(msg, FutureWarning)\n",
      "c:\\users\\user\\appdata\\local\\programs\\python\\python37\\lib\\site-packages\\seaborn\\distributions.py:2557: FutureWarning: `distplot` is a deprecated function and will be removed in a future version. Please adapt your code to use either `displot` (a figure-level function with similar flexibility) or `histplot` (an axes-level function for histograms).\n",
      "  warnings.warn(msg, FutureWarning)\n",
      "c:\\users\\user\\appdata\\local\\programs\\python\\python37\\lib\\site-packages\\seaborn\\distributions.py:2557: FutureWarning: `distplot` is a deprecated function and will be removed in a future version. Please adapt your code to use either `displot` (a figure-level function with similar flexibility) or `histplot` (an axes-level function for histograms).\n",
      "  warnings.warn(msg, FutureWarning)\n"
     ]
    },
    {
     "data": {
      "image/png": "[encoded data removed]",
      "text/plain": [
       "<Figure size 1008x432 with 9 Axes>"
      ]
     },
     "metadata": {},
     "output_type": "display_data"
    }
   ],
   "source": [
    "plt.figure(1, figsize=(14,6))\n",
    "n=0\n",
    "for x in ['msrp', 'invoice', 'enginesize', 'weight', 'cylinders', 'mpg_city', 'mpg_highway', 'wheelbase', 'length']:\n",
    "    n += 1\n",
    "    plt.subplot(3, 3, n)\n",
    "    plt.subplots_adjust(hspace=1, wspace=.5)\n",
    "    sns.distplot(data[x], bins=20)\n",
    "    plt.title('Display of {}'.format(x))\n",
    "plt.show()"
   ]
  },
  {
   "cell_type": "markdown",
   "id": "answering-constant",
   "metadata": {},
   "source": [
    "### Relationship between variables"
   ]
  },
  {
   "cell_type": "code",
   "execution_count": 103,
   "id": "double-particle",
   "metadata": {},
   "outputs": [
    {
     "data": {
      "image/png": "[encoded data removed]",
      "text/plain": [
       "<Figure size 576x396 with 1 Axes>"
      ]
     },
     "metadata": {},
     "output_type": "display_data"
    }
   ],
   "source": [
    "sns.scatterplot(data=data, x='msrp', y='horsepower')\n",
    "plt.title('Relationship between Horsepower and MSRP', fontsize=13, weight='bold')\n",
    "plt.xticks(fontsize=13, weight='bold')\n",
    "plt.yticks(fontsize=13, weight='bold')\n",
    "plt.xlabel('msrp',weight='bold', fontsize=13)\n",
    "plt.ylabel('horsepower',weight='bold', fontsize=13)\n",
    "plt.show()"
   ]
  },
  {
   "cell_type": "markdown",
   "id": "suffering-railway",
   "metadata": {},
   "source": [
    "##### How Origin is correlated to MSRP"
   ]
  },
  {
   "cell_type": "code",
   "execution_count": 104,
   "id": "yellow-image",
   "metadata": {},
   "outputs": [
    {
     "data": {
      "image/png": "[encoded data removed]",
      "text/plain": [
       "<Figure size 1008x432 with 1 Axes>"
      ]
     },
     "metadata": {},
     "output_type": "display_data"
    }
   ],
   "source": [
    "fig = plt.figure(figsize=(14, 6))\n",
    "sns.boxplot(x='origin', y='msrp', data=data)\n",
    "plt.show()"
   ]
  },
  {
   "cell_type": "markdown",
   "id": "marked-netherlands",
   "metadata": {},
   "source": [
    "> **Cars from Europe contribute more to MSRP**"
   ]
  },
  {
   "cell_type": "markdown",
   "id": "impossible-disclosure",
   "metadata": {},
   "source": [
    "##### How type is correlated to MSRP"
   ]
  },
  {
   "cell_type": "code",
   "execution_count": 109,
   "id": "seeing-bachelor",
   "metadata": {},
   "outputs": [
    {
     "data": {
      "image/png": "[encoded data removed]",
      "text/plain": [
       "<Figure size 1008x432 with 1 Axes>"
      ]
     },
     "metadata": {},
     "output_type": "display_data"
    }
   ],
   "source": [
    "fig = plt.figure(figsize=(14, 6))\n",
    "sns.barplot(x='type', y='msrp', data=data)\n",
    "plt.title('Relationship between Type and MSRP', fontsize=13, weight='bold')\n",
    "plt.xticks(fontsize=13, weight='bold')\n",
    "plt.yticks(fontsize=13, weight='bold')\n",
    "plt.xlabel('Type',weight='bold', fontsize=13)\n",
    "plt.ylabel('MSRP',weight='bold', fontsize=13)\n",
    "plt.show()"
   ]
  },
  {
   "cell_type": "markdown",
   "id": "broken-blend",
   "metadata": {},
   "source": [
    "> **Sports type contribute more to MSRP, then SUV and Sedan**"
   ]
  },
  {
   "cell_type": "code",
   "execution_count": 113,
   "id": "statewide-barrel",
   "metadata": {},
   "outputs": [
    {
     "data": {
      "image/png": "[encoded data removed]",
      "text/plain": [
       "<Figure size 1008x1008 with 1 Axes>"
      ]
     },
     "metadata": {},
     "output_type": "display_data"
    }
   ],
   "source": [
    "fig = plt.figure(figsize=(14, 14))\n",
    "sns.barplot(y='make', x='msrp', data=data, )\n",
    "plt.title('Relationship between Make and MSRP', fontsize=13, weight='bold')\n",
    "plt.xticks(fontsize=13, weight='bold')\n",
    "plt.yticks(fontsize=13, weight='bold')\n",
    "plt.xlabel('MSRP',weight='bold', fontsize=13)\n",
    "plt.ylabel('MAKE',weight='bold', fontsize=13)\n",
    "plt.show()"
   ]
  },
  {
   "cell_type": "markdown",
   "id": "prescribed-legislation",
   "metadata": {},
   "source": [
    "> **Using mean estimator, Porsche contributes more to MSRP, followd by Jaguar and Mercedes-Benz**"
   ]
  },
  {
   "cell_type": "code",
   "execution_count": 114,
   "id": "rental-programmer",
   "metadata": {},
   "outputs": [
    {
     "data": {
      "image/png": "[encoded data removed]",
      "text/plain": [
       "<Figure size 1008x432 with 1 Axes>"
      ]
     },
     "metadata": {},
     "output_type": "display_data"
    }
   ],
   "source": [
    "fig = plt.figure(figsize=(14, 6))\n",
    "sns.barplot(y='drivetrain', x='msrp', data=data)\n",
    "plt.title('Relationship between Drive Train and MSRP', fontsize=13, weight='bold')\n",
    "plt.xticks(fontsize=13, weight='bold')\n",
    "plt.yticks(fontsize=13, weight='bold')\n",
    "plt.xlabel('MSRP',weight='bold', fontsize=13)\n",
    "plt.ylabel('Drive Train',weight='bold', fontsize=13)\n",
    "plt.show()"
   ]
  },
  {
   "cell_type": "markdown",
   "id": "formed-syndication",
   "metadata": {},
   "source": [
    "> **Rear Drive Train contributes more to MRSP**"
   ]
  },
  {
   "cell_type": "code",
   "execution_count": null,
   "id": "stainless-british",
   "metadata": {},
   "outputs": [],
   "source": []
  },
  {
   "cell_type": "markdown",
   "id": "international-motion",
   "metadata": {},
   "source": [
    "### X/y split"
   ]
  },
  {
   "cell_type": "code",
   "execution_count": 115,
   "id": "intended-patrick",
   "metadata": {},
   "outputs": [
    {
     "data": {
      "text/html": [
       "<div>\n",
       "<style scoped>\n",
       "    .dataframe tbody tr th:only-of-type {\n",
       "        vertical-align: middle;\n",
       "    }\n",
       "\n",
       "    .dataframe tbody tr th {\n",
       "        vertical-align: top;\n",
       "    }\n",
       "\n",
       "    .dataframe thead th {\n",
       "        text-align: right;\n",
       "    }\n",
       "</style>\n",
       "<table border=\"1\" class=\"dataframe\">\n",
       "  <thead>\n",
       "    <tr style=\"text-align: right;\">\n",
       "      <th></th>\n",
       "      <th>make</th>\n",
       "      <th>model</th>\n",
       "      <th>type</th>\n",
       "      <th>origin</th>\n",
       "      <th>drivetrain</th>\n",
       "      <th>msrp</th>\n",
       "      <th>invoice</th>\n",
       "      <th>enginesize</th>\n",
       "      <th>cylinders</th>\n",
       "      <th>horsepower</th>\n",
       "      <th>mpg_city</th>\n",
       "      <th>mpg_highway</th>\n",
       "      <th>weight</th>\n",
       "      <th>wheelbase</th>\n",
       "      <th>length</th>\n",
       "    </tr>\n",
       "  </thead>\n",
       "  <tbody>\n",
       "    <tr>\n",
       "      <th>0</th>\n",
       "      <td>Acura</td>\n",
       "      <td>MDX</td>\n",
       "      <td>SUV</td>\n",
       "      <td>Asia</td>\n",
       "      <td>All</td>\n",
       "      <td>36945.0</td>\n",
       "      <td>33337.0</td>\n",
       "      <td>3.5</td>\n",
       "      <td>6.0</td>\n",
       "      <td>265.0</td>\n",
       "      <td>17.0</td>\n",
       "      <td>23.0</td>\n",
       "      <td>4451.0</td>\n",
       "      <td>106.0</td>\n",
       "      <td>189.0</td>\n",
       "    </tr>\n",
       "    <tr>\n",
       "      <th>1</th>\n",
       "      <td>Acura</td>\n",
       "      <td>RSX Type S 2dr</td>\n",
       "      <td>Sedan</td>\n",
       "      <td>Asia</td>\n",
       "      <td>Front</td>\n",
       "      <td>23820.0</td>\n",
       "      <td>21761.0</td>\n",
       "      <td>2.0</td>\n",
       "      <td>4.0</td>\n",
       "      <td>200.0</td>\n",
       "      <td>24.0</td>\n",
       "      <td>31.0</td>\n",
       "      <td>2778.0</td>\n",
       "      <td>101.0</td>\n",
       "      <td>172.0</td>\n",
       "    </tr>\n",
       "    <tr>\n",
       "      <th>2</th>\n",
       "      <td>Acura</td>\n",
       "      <td>TSX 4dr</td>\n",
       "      <td>Sedan</td>\n",
       "      <td>Asia</td>\n",
       "      <td>Front</td>\n",
       "      <td>26990.0</td>\n",
       "      <td>24647.0</td>\n",
       "      <td>2.4</td>\n",
       "      <td>4.0</td>\n",
       "      <td>200.0</td>\n",
       "      <td>22.0</td>\n",
       "      <td>29.0</td>\n",
       "      <td>3230.0</td>\n",
       "      <td>105.0</td>\n",
       "      <td>183.0</td>\n",
       "    </tr>\n",
       "    <tr>\n",
       "      <th>3</th>\n",
       "      <td>Acura</td>\n",
       "      <td>TL 4dr</td>\n",
       "      <td>Sedan</td>\n",
       "      <td>Asia</td>\n",
       "      <td>Front</td>\n",
       "      <td>33195.0</td>\n",
       "      <td>30299.0</td>\n",
       "      <td>3.2</td>\n",
       "      <td>6.0</td>\n",
       "      <td>270.0</td>\n",
       "      <td>20.0</td>\n",
       "      <td>28.0</td>\n",
       "      <td>3575.0</td>\n",
       "      <td>108.0</td>\n",
       "      <td>186.0</td>\n",
       "    </tr>\n",
       "    <tr>\n",
       "      <th>4</th>\n",
       "      <td>Acura</td>\n",
       "      <td>3.5 RL 4dr</td>\n",
       "      <td>Sedan</td>\n",
       "      <td>Asia</td>\n",
       "      <td>Front</td>\n",
       "      <td>43755.0</td>\n",
       "      <td>39014.0</td>\n",
       "      <td>3.5</td>\n",
       "      <td>6.0</td>\n",
       "      <td>225.0</td>\n",
       "      <td>18.0</td>\n",
       "      <td>24.0</td>\n",
       "      <td>3880.0</td>\n",
       "      <td>115.0</td>\n",
       "      <td>197.0</td>\n",
       "    </tr>\n",
       "  </tbody>\n",
       "</table>\n",
       "</div>"
      ],
      "text/plain": [
       "    make           model   type origin drivetrain     msrp  invoice  \\\n",
       "0  Acura             MDX    SUV   Asia        All  36945.0  33337.0   \n",
       "1  Acura  RSX Type S 2dr  Sedan   Asia      Front  23820.0  21761.0   \n",
       "2  Acura         TSX 4dr  Sedan   Asia      Front  26990.0  24647.0   \n",
       "3  Acura          TL 4dr  Sedan   Asia      Front  33195.0  30299.0   \n",
       "4  Acura      3.5 RL 4dr  Sedan   Asia      Front  43755.0  39014.0   \n",
       "\n",
       "   enginesize  cylinders  horsepower  mpg_city  mpg_highway  weight  \\\n",
       "0         3.5        6.0       265.0      17.0         23.0  4451.0   \n",
       "1         2.0        4.0       200.0      24.0         31.0  2778.0   \n",
       "2         2.4        4.0       200.0      22.0         29.0  3230.0   \n",
       "3         3.2        6.0       270.0      20.0         28.0  3575.0   \n",
       "4         3.5        6.0       225.0      18.0         24.0  3880.0   \n",
       "\n",
       "   wheelbase  length  \n",
       "0      106.0   189.0  \n",
       "1      101.0   172.0  \n",
       "2      105.0   183.0  \n",
       "3      108.0   186.0  \n",
       "4      115.0   197.0  "
      ]
     },
     "execution_count": 115,
     "metadata": {},
     "output_type": "execute_result"
    }
   ],
   "source": [
    "data.head()"
   ]
  },
  {
   "cell_type": "code",
   "execution_count": 117,
   "id": "everyday-establishment",
   "metadata": {},
   "outputs": [],
   "source": [
    "X = data.drop(['model', 'msrp'], axis=1)\n",
    "y = data.msrp"
   ]
  },
  {
   "cell_type": "code",
   "execution_count": 118,
   "id": "amended-timing",
   "metadata": {},
   "outputs": [
    {
     "data": {
      "text/html": [
       "<div>\n",
       "<style scoped>\n",
       "    .dataframe tbody tr th:only-of-type {\n",
       "        vertical-align: middle;\n",
       "    }\n",
       "\n",
       "    .dataframe tbody tr th {\n",
       "        vertical-align: top;\n",
       "    }\n",
       "\n",
       "    .dataframe thead th {\n",
       "        text-align: right;\n",
       "    }\n",
       "</style>\n",
       "<table border=\"1\" class=\"dataframe\">\n",
       "  <thead>\n",
       "    <tr style=\"text-align: right;\">\n",
       "      <th></th>\n",
       "      <th>make</th>\n",
       "      <th>type</th>\n",
       "      <th>origin</th>\n",
       "      <th>drivetrain</th>\n",
       "      <th>invoice</th>\n",
       "      <th>enginesize</th>\n",
       "      <th>cylinders</th>\n",
       "      <th>horsepower</th>\n",
       "      <th>mpg_city</th>\n",
       "      <th>mpg_highway</th>\n",
       "      <th>weight</th>\n",
       "      <th>wheelbase</th>\n",
       "      <th>length</th>\n",
       "    </tr>\n",
       "  </thead>\n",
       "  <tbody>\n",
       "    <tr>\n",
       "      <th>0</th>\n",
       "      <td>Acura</td>\n",
       "      <td>SUV</td>\n",
       "      <td>Asia</td>\n",
       "      <td>All</td>\n",
       "      <td>33337.0</td>\n",
       "      <td>3.5</td>\n",
       "      <td>6.0</td>\n",
       "      <td>265.0</td>\n",
       "      <td>17.0</td>\n",
       "      <td>23.0</td>\n",
       "      <td>4451.0</td>\n",
       "      <td>106.0</td>\n",
       "      <td>189.0</td>\n",
       "    </tr>\n",
       "    <tr>\n",
       "      <th>1</th>\n",
       "      <td>Acura</td>\n",
       "      <td>Sedan</td>\n",
       "      <td>Asia</td>\n",
       "      <td>Front</td>\n",
       "      <td>21761.0</td>\n",
       "      <td>2.0</td>\n",
       "      <td>4.0</td>\n",
       "      <td>200.0</td>\n",
       "      <td>24.0</td>\n",
       "      <td>31.0</td>\n",
       "      <td>2778.0</td>\n",
       "      <td>101.0</td>\n",
       "      <td>172.0</td>\n",
       "    </tr>\n",
       "    <tr>\n",
       "      <th>2</th>\n",
       "      <td>Acura</td>\n",
       "      <td>Sedan</td>\n",
       "      <td>Asia</td>\n",
       "      <td>Front</td>\n",
       "      <td>24647.0</td>\n",
       "      <td>2.4</td>\n",
       "      <td>4.0</td>\n",
       "      <td>200.0</td>\n",
       "      <td>22.0</td>\n",
       "      <td>29.0</td>\n",
       "      <td>3230.0</td>\n",
       "      <td>105.0</td>\n",
       "      <td>183.0</td>\n",
       "    </tr>\n",
       "    <tr>\n",
       "      <th>3</th>\n",
       "      <td>Acura</td>\n",
       "      <td>Sedan</td>\n",
       "      <td>Asia</td>\n",
       "      <td>Front</td>\n",
       "      <td>30299.0</td>\n",
       "      <td>3.2</td>\n",
       "      <td>6.0</td>\n",
       "      <td>270.0</td>\n",
       "      <td>20.0</td>\n",
       "      <td>28.0</td>\n",
       "      <td>3575.0</td>\n",
       "      <td>108.0</td>\n",
       "      <td>186.0</td>\n",
       "    </tr>\n",
       "    <tr>\n",
       "      <th>4</th>\n",
       "      <td>Acura</td>\n",
       "      <td>Sedan</td>\n",
       "      <td>Asia</td>\n",
       "      <td>Front</td>\n",
       "      <td>39014.0</td>\n",
       "      <td>3.5</td>\n",
       "      <td>6.0</td>\n",
       "      <td>225.0</td>\n",
       "      <td>18.0</td>\n",
       "      <td>24.0</td>\n",
       "      <td>3880.0</td>\n",
       "      <td>115.0</td>\n",
       "      <td>197.0</td>\n",
       "    </tr>\n",
       "  </tbody>\n",
       "</table>\n",
       "</div>"
      ],
      "text/plain": [
       "    make   type origin drivetrain  invoice  enginesize  cylinders  horsepower  \\\n",
       "0  Acura    SUV   Asia        All  33337.0         3.5        6.0       265.0   \n",
       "1  Acura  Sedan   Asia      Front  21761.0         2.0        4.0       200.0   \n",
       "2  Acura  Sedan   Asia      Front  24647.0         2.4        4.0       200.0   \n",
       "3  Acura  Sedan   Asia      Front  30299.0         3.2        6.0       270.0   \n",
       "4  Acura  Sedan   Asia      Front  39014.0         3.5        6.0       225.0   \n",
       "\n",
       "   mpg_city  mpg_highway  weight  wheelbase  length  \n",
       "0      17.0         23.0  4451.0      106.0   189.0  \n",
       "1      24.0         31.0  2778.0      101.0   172.0  \n",
       "2      22.0         29.0  3230.0      105.0   183.0  \n",
       "3      20.0         28.0  3575.0      108.0   186.0  \n",
       "4      18.0         24.0  3880.0      115.0   197.0  "
      ]
     },
     "execution_count": 118,
     "metadata": {},
     "output_type": "execute_result"
    }
   ],
   "source": [
    "X.head()"
   ]
  },
  {
   "cell_type": "markdown",
   "id": "protecting-exception",
   "metadata": {},
   "source": [
    "##### Label encode all Categorical Values"
   ]
  },
  {
   "cell_type": "code",
   "execution_count": 123,
   "id": "paperback-pipeline",
   "metadata": {},
   "outputs": [
    {
     "data": {
      "text/plain": [
       "Index(['make', 'type', 'origin', 'drivetrain'], dtype='object')"
      ]
     },
     "execution_count": 123,
     "metadata": {},
     "output_type": "execute_result"
    }
   ],
   "source": [
    "X.select_dtypes(include='object').columns"
   ]
  },
  {
   "cell_type": "code",
   "execution_count": 127,
   "id": "productive-clear",
   "metadata": {},
   "outputs": [
    {
     "data": {
      "text/html": [
       "<div>\n",
       "<style scoped>\n",
       "    .dataframe tbody tr th:only-of-type {\n",
       "        vertical-align: middle;\n",
       "    }\n",
       "\n",
       "    .dataframe tbody tr th {\n",
       "        vertical-align: top;\n",
       "    }\n",
       "\n",
       "    .dataframe thead th {\n",
       "        text-align: right;\n",
       "    }\n",
       "</style>\n",
       "<table border=\"1\" class=\"dataframe\">\n",
       "  <thead>\n",
       "    <tr style=\"text-align: right;\">\n",
       "      <th></th>\n",
       "      <th>make</th>\n",
       "      <th>type</th>\n",
       "      <th>origin</th>\n",
       "      <th>drivetrain</th>\n",
       "      <th>invoice</th>\n",
       "      <th>enginesize</th>\n",
       "      <th>cylinders</th>\n",
       "      <th>horsepower</th>\n",
       "      <th>mpg_city</th>\n",
       "      <th>mpg_highway</th>\n",
       "      <th>weight</th>\n",
       "      <th>wheelbase</th>\n",
       "      <th>length</th>\n",
       "    </tr>\n",
       "  </thead>\n",
       "  <tbody>\n",
       "    <tr>\n",
       "      <th>0</th>\n",
       "      <td>0</td>\n",
       "      <td>1</td>\n",
       "      <td>0</td>\n",
       "      <td>0</td>\n",
       "      <td>33337.0</td>\n",
       "      <td>3.5</td>\n",
       "      <td>6.0</td>\n",
       "      <td>265.0</td>\n",
       "      <td>17.0</td>\n",
       "      <td>23.0</td>\n",
       "      <td>4451.0</td>\n",
       "      <td>106.0</td>\n",
       "      <td>189.0</td>\n",
       "    </tr>\n",
       "    <tr>\n",
       "      <th>1</th>\n",
       "      <td>0</td>\n",
       "      <td>2</td>\n",
       "      <td>0</td>\n",
       "      <td>1</td>\n",
       "      <td>21761.0</td>\n",
       "      <td>2.0</td>\n",
       "      <td>4.0</td>\n",
       "      <td>200.0</td>\n",
       "      <td>24.0</td>\n",
       "      <td>31.0</td>\n",
       "      <td>2778.0</td>\n",
       "      <td>101.0</td>\n",
       "      <td>172.0</td>\n",
       "    </tr>\n",
       "    <tr>\n",
       "      <th>2</th>\n",
       "      <td>0</td>\n",
       "      <td>2</td>\n",
       "      <td>0</td>\n",
       "      <td>1</td>\n",
       "      <td>24647.0</td>\n",
       "      <td>2.4</td>\n",
       "      <td>4.0</td>\n",
       "      <td>200.0</td>\n",
       "      <td>22.0</td>\n",
       "      <td>29.0</td>\n",
       "      <td>3230.0</td>\n",
       "      <td>105.0</td>\n",
       "      <td>183.0</td>\n",
       "    </tr>\n",
       "    <tr>\n",
       "      <th>3</th>\n",
       "      <td>0</td>\n",
       "      <td>2</td>\n",
       "      <td>0</td>\n",
       "      <td>1</td>\n",
       "      <td>30299.0</td>\n",
       "      <td>3.2</td>\n",
       "      <td>6.0</td>\n",
       "      <td>270.0</td>\n",
       "      <td>20.0</td>\n",
       "      <td>28.0</td>\n",
       "      <td>3575.0</td>\n",
       "      <td>108.0</td>\n",
       "      <td>186.0</td>\n",
       "    </tr>\n",
       "    <tr>\n",
       "      <th>4</th>\n",
       "      <td>0</td>\n",
       "      <td>2</td>\n",
       "      <td>0</td>\n",
       "      <td>1</td>\n",
       "      <td>39014.0</td>\n",
       "      <td>3.5</td>\n",
       "      <td>6.0</td>\n",
       "      <td>225.0</td>\n",
       "      <td>18.0</td>\n",
       "      <td>24.0</td>\n",
       "      <td>3880.0</td>\n",
       "      <td>115.0</td>\n",
       "      <td>197.0</td>\n",
       "    </tr>\n",
       "  </tbody>\n",
       "</table>\n",
       "</div>"
      ],
      "text/plain": [
       "   make  type  origin  drivetrain  invoice  enginesize  cylinders  horsepower  \\\n",
       "0     0     1       0           0  33337.0         3.5        6.0       265.0   \n",
       "1     0     2       0           1  21761.0         2.0        4.0       200.0   \n",
       "2     0     2       0           1  24647.0         2.4        4.0       200.0   \n",
       "3     0     2       0           1  30299.0         3.2        6.0       270.0   \n",
       "4     0     2       0           1  39014.0         3.5        6.0       225.0   \n",
       "\n",
       "   mpg_city  mpg_highway  weight  wheelbase  length  \n",
       "0      17.0         23.0  4451.0      106.0   189.0  \n",
       "1      24.0         31.0  2778.0      101.0   172.0  \n",
       "2      22.0         29.0  3230.0      105.0   183.0  \n",
       "3      20.0         28.0  3575.0      108.0   186.0  \n",
       "4      18.0         24.0  3880.0      115.0   197.0  "
      ]
     },
     "execution_count": 127,
     "metadata": {},
     "output_type": "execute_result"
    }
   ],
   "source": [
    "from sklearn.preprocessing import LabelEncoder\n",
    "\n",
    "LE = LabelEncoder()\n",
    "for col in ['make', 'type', 'origin', 'drivetrain']:\n",
    "    X[col] =  LE.fit_transform(X[col])\n",
    "X.head()"
   ]
  },
  {
   "cell_type": "code",
   "execution_count": null,
   "id": "unnecessary-ability",
   "metadata": {},
   "outputs": [],
   "source": []
  },
  {
   "cell_type": "markdown",
   "id": "correct-highway",
   "metadata": {},
   "source": [
    "## Predictive Modelling\n",
    "\n",
    "> Building predictive model for predicting MSRP (Manufacture's Suggested Retail Price)"
   ]
  },
  {
   "cell_type": "code",
   "execution_count": null,
   "id": "extreme-space",
   "metadata": {},
   "outputs": [],
   "source": []
  },
  {
   "cell_type": "markdown",
   "id": "focused-builder",
   "metadata": {},
   "source": [
    "### Train/Test split"
   ]
  },
  {
   "cell_type": "code",
   "execution_count": 128,
   "id": "backed-camcorder",
   "metadata": {},
   "outputs": [],
   "source": [
    "from sklearn.model_selection import train_test_split\n",
    "\n",
    "X_train, X_test, y_train, y_test = train_test_split(X, y, test_size=0.25, random_state=42)"
   ]
  },
  {
   "cell_type": "markdown",
   "id": "leading-student",
   "metadata": {},
   "source": [
    "### Build regression models\n",
    "\n",
    "- DecisionTreeRegressor\n",
    "- BaggingRegressor\n",
    "- RandomForestRegressor\n",
    "- VotingRegressor"
   ]
  },
  {
   "cell_type": "code",
   "execution_count": 121,
   "id": "painted-enforcement",
   "metadata": {},
   "outputs": [],
   "source": [
    "from sklearn.tree import DecisionTreeRegressor\n",
    "from sklearn.metrics import accuracy_score\n",
    "from sklearn.ensemble import VotingRegressor\n",
    "from sklearn.ensemble import BaggingRegressor\n",
    "from sklearn.ensemble import RandomForestRegressor\n",
    "from sklearn.model_selection import train_test_split\n",
    "from sklearn.metrics import mean_squared_error as MSE\n",
    "import math"
   ]
  },
  {
   "cell_type": "markdown",
   "id": "quantitative-internship",
   "metadata": {},
   "source": [
    "###### DecisionTreeRegressor, BaggingRegressor and RandomForestRegressor"
   ]
  },
  {
   "cell_type": "code",
   "execution_count": 129,
   "id": "strong-violence",
   "metadata": {},
   "outputs": [
    {
     "name": "stdout",
     "output_type": "stream",
     "text": [
      "---------- model: DT_Regressor-------------------\n",
      "Train score:  0.97\n",
      "Test score:  0.95\n",
      "MSE:  12401424.995695008\n",
      "R MSE:  3521.5657023112612\n",
      "\n",
      "---------- model: RF_Regressor-------------------\n",
      "Train score:  0.99\n",
      "Test score:  1.0\n",
      "MSE:  1134650.6468775065\n",
      "R MSE:  1065.1998154700866\n",
      "\n",
      "---------- model: Bagging_Regressor-------------------\n",
      "Train score:  0.99\n",
      "Test score:  1.0\n",
      "MSE:  1235061.876533878\n",
      "R MSE:  1111.3333777646912\n",
      "\n"
     ]
    }
   ],
   "source": [
    "dtree = DecisionTreeRegressor(max_depth=6, random_state=42)\n",
    "#prev maxdepth 6, nestimators 300\n",
    "models = [\n",
    "    (\"DT_Regressor\", DecisionTreeRegressor(max_depth=3, random_state=42)),\n",
    "    (\"RF_Regressor\", RandomForestRegressor(n_estimators=380, random_state=42)),\n",
    "    (\"Bagging_Regressor\", BaggingRegressor(base_estimator=dtree, n_estimators=200, oob_score=True)),\n",
    "]\n",
    "\n",
    "for name, model in models:\n",
    "    model.fit(X_train, y_train)\n",
    "    y_pred = model.predict(X_test)\n",
    "\n",
    "    print(\"---------- model: \" + name + \"-------------------\")\n",
    "    print('Train score: ', round(model.score(X_train, y_train), 2))\n",
    "    print('Test score: ', round(model.score(X_test, y_test), 2))\n",
    "    print('MSE: ', MSE(y_test, y_pred))\n",
    "    print('R MSE: ', math.sqrt(MSE(y_test, y_pred)))\n",
    "    print()"
   ]
  },
  {
   "cell_type": "markdown",
   "id": "wrapped-apartment",
   "metadata": {},
   "source": [
    "###### VotingRegressor"
   ]
  },
  {
   "cell_type": "code",
   "execution_count": 130,
   "id": "infectious-steel",
   "metadata": {},
   "outputs": [
    {
     "name": "stdout",
     "output_type": "stream",
     "text": [
      "Train score:  0.99\n",
      "Test score:  0.99\n",
      "MSE:  2615090.0137298116\n",
      "R MSE:  1617.1239945439595\n",
      "\n"
     ]
    }
   ],
   "source": [
    "vc = VotingRegressor(estimators=models)\n",
    "# Fit 'vc' to the traing set and predict test set labels\n",
    "vc.fit(X_train, y_train)\n",
    "y_pred = vc.predict(X_test)\n",
    "# Evaluate the test-set accuracy of 'vc'\n",
    "print('Train score: ', round(vc.score(X_train, y_train), 2))\n",
    "print('Test score: ', round(vc.score(X_test, y_test), 2))\n",
    "print('MSE: ', MSE(y_test, y_pred))\n",
    "print('R MSE: ', math.sqrt(MSE(y_test, y_pred)))\n",
    "print()"
   ]
  },
  {
   "cell_type": "code",
   "execution_count": null,
   "id": "anticipated-marketing",
   "metadata": {},
   "outputs": [],
   "source": []
  }
 ],
 "metadata": {
  "kernelspec": {
   "display_name": "Python 3",
   "language": "python",
   "name": "python3"
  },
  "language_info": {
   "codemirror_mode": {
    "name": "ipython",
    "version": 3
   },
   "file_extension": ".py",
   "mimetype": "text/x-python",
   "name": "python",
   "nbconvert_exporter": "python",
   "pygments_lexer": "ipython3",
   "version": "3.7.2"
  }
 },
 "nbformat": 4,
 "nbformat_minor": 5
}
